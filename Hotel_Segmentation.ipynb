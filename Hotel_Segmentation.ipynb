{
 "cells": [
  {
   "cell_type": "markdown",
   "metadata": {},
   "source": [
    "## BT4211 Group 9 Hotel Project "
   ]
  },
  {
   "cell_type": "markdown",
   "metadata": {},
   "source": [
    "### Clean the data"
   ]
  },
  {
   "cell_type": "code",
   "execution_count": 1,
   "metadata": {},
   "outputs": [],
   "source": [
    "import pandas as pd\n",
    "import numpy as np\n",
    "import matplotlib.pyplot as plt\n",
    "import seaborn as sns\n",
    "from sklearn.preprocessing import LabelEncoder\n",
    "from sklearn.model_selection import train_test_split\n",
    "from sklearn.tree import DecisionTreeClassifier, plot_tree\n",
    "from sklearn.metrics import accuracy_score, confusion_matrix, classification_report\n",
    "from sklearn.preprocessing import StandardScaler\n",
    "from sklearn.cluster import KMeans\n",
    "\n",
    "import warnings\n",
    "warnings.filterwarnings('ignore')"
   ]
  },
  {
   "cell_type": "code",
   "execution_count": 2,
   "metadata": {},
   "outputs": [
    {
     "data": {
      "text/html": [
       "<div>\n",
       "<style scoped>\n",
       "    .dataframe tbody tr th:only-of-type {\n",
       "        vertical-align: middle;\n",
       "    }\n",
       "\n",
       "    .dataframe tbody tr th {\n",
       "        vertical-align: top;\n",
       "    }\n",
       "\n",
       "    .dataframe thead th {\n",
       "        text-align: right;\n",
       "    }\n",
       "</style>\n",
       "<table border=\"1\" class=\"dataframe\">\n",
       "  <thead>\n",
       "    <tr style=\"text-align: right;\">\n",
       "      <th></th>\n",
       "      <th>Unnamed: 0</th>\n",
       "      <th>ID</th>\n",
       "      <th>Nationality</th>\n",
       "      <th>Age</th>\n",
       "      <th>DaysSinceCreation</th>\n",
       "      <th>NameHash</th>\n",
       "      <th>DocIDHash</th>\n",
       "      <th>AverageLeadTime</th>\n",
       "      <th>LodgingRevenue</th>\n",
       "      <th>OtherRevenue</th>\n",
       "      <th>...</th>\n",
       "      <th>DistributionChannel_Direct</th>\n",
       "      <th>DistributionChannel_Electronic Distribution</th>\n",
       "      <th>DistributionChannel_Travel Agent/Operator</th>\n",
       "      <th>MarketSegment_Aviation</th>\n",
       "      <th>MarketSegment_Complementary</th>\n",
       "      <th>MarketSegment_Corporate</th>\n",
       "      <th>MarketSegment_Direct</th>\n",
       "      <th>MarketSegment_Groups</th>\n",
       "      <th>MarketSegment_Other</th>\n",
       "      <th>MarketSegment_Travel Agent/Operator</th>\n",
       "    </tr>\n",
       "  </thead>\n",
       "  <tbody>\n",
       "    <tr>\n",
       "      <th>0</th>\n",
       "      <td>0</td>\n",
       "      <td>1</td>\n",
       "      <td>PRT</td>\n",
       "      <td>51.0</td>\n",
       "      <td>150</td>\n",
       "      <td>0x8E0A7AF39B633D5EA25C3B7EF4DFC5464B36DB7AF375...</td>\n",
       "      <td>0x71568459B729F7A7ABBED6C781A84CA4274D571003AC...</td>\n",
       "      <td>45</td>\n",
       "      <td>371.0</td>\n",
       "      <td>105.3</td>\n",
       "      <td>...</td>\n",
       "      <td>0</td>\n",
       "      <td>0</td>\n",
       "      <td>0</td>\n",
       "      <td>0</td>\n",
       "      <td>0</td>\n",
       "      <td>1</td>\n",
       "      <td>0</td>\n",
       "      <td>0</td>\n",
       "      <td>0</td>\n",
       "      <td>0</td>\n",
       "    </tr>\n",
       "    <tr>\n",
       "      <th>1</th>\n",
       "      <td>2</td>\n",
       "      <td>3</td>\n",
       "      <td>DEU</td>\n",
       "      <td>31.0</td>\n",
       "      <td>1095</td>\n",
       "      <td>0x31C5E4B74E23231295FDB724AD578C02C4A723F4BA2B...</td>\n",
       "      <td>0xC7CF344F5B03295037595B1337AC905CA188F1B5B3A5...</td>\n",
       "      <td>0</td>\n",
       "      <td>0.0</td>\n",
       "      <td>0.0</td>\n",
       "      <td>...</td>\n",
       "      <td>0</td>\n",
       "      <td>0</td>\n",
       "      <td>1</td>\n",
       "      <td>0</td>\n",
       "      <td>0</td>\n",
       "      <td>0</td>\n",
       "      <td>0</td>\n",
       "      <td>0</td>\n",
       "      <td>0</td>\n",
       "      <td>1</td>\n",
       "    </tr>\n",
       "    <tr>\n",
       "      <th>2</th>\n",
       "      <td>3</td>\n",
       "      <td>4</td>\n",
       "      <td>FRA</td>\n",
       "      <td>60.0</td>\n",
       "      <td>1095</td>\n",
       "      <td>0xFF534C83C0EF23D1CE516BC80A65D0197003D27937D4...</td>\n",
       "      <td>0xBD3823A9B4EC35D6CAF4B27AE423A677C0200DB61E82...</td>\n",
       "      <td>93</td>\n",
       "      <td>240.0</td>\n",
       "      <td>60.0</td>\n",
       "      <td>...</td>\n",
       "      <td>0</td>\n",
       "      <td>0</td>\n",
       "      <td>1</td>\n",
       "      <td>0</td>\n",
       "      <td>0</td>\n",
       "      <td>0</td>\n",
       "      <td>0</td>\n",
       "      <td>0</td>\n",
       "      <td>0</td>\n",
       "      <td>1</td>\n",
       "    </tr>\n",
       "    <tr>\n",
       "      <th>3</th>\n",
       "      <td>4</td>\n",
       "      <td>5</td>\n",
       "      <td>FRA</td>\n",
       "      <td>51.0</td>\n",
       "      <td>1095</td>\n",
       "      <td>0x9C1DEF02C9BE242842C1C1ABF2C5AA249A1EEB4763B4...</td>\n",
       "      <td>0xE175754CF77247B202DD0820F49407C762C14A603B3A...</td>\n",
       "      <td>0</td>\n",
       "      <td>0.0</td>\n",
       "      <td>0.0</td>\n",
       "      <td>...</td>\n",
       "      <td>0</td>\n",
       "      <td>0</td>\n",
       "      <td>1</td>\n",
       "      <td>0</td>\n",
       "      <td>0</td>\n",
       "      <td>0</td>\n",
       "      <td>0</td>\n",
       "      <td>0</td>\n",
       "      <td>0</td>\n",
       "      <td>1</td>\n",
       "    </tr>\n",
       "    <tr>\n",
       "      <th>4</th>\n",
       "      <td>5</td>\n",
       "      <td>6</td>\n",
       "      <td>JPN</td>\n",
       "      <td>54.0</td>\n",
       "      <td>1095</td>\n",
       "      <td>0x6E70C1504EB27252542F58E4D3C8C83516E093334721...</td>\n",
       "      <td>0xE82EC1D6938A04CF19E1F7F55A402E7ABC686261537A...</td>\n",
       "      <td>58</td>\n",
       "      <td>230.0</td>\n",
       "      <td>24.0</td>\n",
       "      <td>...</td>\n",
       "      <td>0</td>\n",
       "      <td>0</td>\n",
       "      <td>1</td>\n",
       "      <td>0</td>\n",
       "      <td>0</td>\n",
       "      <td>0</td>\n",
       "      <td>0</td>\n",
       "      <td>0</td>\n",
       "      <td>1</td>\n",
       "      <td>0</td>\n",
       "    </tr>\n",
       "  </tbody>\n",
       "</table>\n",
       "<p>5 rows × 49 columns</p>\n",
       "</div>"
      ],
      "text/plain": [
       "   Unnamed: 0  ID Nationality   Age  DaysSinceCreation  \\\n",
       "0           0   1         PRT  51.0                150   \n",
       "1           2   3         DEU  31.0               1095   \n",
       "2           3   4         FRA  60.0               1095   \n",
       "3           4   5         FRA  51.0               1095   \n",
       "4           5   6         JPN  54.0               1095   \n",
       "\n",
       "                                            NameHash  \\\n",
       "0  0x8E0A7AF39B633D5EA25C3B7EF4DFC5464B36DB7AF375...   \n",
       "1  0x31C5E4B74E23231295FDB724AD578C02C4A723F4BA2B...   \n",
       "2  0xFF534C83C0EF23D1CE516BC80A65D0197003D27937D4...   \n",
       "3  0x9C1DEF02C9BE242842C1C1ABF2C5AA249A1EEB4763B4...   \n",
       "4  0x6E70C1504EB27252542F58E4D3C8C83516E093334721...   \n",
       "\n",
       "                                           DocIDHash  AverageLeadTime  \\\n",
       "0  0x71568459B729F7A7ABBED6C781A84CA4274D571003AC...               45   \n",
       "1  0xC7CF344F5B03295037595B1337AC905CA188F1B5B3A5...                0   \n",
       "2  0xBD3823A9B4EC35D6CAF4B27AE423A677C0200DB61E82...               93   \n",
       "3  0xE175754CF77247B202DD0820F49407C762C14A603B3A...                0   \n",
       "4  0xE82EC1D6938A04CF19E1F7F55A402E7ABC686261537A...               58   \n",
       "\n",
       "   LodgingRevenue  OtherRevenue  ...  DistributionChannel_Direct  \\\n",
       "0           371.0         105.3  ...                           0   \n",
       "1             0.0           0.0  ...                           0   \n",
       "2           240.0          60.0  ...                           0   \n",
       "3             0.0           0.0  ...                           0   \n",
       "4           230.0          24.0  ...                           0   \n",
       "\n",
       "   DistributionChannel_Electronic Distribution  \\\n",
       "0                                            0   \n",
       "1                                            0   \n",
       "2                                            0   \n",
       "3                                            0   \n",
       "4                                            0   \n",
       "\n",
       "   DistributionChannel_Travel Agent/Operator  MarketSegment_Aviation  \\\n",
       "0                                          0                       0   \n",
       "1                                          1                       0   \n",
       "2                                          1                       0   \n",
       "3                                          1                       0   \n",
       "4                                          1                       0   \n",
       "\n",
       "   MarketSegment_Complementary  MarketSegment_Corporate  MarketSegment_Direct  \\\n",
       "0                            0                        1                     0   \n",
       "1                            0                        0                     0   \n",
       "2                            0                        0                     0   \n",
       "3                            0                        0                     0   \n",
       "4                            0                        0                     0   \n",
       "\n",
       "   MarketSegment_Groups  MarketSegment_Other  \\\n",
       "0                     0                    0   \n",
       "1                     0                    0   \n",
       "2                     0                    0   \n",
       "3                     0                    0   \n",
       "4                     0                    1   \n",
       "\n",
       "   MarketSegment_Travel Agent/Operator  \n",
       "0                                    0  \n",
       "1                                    1  \n",
       "2                                    1  \n",
       "3                                    1  \n",
       "4                                    0  \n",
       "\n",
       "[5 rows x 49 columns]"
      ]
     },
     "execution_count": 2,
     "metadata": {},
     "output_type": "execute_result"
    }
   ],
   "source": [
    "df = pd.read_csv('HotelCustomersDataset_Cleaned.csv')\n",
    "df.head()"
   ]
  },
  {
   "cell_type": "code",
   "execution_count": 3,
   "metadata": {},
   "outputs": [
    {
     "data": {
      "text/plain": [
       "(75397, 49)"
      ]
     },
     "execution_count": 3,
     "metadata": {},
     "output_type": "execute_result"
    }
   ],
   "source": [
    "df.shape"
   ]
  },
  {
   "cell_type": "code",
   "execution_count": 4,
   "metadata": {},
   "outputs": [
    {
     "data": {
      "text/html": [
       "<div>\n",
       "<style scoped>\n",
       "    .dataframe tbody tr th:only-of-type {\n",
       "        vertical-align: middle;\n",
       "    }\n",
       "\n",
       "    .dataframe tbody tr th {\n",
       "        vertical-align: top;\n",
       "    }\n",
       "\n",
       "    .dataframe thead th {\n",
       "        text-align: right;\n",
       "    }\n",
       "</style>\n",
       "<table border=\"1\" class=\"dataframe\">\n",
       "  <thead>\n",
       "    <tr style=\"text-align: right;\">\n",
       "      <th></th>\n",
       "      <th>Unnamed: 0</th>\n",
       "      <th>ID</th>\n",
       "      <th>Age</th>\n",
       "      <th>DaysSinceCreation</th>\n",
       "      <th>AverageLeadTime</th>\n",
       "      <th>LodgingRevenue</th>\n",
       "      <th>OtherRevenue</th>\n",
       "      <th>BookingsCanceled</th>\n",
       "      <th>BookingsNoShowed</th>\n",
       "      <th>BookingsCheckedIn</th>\n",
       "      <th>...</th>\n",
       "      <th>DistributionChannel_Direct</th>\n",
       "      <th>DistributionChannel_Electronic Distribution</th>\n",
       "      <th>DistributionChannel_Travel Agent/Operator</th>\n",
       "      <th>MarketSegment_Aviation</th>\n",
       "      <th>MarketSegment_Complementary</th>\n",
       "      <th>MarketSegment_Corporate</th>\n",
       "      <th>MarketSegment_Direct</th>\n",
       "      <th>MarketSegment_Groups</th>\n",
       "      <th>MarketSegment_Other</th>\n",
       "      <th>MarketSegment_Travel Agent/Operator</th>\n",
       "    </tr>\n",
       "  </thead>\n",
       "  <tbody>\n",
       "    <tr>\n",
       "      <th>count</th>\n",
       "      <td>75397.000000</td>\n",
       "      <td>75397.000000</td>\n",
       "      <td>75397.00000</td>\n",
       "      <td>75397.000000</td>\n",
       "      <td>75397.000000</td>\n",
       "      <td>75397.000000</td>\n",
       "      <td>75397.000000</td>\n",
       "      <td>75397.000000</td>\n",
       "      <td>75397.000000</td>\n",
       "      <td>75397.000000</td>\n",
       "      <td>...</td>\n",
       "      <td>75397.000000</td>\n",
       "      <td>75397.000000</td>\n",
       "      <td>75397.000000</td>\n",
       "      <td>75397.000000</td>\n",
       "      <td>75397.000000</td>\n",
       "      <td>75397.000000</td>\n",
       "      <td>75397.000000</td>\n",
       "      <td>75397.000000</td>\n",
       "      <td>75397.000000</td>\n",
       "      <td>75397.000000</td>\n",
       "    </tr>\n",
       "    <tr>\n",
       "      <th>mean</th>\n",
       "      <td>41458.629853</td>\n",
       "      <td>41459.629853</td>\n",
       "      <td>47.43962</td>\n",
       "      <td>457.372482</td>\n",
       "      <td>69.406104</td>\n",
       "      <td>311.787922</td>\n",
       "      <td>70.174372</td>\n",
       "      <td>0.001950</td>\n",
       "      <td>0.000610</td>\n",
       "      <td>0.826638</td>\n",
       "      <td>...</td>\n",
       "      <td>0.136146</td>\n",
       "      <td>0.006525</td>\n",
       "      <td>0.826863</td>\n",
       "      <td>0.002958</td>\n",
       "      <td>0.005093</td>\n",
       "      <td>0.025147</td>\n",
       "      <td>0.131491</td>\n",
       "      <td>0.116583</td>\n",
       "      <td>0.573869</td>\n",
       "      <td>0.144860</td>\n",
       "    </tr>\n",
       "    <tr>\n",
       "      <th>std</th>\n",
       "      <td>23946.219003</td>\n",
       "      <td>23946.219003</td>\n",
       "      <td>14.63154</td>\n",
       "      <td>310.607758</td>\n",
       "      <td>88.717833</td>\n",
       "      <td>365.144705</td>\n",
       "      <td>112.928400</td>\n",
       "      <td>0.067813</td>\n",
       "      <td>0.029129</td>\n",
       "      <td>0.688431</td>\n",
       "      <td>...</td>\n",
       "      <td>0.342946</td>\n",
       "      <td>0.080517</td>\n",
       "      <td>0.378368</td>\n",
       "      <td>0.054304</td>\n",
       "      <td>0.071184</td>\n",
       "      <td>0.156572</td>\n",
       "      <td>0.337938</td>\n",
       "      <td>0.320925</td>\n",
       "      <td>0.494517</td>\n",
       "      <td>0.351962</td>\n",
       "    </tr>\n",
       "    <tr>\n",
       "      <th>min</th>\n",
       "      <td>0.000000</td>\n",
       "      <td>1.000000</td>\n",
       "      <td>18.00000</td>\n",
       "      <td>0.000000</td>\n",
       "      <td>-1.000000</td>\n",
       "      <td>0.000000</td>\n",
       "      <td>0.000000</td>\n",
       "      <td>0.000000</td>\n",
       "      <td>0.000000</td>\n",
       "      <td>0.000000</td>\n",
       "      <td>...</td>\n",
       "      <td>0.000000</td>\n",
       "      <td>0.000000</td>\n",
       "      <td>0.000000</td>\n",
       "      <td>0.000000</td>\n",
       "      <td>0.000000</td>\n",
       "      <td>0.000000</td>\n",
       "      <td>0.000000</td>\n",
       "      <td>0.000000</td>\n",
       "      <td>0.000000</td>\n",
       "      <td>0.000000</td>\n",
       "    </tr>\n",
       "    <tr>\n",
       "      <th>25%</th>\n",
       "      <td>20943.000000</td>\n",
       "      <td>20944.000000</td>\n",
       "      <td>36.00000</td>\n",
       "      <td>184.000000</td>\n",
       "      <td>1.000000</td>\n",
       "      <td>91.200000</td>\n",
       "      <td>7.000000</td>\n",
       "      <td>0.000000</td>\n",
       "      <td>0.000000</td>\n",
       "      <td>1.000000</td>\n",
       "      <td>...</td>\n",
       "      <td>0.000000</td>\n",
       "      <td>0.000000</td>\n",
       "      <td>1.000000</td>\n",
       "      <td>0.000000</td>\n",
       "      <td>0.000000</td>\n",
       "      <td>0.000000</td>\n",
       "      <td>0.000000</td>\n",
       "      <td>0.000000</td>\n",
       "      <td>0.000000</td>\n",
       "      <td>0.000000</td>\n",
       "    </tr>\n",
       "    <tr>\n",
       "      <th>50%</th>\n",
       "      <td>40780.000000</td>\n",
       "      <td>40781.000000</td>\n",
       "      <td>48.00000</td>\n",
       "      <td>414.000000</td>\n",
       "      <td>34.000000</td>\n",
       "      <td>246.900000</td>\n",
       "      <td>42.000000</td>\n",
       "      <td>0.000000</td>\n",
       "      <td>0.000000</td>\n",
       "      <td>1.000000</td>\n",
       "      <td>...</td>\n",
       "      <td>0.000000</td>\n",
       "      <td>0.000000</td>\n",
       "      <td>1.000000</td>\n",
       "      <td>0.000000</td>\n",
       "      <td>0.000000</td>\n",
       "      <td>0.000000</td>\n",
       "      <td>0.000000</td>\n",
       "      <td>0.000000</td>\n",
       "      <td>1.000000</td>\n",
       "      <td>0.000000</td>\n",
       "    </tr>\n",
       "    <tr>\n",
       "      <th>75%</th>\n",
       "      <td>61799.000000</td>\n",
       "      <td>61800.000000</td>\n",
       "      <td>58.00000</td>\n",
       "      <td>722.000000</td>\n",
       "      <td>108.000000</td>\n",
       "      <td>415.000000</td>\n",
       "      <td>91.000000</td>\n",
       "      <td>0.000000</td>\n",
       "      <td>0.000000</td>\n",
       "      <td>1.000000</td>\n",
       "      <td>...</td>\n",
       "      <td>0.000000</td>\n",
       "      <td>0.000000</td>\n",
       "      <td>1.000000</td>\n",
       "      <td>0.000000</td>\n",
       "      <td>0.000000</td>\n",
       "      <td>0.000000</td>\n",
       "      <td>0.000000</td>\n",
       "      <td>0.000000</td>\n",
       "      <td>1.000000</td>\n",
       "      <td>0.000000</td>\n",
       "    </tr>\n",
       "    <tr>\n",
       "      <th>max</th>\n",
       "      <td>83588.000000</td>\n",
       "      <td>83589.000000</td>\n",
       "      <td>122.00000</td>\n",
       "      <td>1095.000000</td>\n",
       "      <td>588.000000</td>\n",
       "      <td>9682.400000</td>\n",
       "      <td>7730.250000</td>\n",
       "      <td>9.000000</td>\n",
       "      <td>3.000000</td>\n",
       "      <td>66.000000</td>\n",
       "      <td>...</td>\n",
       "      <td>1.000000</td>\n",
       "      <td>1.000000</td>\n",
       "      <td>1.000000</td>\n",
       "      <td>1.000000</td>\n",
       "      <td>1.000000</td>\n",
       "      <td>1.000000</td>\n",
       "      <td>1.000000</td>\n",
       "      <td>1.000000</td>\n",
       "      <td>1.000000</td>\n",
       "      <td>1.000000</td>\n",
       "    </tr>\n",
       "  </tbody>\n",
       "</table>\n",
       "<p>8 rows × 46 columns</p>\n",
       "</div>"
      ],
      "text/plain": [
       "         Unnamed: 0            ID          Age  DaysSinceCreation  \\\n",
       "count  75397.000000  75397.000000  75397.00000       75397.000000   \n",
       "mean   41458.629853  41459.629853     47.43962         457.372482   \n",
       "std    23946.219003  23946.219003     14.63154         310.607758   \n",
       "min        0.000000      1.000000     18.00000           0.000000   \n",
       "25%    20943.000000  20944.000000     36.00000         184.000000   \n",
       "50%    40780.000000  40781.000000     48.00000         414.000000   \n",
       "75%    61799.000000  61800.000000     58.00000         722.000000   \n",
       "max    83588.000000  83589.000000    122.00000        1095.000000   \n",
       "\n",
       "       AverageLeadTime  LodgingRevenue  OtherRevenue  BookingsCanceled  \\\n",
       "count     75397.000000    75397.000000  75397.000000      75397.000000   \n",
       "mean         69.406104      311.787922     70.174372          0.001950   \n",
       "std          88.717833      365.144705    112.928400          0.067813   \n",
       "min          -1.000000        0.000000      0.000000          0.000000   \n",
       "25%           1.000000       91.200000      7.000000          0.000000   \n",
       "50%          34.000000      246.900000     42.000000          0.000000   \n",
       "75%         108.000000      415.000000     91.000000          0.000000   \n",
       "max         588.000000     9682.400000   7730.250000          9.000000   \n",
       "\n",
       "       BookingsNoShowed  BookingsCheckedIn  ...  DistributionChannel_Direct  \\\n",
       "count      75397.000000       75397.000000  ...                75397.000000   \n",
       "mean           0.000610           0.826638  ...                    0.136146   \n",
       "std            0.029129           0.688431  ...                    0.342946   \n",
       "min            0.000000           0.000000  ...                    0.000000   \n",
       "25%            0.000000           1.000000  ...                    0.000000   \n",
       "50%            0.000000           1.000000  ...                    0.000000   \n",
       "75%            0.000000           1.000000  ...                    0.000000   \n",
       "max            3.000000          66.000000  ...                    1.000000   \n",
       "\n",
       "       DistributionChannel_Electronic Distribution  \\\n",
       "count                                 75397.000000   \n",
       "mean                                      0.006525   \n",
       "std                                       0.080517   \n",
       "min                                       0.000000   \n",
       "25%                                       0.000000   \n",
       "50%                                       0.000000   \n",
       "75%                                       0.000000   \n",
       "max                                       1.000000   \n",
       "\n",
       "       DistributionChannel_Travel Agent/Operator  MarketSegment_Aviation  \\\n",
       "count                               75397.000000            75397.000000   \n",
       "mean                                    0.826863                0.002958   \n",
       "std                                     0.378368                0.054304   \n",
       "min                                     0.000000                0.000000   \n",
       "25%                                     1.000000                0.000000   \n",
       "50%                                     1.000000                0.000000   \n",
       "75%                                     1.000000                0.000000   \n",
       "max                                     1.000000                1.000000   \n",
       "\n",
       "       MarketSegment_Complementary  MarketSegment_Corporate  \\\n",
       "count                 75397.000000             75397.000000   \n",
       "mean                      0.005093                 0.025147   \n",
       "std                       0.071184                 0.156572   \n",
       "min                       0.000000                 0.000000   \n",
       "25%                       0.000000                 0.000000   \n",
       "50%                       0.000000                 0.000000   \n",
       "75%                       0.000000                 0.000000   \n",
       "max                       1.000000                 1.000000   \n",
       "\n",
       "       MarketSegment_Direct  MarketSegment_Groups  MarketSegment_Other  \\\n",
       "count          75397.000000          75397.000000         75397.000000   \n",
       "mean               0.131491              0.116583             0.573869   \n",
       "std                0.337938              0.320925             0.494517   \n",
       "min                0.000000              0.000000             0.000000   \n",
       "25%                0.000000              0.000000             0.000000   \n",
       "50%                0.000000              0.000000             1.000000   \n",
       "75%                0.000000              0.000000             1.000000   \n",
       "max                1.000000              1.000000             1.000000   \n",
       "\n",
       "       MarketSegment_Travel Agent/Operator  \n",
       "count                         75397.000000  \n",
       "mean                              0.144860  \n",
       "std                               0.351962  \n",
       "min                               0.000000  \n",
       "25%                               0.000000  \n",
       "50%                               0.000000  \n",
       "75%                               0.000000  \n",
       "max                               1.000000  \n",
       "\n",
       "[8 rows x 46 columns]"
      ]
     },
     "execution_count": 4,
     "metadata": {},
     "output_type": "execute_result"
    }
   ],
   "source": [
    "df.describe()"
   ]
  },
  {
   "cell_type": "code",
   "execution_count": 5,
   "metadata": {
    "scrolled": true
   },
   "outputs": [
    {
     "data": {
      "text/html": [
       "<div>\n",
       "<style scoped>\n",
       "    .dataframe tbody tr th:only-of-type {\n",
       "        vertical-align: middle;\n",
       "    }\n",
       "\n",
       "    .dataframe tbody tr th {\n",
       "        vertical-align: top;\n",
       "    }\n",
       "\n",
       "    .dataframe thead th {\n",
       "        text-align: right;\n",
       "    }\n",
       "</style>\n",
       "<table border=\"1\" class=\"dataframe\">\n",
       "  <thead>\n",
       "    <tr style=\"text-align: right;\">\n",
       "      <th></th>\n",
       "      <th>ID</th>\n",
       "      <th>Recency</th>\n",
       "      <th>Frequency</th>\n",
       "      <th>Monetary</th>\n",
       "    </tr>\n",
       "  </thead>\n",
       "  <tbody>\n",
       "    <tr>\n",
       "      <th>0</th>\n",
       "      <td>1</td>\n",
       "      <td>151</td>\n",
       "      <td>3</td>\n",
       "      <td>476.3</td>\n",
       "    </tr>\n",
       "    <tr>\n",
       "      <th>1</th>\n",
       "      <td>3</td>\n",
       "      <td>-1</td>\n",
       "      <td>0</td>\n",
       "      <td>0.0</td>\n",
       "    </tr>\n",
       "    <tr>\n",
       "      <th>2</th>\n",
       "      <td>4</td>\n",
       "      <td>1100</td>\n",
       "      <td>1</td>\n",
       "      <td>300.0</td>\n",
       "    </tr>\n",
       "    <tr>\n",
       "      <th>3</th>\n",
       "      <td>5</td>\n",
       "      <td>-1</td>\n",
       "      <td>0</td>\n",
       "      <td>0.0</td>\n",
       "    </tr>\n",
       "    <tr>\n",
       "      <th>4</th>\n",
       "      <td>6</td>\n",
       "      <td>1097</td>\n",
       "      <td>1</td>\n",
       "      <td>254.0</td>\n",
       "    </tr>\n",
       "  </tbody>\n",
       "</table>\n",
       "</div>"
      ],
      "text/plain": [
       "   ID  Recency  Frequency  Monetary\n",
       "0   1      151          3     476.3\n",
       "1   3       -1          0       0.0\n",
       "2   4     1100          1     300.0\n",
       "3   5       -1          0       0.0\n",
       "4   6     1097          1     254.0"
      ]
     },
     "execution_count": 5,
     "metadata": {},
     "output_type": "execute_result"
    }
   ],
   "source": [
    "# Create RFM_df\n",
    "RFM_df = df.assign(\n",
    "    Recency=df['DaysSinceLastStay'], \n",
    "    Frequency=df['BookingsCheckedIn'], \n",
    "    Monetary=df['LodgingRevenue'] + df['OtherRevenue'])\n",
    "RFM_df = RFM_df[['ID','Recency', 'Frequency', 'Monetary']]\n",
    "RFM_df.head()"
   ]
  },
  {
   "cell_type": "markdown",
   "metadata": {},
   "source": [
    "#### Investigate customers with `Monetary` = 0"
   ]
  },
  {
   "cell_type": "code",
   "execution_count": 6,
   "metadata": {},
   "outputs": [
    {
     "data": {
      "text/plain": [
       "0    15611\n",
       "1      177\n",
       "2        9\n",
       "4        2\n",
       "7        2\n",
       "3        2\n",
       "Name: Frequency, dtype: int64"
      ]
     },
     "execution_count": 6,
     "metadata": {},
     "output_type": "execute_result"
    }
   ],
   "source": [
    "# confirm whether customers with Monetary = 0 means they had never stayed at the hotel before\n",
    "RFM_df[RFM_df['Monetary']==0]['Frequency'].value_counts()"
   ]
  },
  {
   "cell_type": "code",
   "execution_count": 7,
   "metadata": {},
   "outputs": [
    {
     "data": {
      "text/plain": [
       "(15611, 4)"
      ]
     },
     "execution_count": 7,
     "metadata": {},
     "output_type": "execute_result"
    }
   ],
   "source": [
    "RFM_df[RFM_df['Recency']==-1].shape"
   ]
  },
  {
   "cell_type": "code",
   "execution_count": 8,
   "metadata": {},
   "outputs": [
    {
     "data": {
      "text/plain": [
       "MarketSegment_Complementary            166\n",
       "MarketSegment_Groups                    12\n",
       "MarketSegment_Direct                     8\n",
       "MarketSegment_Travel Agent/Operator      6\n",
       "dtype: int64"
      ]
     },
     "execution_count": 8,
     "metadata": {},
     "output_type": "execute_result"
    }
   ],
   "source": [
    "df['TotalRevenue'] = df['LodgingRevenue'] + df['OtherRevenue']\n",
    "df[(df['TotalRevenue']==0) & (df['DaysSinceFirstStay']!=-1)][['MarketSegment_Complementary','MarketSegment_Groups','MarketSegment_Direct','MarketSegment_Travel Agent/Operator']].sum()"
   ]
  },
  {
   "cell_type": "markdown",
   "metadata": {},
   "source": [
    "- Confirmed that majority, but not all customers with `Monetary` = 0 means they never stayed at the hotel before.\n",
    "- 15,611 customers were found to have `Monetary` = 0 as they never stayed at the hotel before since their `Recency` = -1 and `Frequency` = 0.\n",
    "- Remaining 192 customers with `Monetary` = 0 have stayed at the hotel at least once. \n",
    "- Majority of these 192 customers belong to the 'Complementary' MarketSegment, which probably explains why they did not pay for the hotel stay. Other segments include 'Groups', 'Direct', and 'Travel Agent/Operator'.\n",
    "- Since they are only 192 such customers (vvv small proportion), can just drop them and focus on higher valued customers."
   ]
  },
  {
   "cell_type": "code",
   "execution_count": 9,
   "metadata": {},
   "outputs": [
    {
     "name": "stdout",
     "output_type": "stream",
     "text": [
      "There were 75397 customers at first.\n",
      "\n",
      "After dropping customers who have not stayed at the hotel and/or have no monetary value, there are 59593 customers.\n",
      "\n",
      "   ID  Recency  Frequency  Monetary\n",
      "0   1      151          3     476.3\n",
      "2   4     1100          1     300.0\n",
      "4   6     1097          1     254.0\n",
      "6   8     1100          1     629.0\n",
      "8  10     1098          1     243.0\n"
     ]
    }
   ],
   "source": [
    "# Only keep clients that had make a check-in in the past and is considered a client\n",
    "print(f'There were {len(RFM_df)} customers at first.\\n')\n",
    "\n",
    "RFM_df = RFM_df[\n",
    "    (RFM_df['Recency'] > 0) & \n",
    "    (RFM_df['Frequency'] != 0)  \n",
    "   & (RFM_df['Monetary'] != 0)\n",
    "    ]\n",
    "\n",
    "print(f'After dropping customers who have not stayed at the hotel and/or have no monetary value, there are {len(RFM_df)} customers.\\n')\n",
    "\n",
    "print(RFM_df.head())"
   ]
  },
  {
   "cell_type": "code",
   "execution_count": 10,
   "metadata": {},
   "outputs": [
    {
     "data": {
      "text/html": [
       "<div>\n",
       "<style scoped>\n",
       "    .dataframe tbody tr th:only-of-type {\n",
       "        vertical-align: middle;\n",
       "    }\n",
       "\n",
       "    .dataframe tbody tr th {\n",
       "        vertical-align: top;\n",
       "    }\n",
       "\n",
       "    .dataframe thead th {\n",
       "        text-align: right;\n",
       "    }\n",
       "</style>\n",
       "<table border=\"1\" class=\"dataframe\">\n",
       "  <thead>\n",
       "    <tr style=\"text-align: right;\">\n",
       "      <th></th>\n",
       "      <th>ID</th>\n",
       "      <th>Recency</th>\n",
       "      <th>Frequency</th>\n",
       "      <th>Monetary</th>\n",
       "    </tr>\n",
       "  </thead>\n",
       "  <tbody>\n",
       "    <tr>\n",
       "      <th>count</th>\n",
       "      <td>59593.000000</td>\n",
       "      <td>59593.000000</td>\n",
       "      <td>59593.000000</td>\n",
       "      <td>59593.000000</td>\n",
       "    </tr>\n",
       "    <tr>\n",
       "      <th>mean</th>\n",
       "      <td>36561.772440</td>\n",
       "      <td>519.054939</td>\n",
       "      <td>1.042085</td>\n",
       "      <td>483.253420</td>\n",
       "    </tr>\n",
       "    <tr>\n",
       "      <th>std</th>\n",
       "      <td>22841.005167</td>\n",
       "      <td>301.082006</td>\n",
       "      <td>0.610004</td>\n",
       "      <td>436.730538</td>\n",
       "    </tr>\n",
       "    <tr>\n",
       "      <th>min</th>\n",
       "      <td>1.000000</td>\n",
       "      <td>1.000000</td>\n",
       "      <td>1.000000</td>\n",
       "      <td>1.000000</td>\n",
       "    </tr>\n",
       "    <tr>\n",
       "      <th>25%</th>\n",
       "      <td>17735.000000</td>\n",
       "      <td>248.000000</td>\n",
       "      <td>1.000000</td>\n",
       "      <td>242.000000</td>\n",
       "    </tr>\n",
       "    <tr>\n",
       "      <th>50%</th>\n",
       "      <td>33472.000000</td>\n",
       "      <td>520.000000</td>\n",
       "      <td>1.000000</td>\n",
       "      <td>381.300000</td>\n",
       "    </tr>\n",
       "    <tr>\n",
       "      <th>75%</th>\n",
       "      <td>53873.000000</td>\n",
       "      <td>788.000000</td>\n",
       "      <td>1.000000</td>\n",
       "      <td>579.500000</td>\n",
       "    </tr>\n",
       "    <tr>\n",
       "      <th>max</th>\n",
       "      <td>83589.000000</td>\n",
       "      <td>1104.000000</td>\n",
       "      <td>66.000000</td>\n",
       "      <td>11930.660000</td>\n",
       "    </tr>\n",
       "  </tbody>\n",
       "</table>\n",
       "</div>"
      ],
      "text/plain": [
       "                 ID       Recency     Frequency      Monetary\n",
       "count  59593.000000  59593.000000  59593.000000  59593.000000\n",
       "mean   36561.772440    519.054939      1.042085    483.253420\n",
       "std    22841.005167    301.082006      0.610004    436.730538\n",
       "min        1.000000      1.000000      1.000000      1.000000\n",
       "25%    17735.000000    248.000000      1.000000    242.000000\n",
       "50%    33472.000000    520.000000      1.000000    381.300000\n",
       "75%    53873.000000    788.000000      1.000000    579.500000\n",
       "max    83589.000000   1104.000000     66.000000  11930.660000"
      ]
     },
     "execution_count": 10,
     "metadata": {},
     "output_type": "execute_result"
    }
   ],
   "source": [
    "RFM_df.describe()"
   ]
  },
  {
   "cell_type": "markdown",
   "metadata": {},
   "source": [
    "### Check distribution of data"
   ]
  },
  {
   "cell_type": "code",
   "execution_count": 11,
   "metadata": {},
   "outputs": [
    {
     "data": {
      "image/png": "[encoded data removed]",
      "text/plain": [
       "<Figure size 1584x504 with 3 Axes>"
      ]
     },
     "metadata": {
      "needs_background": "light"
     },
     "output_type": "display_data"
    }
   ],
   "source": [
    "columns=[\"Recency\",\"Frequency\",\"Monetary\"]\n",
    "plt.figure(figsize=(22,7))\n",
    "for i,j in enumerate(columns):\n",
    "    plt.subplot(1,3,i+1)\n",
    "    sns.distplot(RFM_df[j])\n",
    "    plt.title('{}'.format(j))"
   ]
  },
  {
   "cell_type": "markdown",
   "metadata": {},
   "source": [
    "#### Further investigate `Frequency` distribution"
   ]
  },
  {
   "cell_type": "code",
   "execution_count": 12,
   "metadata": {
    "scrolled": true
   },
   "outputs": [
    {
     "data": {
      "text/html": [
       "<div>\n",
       "<style scoped>\n",
       "    .dataframe tbody tr th:only-of-type {\n",
       "        vertical-align: middle;\n",
       "    }\n",
       "\n",
       "    .dataframe tbody tr th {\n",
       "        vertical-align: top;\n",
       "    }\n",
       "\n",
       "    .dataframe thead th {\n",
       "        text-align: right;\n",
       "    }\n",
       "</style>\n",
       "<table border=\"1\" class=\"dataframe\">\n",
       "  <thead>\n",
       "    <tr style=\"text-align: right;\">\n",
       "      <th></th>\n",
       "      <th>Percentage</th>\n",
       "    </tr>\n",
       "    <tr>\n",
       "      <th>Frequency</th>\n",
       "      <th></th>\n",
       "    </tr>\n",
       "  </thead>\n",
       "  <tbody>\n",
       "    <tr>\n",
       "      <th>1</th>\n",
       "      <td>0.938230</td>\n",
       "    </tr>\n",
       "    <tr>\n",
       "      <th>2</th>\n",
       "      <td>0.016924</td>\n",
       "    </tr>\n",
       "    <tr>\n",
       "      <th>3</th>\n",
       "      <td>0.001852</td>\n",
       "    </tr>\n",
       "    <tr>\n",
       "      <th>4</th>\n",
       "      <td>0.000870</td>\n",
       "    </tr>\n",
       "    <tr>\n",
       "      <th>5</th>\n",
       "      <td>0.000322</td>\n",
       "    </tr>\n",
       "    <tr>\n",
       "      <th>6</th>\n",
       "      <td>0.000290</td>\n",
       "    </tr>\n",
       "    <tr>\n",
       "      <th>7</th>\n",
       "      <td>0.000209</td>\n",
       "    </tr>\n",
       "    <tr>\n",
       "      <th>8</th>\n",
       "      <td>0.000161</td>\n",
       "    </tr>\n",
       "    <tr>\n",
       "      <th>9</th>\n",
       "      <td>0.000145</td>\n",
       "    </tr>\n",
       "    <tr>\n",
       "      <th>10</th>\n",
       "      <td>0.000113</td>\n",
       "    </tr>\n",
       "    <tr>\n",
       "      <th>11</th>\n",
       "      <td>0.000097</td>\n",
       "    </tr>\n",
       "    <tr>\n",
       "      <th>12</th>\n",
       "      <td>0.000048</td>\n",
       "    </tr>\n",
       "    <tr>\n",
       "      <th>13</th>\n",
       "      <td>0.000064</td>\n",
       "    </tr>\n",
       "    <tr>\n",
       "      <th>14</th>\n",
       "      <td>0.000032</td>\n",
       "    </tr>\n",
       "    <tr>\n",
       "      <th>15</th>\n",
       "      <td>0.000032</td>\n",
       "    </tr>\n",
       "    <tr>\n",
       "      <th>17</th>\n",
       "      <td>0.000016</td>\n",
       "    </tr>\n",
       "    <tr>\n",
       "      <th>18</th>\n",
       "      <td>0.000016</td>\n",
       "    </tr>\n",
       "    <tr>\n",
       "      <th>20</th>\n",
       "      <td>0.000016</td>\n",
       "    </tr>\n",
       "    <tr>\n",
       "      <th>23</th>\n",
       "      <td>0.000032</td>\n",
       "    </tr>\n",
       "    <tr>\n",
       "      <th>24</th>\n",
       "      <td>0.000016</td>\n",
       "    </tr>\n",
       "    <tr>\n",
       "      <th>25</th>\n",
       "      <td>0.000016</td>\n",
       "    </tr>\n",
       "    <tr>\n",
       "      <th>26</th>\n",
       "      <td>0.000016</td>\n",
       "    </tr>\n",
       "    <tr>\n",
       "      <th>29</th>\n",
       "      <td>0.000032</td>\n",
       "    </tr>\n",
       "    <tr>\n",
       "      <th>34</th>\n",
       "      <td>0.000016</td>\n",
       "    </tr>\n",
       "    <tr>\n",
       "      <th>40</th>\n",
       "      <td>0.000016</td>\n",
       "    </tr>\n",
       "    <tr>\n",
       "      <th>57</th>\n",
       "      <td>0.000016</td>\n",
       "    </tr>\n",
       "    <tr>\n",
       "      <th>66</th>\n",
       "      <td>0.000016</td>\n",
       "    </tr>\n",
       "  </tbody>\n",
       "</table>\n",
       "</div>"
      ],
      "text/plain": [
       "           Percentage\n",
       "Frequency            \n",
       "1            0.938230\n",
       "2            0.016924\n",
       "3            0.001852\n",
       "4            0.000870\n",
       "5            0.000322\n",
       "6            0.000290\n",
       "7            0.000209\n",
       "8            0.000161\n",
       "9            0.000145\n",
       "10           0.000113\n",
       "11           0.000097\n",
       "12           0.000048\n",
       "13           0.000064\n",
       "14           0.000032\n",
       "15           0.000032\n",
       "17           0.000016\n",
       "18           0.000016\n",
       "20           0.000016\n",
       "23           0.000032\n",
       "24           0.000016\n",
       "25           0.000016\n",
       "26           0.000016\n",
       "29           0.000032\n",
       "34           0.000016\n",
       "40           0.000016\n",
       "57           0.000016\n",
       "66           0.000016"
      ]
     },
     "execution_count": 12,
     "metadata": {},
     "output_type": "execute_result"
    }
   ],
   "source": [
    "freq_dist=RFM_df.groupby('Frequency').size().rename(\"Percentage\").transform(lambda x: x/RFM_df['Frequency'].sum())\n",
    "freq_dist.to_frame()"
   ]
  },
  {
   "attachments": {},
   "cell_type": "markdown",
   "metadata": {},
   "source": [
    "- `Frequency` value distribution is extremely skewed due to majority of customers being non-repeat customers, i.e. nearly 94% of them only stayed at the hotel once"
   ]
  },
  {
   "cell_type": "code",
   "execution_count": 13,
   "metadata": {
    "scrolled": false
   },
   "outputs": [
    {
     "data": {
      "image/png": "[encoded data removed]",
      "text/plain": [
       "<Figure size 576x432 with 1 Axes>"
      ]
     },
     "metadata": {
      "needs_background": "light"
     },
     "output_type": "display_data"
    }
   ],
   "source": [
    "# Outlier Analysis\n",
    "rfm_metrics = ['Monetary','Frequency','Recency']\n",
    "plt.figure(figsize=(8,6))\n",
    "sns.boxplot(data = RFM_df[rfm_metrics], orient=\"v\")\n",
    "plt.title(\"Outliers Variable Distribution\", fontweight = 'bold')\n",
    "plt.ylabel(\"Range\", fontweight = 'bold')\n",
    "plt.xlabel(\"RFM Metrics\", fontweight = 'bold')\n",
    "plt.show()"
   ]
  },
  {
   "cell_type": "markdown",
   "metadata": {},
   "source": [
    "- `Monetary` value distribution is very skewed due to the presence of outliers with high monetary value.\n",
    "- Extreme outliers are around those over 6,000 dollars, so drop these outliers."
   ]
  },
  {
   "cell_type": "markdown",
   "metadata": {},
   "source": [
    "#### Drop `Monetary` outliers"
   ]
  },
  {
   "cell_type": "code",
   "execution_count": 14,
   "metadata": {},
   "outputs": [
    {
     "name": "stdout",
     "output_type": "stream",
     "text": [
      "After dropping 17 outliers, there are now 59576 customers.\n"
     ]
    }
   ],
   "source": [
    "# Identify and remove outliers from the Monetary column\n",
    "total_outliers = len(RFM_df[RFM_df['Monetary'] > 6000])\n",
    "RFM_df = RFM_df[RFM_df['Monetary'] <= 6000]\n",
    "print(f'After dropping {total_outliers} outliers, there are now {len(RFM_df)} customers.')"
   ]
  },
  {
   "cell_type": "markdown",
   "metadata": {},
   "source": [
    "## Customer Segmentation \n",
    "\n",
    "- As the vast majority are non-repeat customers, the dataset will be split into two subsets - one with customers having `Frequency` value of 1, while the other having `Frequency` value over 1."
   ]
  },
  {
   "cell_type": "markdown",
   "metadata": {},
   "source": [
    "### Split dataset into the 2 subsets based on `Frequency` value"
   ]
  },
  {
   "cell_type": "code",
   "execution_count": 15,
   "metadata": {},
   "outputs": [],
   "source": [
    "# create subset of customers with Frequency of 1\n",
    "RFM_non_repeat_cust_df = RFM_df[RFM_df['Frequency']==1]\n",
    "\n",
    "# create subset of customers with Frequency > 1\n",
    "RFM_repeat_cust_df = RFM_df[RFM_df['Frequency']>1]"
   ]
  },
  {
   "cell_type": "code",
   "execution_count": 16,
   "metadata": {
    "scrolled": true
   },
   "outputs": [
    {
     "data": {
      "text/plain": [
       "((58259, 4), (1317, 4))"
      ]
     },
     "execution_count": 16,
     "metadata": {},
     "output_type": "execute_result"
    }
   ],
   "source": [
    "RFM_non_repeat_cust_df.shape, RFM_repeat_cust_df.shape"
   ]
  },
  {
   "cell_type": "markdown",
   "metadata": {},
   "source": [
    "### Do segmentation for customers with `Frequency` of 1 using k-means clustering"
   ]
  },
  {
   "cell_type": "code",
   "execution_count": 17,
   "metadata": {},
   "outputs": [
    {
     "data": {
      "text/plain": [
       "count    58259.000000\n",
       "mean       522.860468\n",
       "std        300.659721\n",
       "min          1.000000\n",
       "25%        254.000000\n",
       "50%        525.000000\n",
       "75%        791.000000\n",
       "max       1104.000000\n",
       "Name: Recency, dtype: float64"
      ]
     },
     "execution_count": 17,
     "metadata": {},
     "output_type": "execute_result"
    }
   ],
   "source": [
    "RFM_non_repeat_cust_df['Recency'].describe()"
   ]
  },
  {
   "cell_type": "code",
   "execution_count": 18,
   "metadata": {},
   "outputs": [
    {
     "data": {
      "image/png": "[encoded data removed]",
      "text/plain": [
       "<Figure size 432x288 with 1 Axes>"
      ]
     },
     "metadata": {},
     "output_type": "display_data"
    }
   ],
   "source": [
    "df[df['BookingsCheckedIn']==1]['Domestic_Traveller'].value_counts().plot(kind='pie',autopct='%1.1f%%')\n",
    "plt.title('Proportion of Domestic Traveller')\n",
    "plt.tight_layout()\n",
    "plt.show()"
   ]
  },
  {
   "cell_type": "markdown",
   "metadata": {},
   "source": [
    "- The `Recency` value for most of the customers who have only stayed at the hotel once is between 2-3 years, which is reasonable for a hotel business, especially when nearly 90% of customers are non-domestic travellers.\n",
    "- This implies that `Recency` value is not that important of a metric to measure the value of a customer, but rather it is the `Monetary` value that is most important as they are likely to only stay at the hotel once within the span of 2-3 years. \n",
    "- Hence, the hotel should focus on maximising the customer's spending for every hotel stay. \n",
    "- As such, the segmentation will be done purely based on the customers' `Monetary` value."
   ]
  },
  {
   "cell_type": "code",
   "execution_count": 19,
   "metadata": {},
   "outputs": [],
   "source": [
    "kmeans_df = RFM_non_repeat_cust_df['Monetary']"
   ]
  },
  {
   "cell_type": "markdown",
   "metadata": {},
   "source": [
    "### Standardise the data"
   ]
  },
  {
   "cell_type": "code",
   "execution_count": 20,
   "metadata": {
    "scrolled": true
   },
   "outputs": [
    {
     "data": {
      "text/html": [
       "<div>\n",
       "<style scoped>\n",
       "    .dataframe tbody tr th:only-of-type {\n",
       "        vertical-align: middle;\n",
       "    }\n",
       "\n",
       "    .dataframe tbody tr th {\n",
       "        vertical-align: top;\n",
       "    }\n",
       "\n",
       "    .dataframe thead th {\n",
       "        text-align: right;\n",
       "    }\n",
       "</style>\n",
       "<table border=\"1\" class=\"dataframe\">\n",
       "  <thead>\n",
       "    <tr style=\"text-align: right;\">\n",
       "      <th></th>\n",
       "      <th>scaled_monetary</th>\n",
       "    </tr>\n",
       "  </thead>\n",
       "  <tbody>\n",
       "    <tr>\n",
       "      <th>6309</th>\n",
       "      <td>-0.004680</td>\n",
       "    </tr>\n",
       "    <tr>\n",
       "      <th>35109</th>\n",
       "      <td>-0.040145</td>\n",
       "    </tr>\n",
       "    <tr>\n",
       "      <th>44686</th>\n",
       "      <td>-0.041412</td>\n",
       "    </tr>\n",
       "    <tr>\n",
       "      <th>27486</th>\n",
       "      <td>-0.862832</td>\n",
       "    </tr>\n",
       "    <tr>\n",
       "      <th>40571</th>\n",
       "      <td>-0.508233</td>\n",
       "    </tr>\n",
       "  </tbody>\n",
       "</table>\n",
       "</div>"
      ],
      "text/plain": [
       "       scaled_monetary\n",
       "6309         -0.004680\n",
       "35109        -0.040145\n",
       "44686        -0.041412\n",
       "27486        -0.862832\n",
       "40571        -0.508233"
      ]
     },
     "execution_count": 20,
     "metadata": {},
     "output_type": "execute_result"
    }
   ],
   "source": [
    "scaler = StandardScaler()\n",
    "scaled_kmeans_df = scaler.fit_transform(kmeans_df.values.reshape(-1,1))\n",
    "\n",
    "scaled_df=pd.DataFrame(scaled_kmeans_df,columns=['scaled_monetary'])\n",
    "scaled_df.sample(5)"
   ]
  },
  {
   "cell_type": "markdown",
   "metadata": {},
   "source": [
    "### Use Elbow Method to find the optimal number of clusters (K)"
   ]
  },
  {
   "cell_type": "code",
   "execution_count": 21,
   "metadata": {},
   "outputs": [
    {
     "data": {
      "image/png": "[encoded data removed]",
      "text/plain": [
       "<Figure size 720x576 with 1 Axes>"
      ]
     },
     "metadata": {
      "needs_background": "light"
     },
     "output_type": "display_data"
    }
   ],
   "source": [
    "wcss={} #wcss stands for within cluster sum of squares\n",
    "\n",
    "for k in range(1,15):\n",
    "    km = KMeans(n_clusters=k, init='k-means++', max_iter=1000 , random_state=20)\n",
    "    km = km.fit(scaled_df)\n",
    "    wcss[k] = km.inertia_\n",
    "    \n",
    "#Plot graph for the wcss values and the number of clusters\n",
    "plt.figure(figsize=(10,8))\n",
    "sns.pointplot(x=list(wcss.keys()), y=list(wcss.values()))\n",
    "plt.xlabel('Number of clusters K')\n",
    "plt.ylabel('Within Cluster Sum of Squares')\n",
    "plt.title('Elbow method for optimal K')\n",
    "plt.show()"
   ]
  },
  {
   "cell_type": "markdown",
   "metadata": {},
   "source": [
    "- Based on the Elbow Method, optimal K would be 3 as there is a less steep decrease in the within cluster sum of squares after 3."
   ]
  },
  {
   "cell_type": "code",
   "execution_count": 22,
   "metadata": {},
   "outputs": [
    {
     "data": {
      "text/html": [
       "<div>\n",
       "<style scoped>\n",
       "    .dataframe tbody tr th:only-of-type {\n",
       "        vertical-align: middle;\n",
       "    }\n",
       "\n",
       "    .dataframe tbody tr th {\n",
       "        vertical-align: top;\n",
       "    }\n",
       "\n",
       "    .dataframe thead th {\n",
       "        text-align: right;\n",
       "    }\n",
       "</style>\n",
       "<table border=\"1\" class=\"dataframe\">\n",
       "  <thead>\n",
       "    <tr style=\"text-align: right;\">\n",
       "      <th></th>\n",
       "      <th>ID</th>\n",
       "      <th>Recency</th>\n",
       "      <th>Frequency</th>\n",
       "      <th>Monetary</th>\n",
       "      <th>Segment</th>\n",
       "    </tr>\n",
       "  </thead>\n",
       "  <tbody>\n",
       "    <tr>\n",
       "      <th>2</th>\n",
       "      <td>4</td>\n",
       "      <td>1100</td>\n",
       "      <td>1</td>\n",
       "      <td>300.0</td>\n",
       "      <td>1</td>\n",
       "    </tr>\n",
       "    <tr>\n",
       "      <th>4</th>\n",
       "      <td>6</td>\n",
       "      <td>1097</td>\n",
       "      <td>1</td>\n",
       "      <td>254.0</td>\n",
       "      <td>1</td>\n",
       "    </tr>\n",
       "    <tr>\n",
       "      <th>6</th>\n",
       "      <td>8</td>\n",
       "      <td>1100</td>\n",
       "      <td>1</td>\n",
       "      <td>629.0</td>\n",
       "      <td>2</td>\n",
       "    </tr>\n",
       "    <tr>\n",
       "      <th>8</th>\n",
       "      <td>10</td>\n",
       "      <td>1098</td>\n",
       "      <td>1</td>\n",
       "      <td>243.0</td>\n",
       "      <td>1</td>\n",
       "    </tr>\n",
       "    <tr>\n",
       "      <th>10</th>\n",
       "      <td>12</td>\n",
       "      <td>1100</td>\n",
       "      <td>1</td>\n",
       "      <td>373.0</td>\n",
       "      <td>1</td>\n",
       "    </tr>\n",
       "  </tbody>\n",
       "</table>\n",
       "</div>"
      ],
      "text/plain": [
       "    ID  Recency  Frequency  Monetary  Segment\n",
       "2    4     1100          1     300.0        1\n",
       "4    6     1097          1     254.0        1\n",
       "6    8     1100          1     629.0        2\n",
       "8   10     1098          1     243.0        1\n",
       "10  12     1100          1     373.0        1"
      ]
     },
     "execution_count": 22,
     "metadata": {},
     "output_type": "execute_result"
    }
   ],
   "source": [
    "#Build K Means clustering model using K=3\n",
    "kmean_model = KMeans(n_clusters=3, init='k-means++', max_iter=1000, random_state=20)\n",
    "kmean_model.fit(scaled_df)\n",
    "\n",
    "#find the clusters for the customers\n",
    "RFM_non_repeat_cust_df['Segment'] = kmean_model.labels_ + 1 #start cluster naming from 1\n",
    "\n",
    "RFM_non_repeat_cust_df.head()"
   ]
  },
  {
   "cell_type": "markdown",
   "metadata": {},
   "source": [
    "### Visualise the Kmeans Segments & Define Customer Profile in each Segment"
   ]
  },
  {
   "cell_type": "code",
   "execution_count": 23,
   "metadata": {},
   "outputs": [
    {
     "data": {
      "text/plain": [
       "1    42693\n",
       "2    13975\n",
       "3     1591\n",
       "Name: Segment, dtype: int64"
      ]
     },
     "execution_count": 23,
     "metadata": {},
     "output_type": "execute_result"
    }
   ],
   "source": [
    "RFM_non_repeat_cust_df['Segment'].value_counts()"
   ]
  },
  {
   "cell_type": "code",
   "execution_count": 24,
   "metadata": {},
   "outputs": [
    {
     "data": {
      "image/png": "[encoded data removed]",
      "text/plain": [
       "<Figure size 432x288 with 1 Axes>"
      ]
     },
     "metadata": {
      "needs_background": "light"
     },
     "output_type": "display_data"
    }
   ],
   "source": [
    "RFM_non_repeat_cust_df['Segment'].value_counts().sort_index(ascending=False).plot(kind='barh',color=['m','g','b','r'])\n",
    "plt.tight_layout()\n",
    "plt.show()"
   ]
  },
  {
   "cell_type": "code",
   "execution_count": 25,
   "metadata": {},
   "outputs": [
    {
     "data": {
      "image/png": "[encoded data removed]",
      "text/plain": [
       "<Figure size 432x288 with 1 Axes>"
      ]
     },
     "metadata": {},
     "output_type": "display_data"
    }
   ],
   "source": [
    "RFM_non_repeat_cust_df['Segment'].value_counts().sort_index().plot(kind='pie',colors=['crimson','royalblue','green','darkorchid'],autopct='%1.1f%%',counterclock=False,startangle=90)\n",
    "plt.tight_layout()\n",
    "plt.show()"
   ]
  },
  {
   "cell_type": "code",
   "execution_count": 26,
   "metadata": {},
   "outputs": [
    {
     "data": {
      "image/png": "[encoded data removed]",
      "text/plain": [
       "<Figure size 576x432 with 1 Axes>"
      ]
     },
     "metadata": {
      "needs_background": "light"
     },
     "output_type": "display_data"
    }
   ],
   "source": [
    "# Plot the boxplot of Monetary by Segment\n",
    "RFM_non_repeat_cust_df.boxplot('Monetary', by='Segment', figsize=(8,6))\n",
    "\n",
    "# Show the figure\n",
    "plt.show()"
   ]
  },
  {
   "cell_type": "code",
   "execution_count": 27,
   "metadata": {},
   "outputs": [
    {
     "data": {
      "text/plain": [
       "count    58259.000000\n",
       "mean       471.347631\n",
       "std        394.758647\n",
       "min          1.000000\n",
       "25%        240.000000\n",
       "50%        378.000000\n",
       "75%        571.500000\n",
       "max       5947.800000\n",
       "Name: Monetary, dtype: float64"
      ]
     },
     "execution_count": 27,
     "metadata": {},
     "output_type": "execute_result"
    }
   ],
   "source": [
    "RFM_non_repeat_cust_df['Monetary'].describe()"
   ]
  },
  {
   "cell_type": "code",
   "execution_count": 28,
   "metadata": {
    "scrolled": true
   },
   "outputs": [
    {
     "data": {
      "text/html": [
       "<div>\n",
       "<style scoped>\n",
       "    .dataframe tbody tr th:only-of-type {\n",
       "        vertical-align: middle;\n",
       "    }\n",
       "\n",
       "    .dataframe tbody tr th {\n",
       "        vertical-align: top;\n",
       "    }\n",
       "\n",
       "    .dataframe thead th {\n",
       "        text-align: right;\n",
       "    }\n",
       "</style>\n",
       "<table border=\"1\" class=\"dataframe\">\n",
       "  <thead>\n",
       "    <tr style=\"text-align: right;\">\n",
       "      <th></th>\n",
       "      <th>Monetary</th>\n",
       "    </tr>\n",
       "    <tr>\n",
       "      <th>Segment</th>\n",
       "      <th></th>\n",
       "    </tr>\n",
       "  </thead>\n",
       "  <tbody>\n",
       "    <tr>\n",
       "      <th>1</th>\n",
       "      <td>303.058478</td>\n",
       "    </tr>\n",
       "    <tr>\n",
       "      <th>2</th>\n",
       "      <td>800.182537</td>\n",
       "    </tr>\n",
       "    <tr>\n",
       "      <th>3</th>\n",
       "      <td>2098.815273</td>\n",
       "    </tr>\n",
       "  </tbody>\n",
       "</table>\n",
       "</div>"
      ],
      "text/plain": [
       "            Monetary\n",
       "Segment             \n",
       "1         303.058478\n",
       "2         800.182537\n",
       "3        2098.815273"
      ]
     },
     "execution_count": 28,
     "metadata": {},
     "output_type": "execute_result"
    }
   ],
   "source": [
    "RFM_non_repeat_cust_df.groupby('Segment')['Monetary'].agg('mean').to_frame()"
   ]
  },
  {
   "cell_type": "markdown",
   "metadata": {},
   "source": [
    "- Segment 1: Low-moderate monetary value\n",
    "- Segment 2: High monetary value\n",
    "- Segment 3: Very high monetary value"
   ]
  },
  {
   "cell_type": "markdown",
   "metadata": {},
   "source": [
    "### Do segmentation for customers with `Frequency` > 1"
   ]
  },
  {
   "cell_type": "code",
   "execution_count": 29,
   "metadata": {},
   "outputs": [
    {
     "data": {
      "text/html": [
       "<div>\n",
       "<style scoped>\n",
       "    .dataframe tbody tr th:only-of-type {\n",
       "        vertical-align: middle;\n",
       "    }\n",
       "\n",
       "    .dataframe tbody tr th {\n",
       "        vertical-align: top;\n",
       "    }\n",
       "\n",
       "    .dataframe thead th {\n",
       "        text-align: right;\n",
       "    }\n",
       "</style>\n",
       "<table border=\"1\" class=\"dataframe\">\n",
       "  <thead>\n",
       "    <tr style=\"text-align: right;\">\n",
       "      <th></th>\n",
       "      <th>ID</th>\n",
       "      <th>Recency</th>\n",
       "      <th>Frequency</th>\n",
       "      <th>Monetary</th>\n",
       "    </tr>\n",
       "  </thead>\n",
       "  <tbody>\n",
       "    <tr>\n",
       "      <th>0</th>\n",
       "      <td>1</td>\n",
       "      <td>151</td>\n",
       "      <td>3</td>\n",
       "      <td>476.30</td>\n",
       "    </tr>\n",
       "    <tr>\n",
       "      <th>28</th>\n",
       "      <td>31</td>\n",
       "      <td>591</td>\n",
       "      <td>9</td>\n",
       "      <td>1338.99</td>\n",
       "    </tr>\n",
       "    <tr>\n",
       "      <th>315</th>\n",
       "      <td>379</td>\n",
       "      <td>189</td>\n",
       "      <td>11</td>\n",
       "      <td>1248.00</td>\n",
       "    </tr>\n",
       "    <tr>\n",
       "      <th>346</th>\n",
       "      <td>413</td>\n",
       "      <td>587</td>\n",
       "      <td>2</td>\n",
       "      <td>416.50</td>\n",
       "    </tr>\n",
       "    <tr>\n",
       "      <th>406</th>\n",
       "      <td>482</td>\n",
       "      <td>551</td>\n",
       "      <td>3</td>\n",
       "      <td>410.00</td>\n",
       "    </tr>\n",
       "  </tbody>\n",
       "</table>\n",
       "</div>"
      ],
      "text/plain": [
       "      ID  Recency  Frequency  Monetary\n",
       "0      1      151          3    476.30\n",
       "28    31      591          9   1338.99\n",
       "315  379      189         11   1248.00\n",
       "346  413      587          2    416.50\n",
       "406  482      551          3    410.00"
      ]
     },
     "execution_count": 29,
     "metadata": {},
     "output_type": "execute_result"
    }
   ],
   "source": [
    "RFM_repeat_cust_df.head()"
   ]
  },
  {
   "cell_type": "code",
   "execution_count": null,
   "metadata": {},
   "outputs": [],
   "source": []
  },
  {
   "cell_type": "markdown",
   "metadata": {},
   "source": [
    "### Classification Model"
   ]
  },
  {
   "attachments": {},
   "cell_type": "markdown",
   "metadata": {},
   "source": [
    "<div class=\"alert alert-warning\">\n",
    "\n",
    "- to stack RFM_non_repeat_cust_df and RFM_repeat_cust_df first\n",
    "- then merge back with df"
   ]
  },
  {
   "cell_type": "code",
   "execution_count": 103,
   "metadata": {},
   "outputs": [
    {
     "data": {
      "text/html": [
       "<div>\n",
       "<style scoped>\n",
       "    .dataframe tbody tr th:only-of-type {\n",
       "        vertical-align: middle;\n",
       "    }\n",
       "\n",
       "    .dataframe tbody tr th {\n",
       "        vertical-align: top;\n",
       "    }\n",
       "\n",
       "    .dataframe thead th {\n",
       "        text-align: right;\n",
       "    }\n",
       "</style>\n",
       "<table border=\"1\" class=\"dataframe\">\n",
       "  <thead>\n",
       "    <tr style=\"text-align: right;\">\n",
       "      <th></th>\n",
       "      <th>ID</th>\n",
       "      <th>Segment</th>\n",
       "      <th>Nationality</th>\n",
       "      <th>Age</th>\n",
       "      <th>DaysSinceCreation</th>\n",
       "      <th>AverageLeadTime</th>\n",
       "      <th>LodgingRevenue</th>\n",
       "      <th>OtherRevenue</th>\n",
       "      <th>BookingsCanceled</th>\n",
       "      <th>BookingsNoShowed</th>\n",
       "      <th>...</th>\n",
       "      <th>DistributionChannel_Electronic Distribution</th>\n",
       "      <th>DistributionChannel_Travel Agent/Operator</th>\n",
       "      <th>MarketSegment_Aviation</th>\n",
       "      <th>MarketSegment_Complementary</th>\n",
       "      <th>MarketSegment_Corporate</th>\n",
       "      <th>MarketSegment_Direct</th>\n",
       "      <th>MarketSegment_Groups</th>\n",
       "      <th>MarketSegment_Other</th>\n",
       "      <th>MarketSegment_Travel Agent/Operator</th>\n",
       "      <th>TotalRevenue</th>\n",
       "    </tr>\n",
       "  </thead>\n",
       "  <tbody>\n",
       "    <tr>\n",
       "      <th>0</th>\n",
       "      <td>4</td>\n",
       "      <td>1</td>\n",
       "      <td>55</td>\n",
       "      <td>60.0</td>\n",
       "      <td>1095</td>\n",
       "      <td>93</td>\n",
       "      <td>240.0</td>\n",
       "      <td>60.0</td>\n",
       "      <td>0</td>\n",
       "      <td>0</td>\n",
       "      <td>...</td>\n",
       "      <td>0</td>\n",
       "      <td>1</td>\n",
       "      <td>0</td>\n",
       "      <td>0</td>\n",
       "      <td>0</td>\n",
       "      <td>0</td>\n",
       "      <td>0</td>\n",
       "      <td>0</td>\n",
       "      <td>1</td>\n",
       "      <td>300.0</td>\n",
       "    </tr>\n",
       "    <tr>\n",
       "      <th>1</th>\n",
       "      <td>6</td>\n",
       "      <td>1</td>\n",
       "      <td>82</td>\n",
       "      <td>54.0</td>\n",
       "      <td>1095</td>\n",
       "      <td>58</td>\n",
       "      <td>230.0</td>\n",
       "      <td>24.0</td>\n",
       "      <td>0</td>\n",
       "      <td>0</td>\n",
       "      <td>...</td>\n",
       "      <td>0</td>\n",
       "      <td>1</td>\n",
       "      <td>0</td>\n",
       "      <td>0</td>\n",
       "      <td>0</td>\n",
       "      <td>0</td>\n",
       "      <td>0</td>\n",
       "      <td>1</td>\n",
       "      <td>0</td>\n",
       "      <td>254.0</td>\n",
       "    </tr>\n",
       "    <tr>\n",
       "      <th>2</th>\n",
       "      <td>8</td>\n",
       "      <td>2</td>\n",
       "      <td>55</td>\n",
       "      <td>32.0</td>\n",
       "      <td>1095</td>\n",
       "      <td>38</td>\n",
       "      <td>535.0</td>\n",
       "      <td>94.0</td>\n",
       "      <td>0</td>\n",
       "      <td>0</td>\n",
       "      <td>...</td>\n",
       "      <td>0</td>\n",
       "      <td>1</td>\n",
       "      <td>0</td>\n",
       "      <td>0</td>\n",
       "      <td>0</td>\n",
       "      <td>0</td>\n",
       "      <td>0</td>\n",
       "      <td>1</td>\n",
       "      <td>0</td>\n",
       "      <td>629.0</td>\n",
       "    </tr>\n",
       "    <tr>\n",
       "      <th>3</th>\n",
       "      <td>10</td>\n",
       "      <td>1</td>\n",
       "      <td>73</td>\n",
       "      <td>25.0</td>\n",
       "      <td>1095</td>\n",
       "      <td>96</td>\n",
       "      <td>174.0</td>\n",
       "      <td>69.0</td>\n",
       "      <td>0</td>\n",
       "      <td>0</td>\n",
       "      <td>...</td>\n",
       "      <td>0</td>\n",
       "      <td>1</td>\n",
       "      <td>0</td>\n",
       "      <td>0</td>\n",
       "      <td>0</td>\n",
       "      <td>0</td>\n",
       "      <td>0</td>\n",
       "      <td>0</td>\n",
       "      <td>1</td>\n",
       "      <td>243.0</td>\n",
       "    </tr>\n",
       "    <tr>\n",
       "      <th>4</th>\n",
       "      <td>12</td>\n",
       "      <td>1</td>\n",
       "      <td>55</td>\n",
       "      <td>58.0</td>\n",
       "      <td>1095</td>\n",
       "      <td>60</td>\n",
       "      <td>292.0</td>\n",
       "      <td>81.0</td>\n",
       "      <td>0</td>\n",
       "      <td>0</td>\n",
       "      <td>...</td>\n",
       "      <td>0</td>\n",
       "      <td>1</td>\n",
       "      <td>0</td>\n",
       "      <td>0</td>\n",
       "      <td>0</td>\n",
       "      <td>0</td>\n",
       "      <td>0</td>\n",
       "      <td>0</td>\n",
       "      <td>1</td>\n",
       "      <td>373.0</td>\n",
       "    </tr>\n",
       "  </tbody>\n",
       "</table>\n",
       "<p>5 rows × 48 columns</p>\n",
       "</div>"
      ],
      "text/plain": [
       "   ID  Segment  Nationality   Age  DaysSinceCreation  AverageLeadTime  \\\n",
       "0   4        1           55  60.0               1095               93   \n",
       "1   6        1           82  54.0               1095               58   \n",
       "2   8        2           55  32.0               1095               38   \n",
       "3  10        1           73  25.0               1095               96   \n",
       "4  12        1           55  58.0               1095               60   \n",
       "\n",
       "   LodgingRevenue  OtherRevenue  BookingsCanceled  BookingsNoShowed  ...  \\\n",
       "0           240.0          60.0                 0                 0  ...   \n",
       "1           230.0          24.0                 0                 0  ...   \n",
       "2           535.0          94.0                 0                 0  ...   \n",
       "3           174.0          69.0                 0                 0  ...   \n",
       "4           292.0          81.0                 0                 0  ...   \n",
       "\n",
       "   DistributionChannel_Electronic Distribution  \\\n",
       "0                                            0   \n",
       "1                                            0   \n",
       "2                                            0   \n",
       "3                                            0   \n",
       "4                                            0   \n",
       "\n",
       "   DistributionChannel_Travel Agent/Operator  MarketSegment_Aviation  \\\n",
       "0                                          1                       0   \n",
       "1                                          1                       0   \n",
       "2                                          1                       0   \n",
       "3                                          1                       0   \n",
       "4                                          1                       0   \n",
       "\n",
       "   MarketSegment_Complementary  MarketSegment_Corporate  MarketSegment_Direct  \\\n",
       "0                            0                        0                     0   \n",
       "1                            0                        0                     0   \n",
       "2                            0                        0                     0   \n",
       "3                            0                        0                     0   \n",
       "4                            0                        0                     0   \n",
       "\n",
       "   MarketSegment_Groups  MarketSegment_Other  \\\n",
       "0                     0                    0   \n",
       "1                     0                    1   \n",
       "2                     0                    1   \n",
       "3                     0                    0   \n",
       "4                     0                    0   \n",
       "\n",
       "   MarketSegment_Travel Agent/Operator  TotalRevenue  \n",
       "0                                    1         300.0  \n",
       "1                                    0         254.0  \n",
       "2                                    0         629.0  \n",
       "3                                    1         243.0  \n",
       "4                                    1         373.0  \n",
       "\n",
       "[5 rows x 48 columns]"
      ]
     },
     "execution_count": 103,
     "metadata": {},
     "output_type": "execute_result"
    }
   ],
   "source": [
    "# Join RFM_df and df based on ID column\n",
    "segmented_df = pd.merge(RFM_df[['ID', 'Segment']], df, on='ID', how='inner')\n",
    "segmented_df = segmented_df.loc[:, ~segmented_df.columns.str.contains('^Unnamed')]\n",
    "segmented_df = segmented_df.drop(['NameHash', 'DocIDHash'], axis=1)\n",
    "nationality_enconder = LabelEncoder()\n",
    "segmented_df['Nationality'] = nationality_enconder.fit_transform(segmented_df['Nationality'])\n",
    "\n",
    "# Show the joined dataframe\n",
    "segmented_df.head()"
   ]
  },
  {
   "cell_type": "code",
   "execution_count": 104,
   "metadata": {},
   "outputs": [
    {
     "name": "stdout",
     "output_type": "stream",
     "text": [
      "Accuracy: 1.0\n",
      "Confusion matrix:\n",
      " [[8571    0    0]\n",
      " [   0 2764    0]\n",
      " [   0    0  317]]\n",
      "Classification report:\n",
      "               precision    recall  f1-score   support\n",
      "\n",
      "           0       1.00      1.00      1.00      8571\n",
      "           1       1.00      1.00      1.00      2764\n",
      "           2       1.00      1.00      1.00       317\n",
      "\n",
      "    accuracy                           1.00     11652\n",
      "   macro avg       1.00      1.00      1.00     11652\n",
      "weighted avg       1.00      1.00      1.00     11652\n",
      "\n"
     ]
    }
   ],
   "source": [
    "X = segmented_df.drop('Segment', axis=1).values\n",
    "y = segmented_df['Segment'].values\n",
    "le = LabelEncoder()\n",
    "y = le.fit_transform(y) # encode class labels into numeric values\n",
    "\n",
    "# Split data into training and testing sets\n",
    "X_train, X_test, y_train, y_test = train_test_split(X, y, test_size=0.2, random_state=42)\n",
    "\n",
    "# Choose and train a classifier\n",
    "clf = DecisionTreeClassifier() \n",
    "clf.fit(X_train, y_train)\n",
    "\n",
    "# Test the classifier on the testing data\n",
    "y_pred = clf.predict(X_test) \n",
    "\n",
    "# Evaluate the classifier performance\n",
    "acc = accuracy_score(y_test, y_pred) # calculate accuracy\n",
    "cm = confusion_matrix(y_test, y_pred) # calculate confusion matrix\n",
    "cr = classification_report(y_test, y_pred) # generate classification report\n",
    "\n",
    "print(f'Accuracy: {acc}')\n",
    "print(f'Confusion matrix:\\n {cm}')\n",
    "print(f'Classification report:\\n {cr}')"
   ]
  },
  {
   "cell_type": "code",
   "execution_count": 52,
   "metadata": {},
   "outputs": [
    {
     "data": {
      "image/png": "[encoded data removed]",
      "text/plain": [
       "<Figure size 720x432 with 1 Axes>"
      ]
     },
     "metadata": {
      "needs_background": "light"
     },
     "output_type": "display_data"
    }
   ],
   "source": [
    "# Create a figure\n",
    "plt.figure(figsize=(10, 6))\n",
    "\n",
    "# Plot the decision tree with feature names\n",
    "plot_tree(clf)\n",
    "\n",
    "# Show the figure\n",
    "plt.show()"
   ]
  },
  {
   "cell_type": "code",
   "execution_count": null,
   "metadata": {},
   "outputs": [],
   "source": []
  }
 ],
 "metadata": {
  "kernelspec": {
   "display_name": "Python 3 (ipykernel)",
   "language": "python",
   "name": "python3"
  },
  "language_info": {
   "codemirror_mode": {
    "name": "ipython",
    "version": 3
   },
   "file_extension": ".py",
   "mimetype": "text/x-python",
   "name": "python",
   "nbconvert_exporter": "python",
   "pygments_lexer": "ipython3",
   "version": "3.10.4"
  },
  "vscode": {
   "interpreter": {
    "hash": "c14970e027e926099a91893dfa0f11960d9c3c913196c58a4bc643a5b8ad87cb"
   }
  }
 },
 "nbformat": 4,
 "nbformat_minor": 2
}
