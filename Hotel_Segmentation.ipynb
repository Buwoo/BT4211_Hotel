{
 "cells": [
  {
   "cell_type": "markdown",
   "metadata": {},
   "source": [
    "## BT4211 Group 9 Hotel Project "
   ]
  },
  {
   "cell_type": "markdown",
   "metadata": {},
   "source": [
    "### Clean the data"
   ]
  },
  {
   "cell_type": "code",
   "execution_count": 1,
   "metadata": {},
   "outputs": [],
   "source": [
    "import pandas as pd\n",
    "import numpy as np\n",
    "import matplotlib.pyplot as plt\n",
    "import seaborn as sns\n",
    "from sklearn.preprocessing import LabelEncoder\n",
    "from sklearn.model_selection import train_test_split\n",
    "from sklearn.tree import DecisionTreeClassifier, plot_tree\n",
    "from sklearn.ensemble import RandomForestClassifier\n",
    "from sklearn.metrics import accuracy_score, precision_score, recall_score, f1_score, roc_auc_score, confusion_matrix, classification_report\n",
    "\n",
    "from sklearn.preprocessing import StandardScaler\n",
    "from sklearn.cluster import KMeans\n",
    "\n",
    "import warnings\n",
    "warnings.filterwarnings('ignore')"
   ]
  },
  {
   "cell_type": "code",
   "execution_count": 2,
   "metadata": {},
   "outputs": [
    {
     "data": {
      "text/html": [
       "<div>\n",
       "<style scoped>\n",
       "    .dataframe tbody tr th:only-of-type {\n",
       "        vertical-align: middle;\n",
       "    }\n",
       "\n",
       "    .dataframe tbody tr th {\n",
       "        vertical-align: top;\n",
       "    }\n",
       "\n",
       "    .dataframe thead th {\n",
       "        text-align: right;\n",
       "    }\n",
       "</style>\n",
       "<table border=\"1\" class=\"dataframe\">\n",
       "  <thead>\n",
       "    <tr style=\"text-align: right;\">\n",
       "      <th></th>\n",
       "      <th>Unnamed: 0</th>\n",
       "      <th>ID</th>\n",
       "      <th>Nationality</th>\n",
       "      <th>Age</th>\n",
       "      <th>DaysSinceCreation</th>\n",
       "      <th>NameHash</th>\n",
       "      <th>DocIDHash</th>\n",
       "      <th>AverageLeadTime</th>\n",
       "      <th>LodgingRevenue</th>\n",
       "      <th>OtherRevenue</th>\n",
       "      <th>...</th>\n",
       "      <th>DistributionChannel_Direct</th>\n",
       "      <th>DistributionChannel_Electronic Distribution</th>\n",
       "      <th>DistributionChannel_Travel Agent/Operator</th>\n",
       "      <th>MarketSegment_Aviation</th>\n",
       "      <th>MarketSegment_Complementary</th>\n",
       "      <th>MarketSegment_Corporate</th>\n",
       "      <th>MarketSegment_Direct</th>\n",
       "      <th>MarketSegment_Groups</th>\n",
       "      <th>MarketSegment_Other</th>\n",
       "      <th>MarketSegment_Travel Agent/Operator</th>\n",
       "    </tr>\n",
       "  </thead>\n",
       "  <tbody>\n",
       "    <tr>\n",
       "      <th>0</th>\n",
       "      <td>0</td>\n",
       "      <td>1</td>\n",
       "      <td>PRT</td>\n",
       "      <td>51.0</td>\n",
       "      <td>150</td>\n",
       "      <td>0x8E0A7AF39B633D5EA25C3B7EF4DFC5464B36DB7AF375...</td>\n",
       "      <td>0x71568459B729F7A7ABBED6C781A84CA4274D571003AC...</td>\n",
       "      <td>45</td>\n",
       "      <td>371.0</td>\n",
       "      <td>105.3</td>\n",
       "      <td>...</td>\n",
       "      <td>0</td>\n",
       "      <td>0</td>\n",
       "      <td>0</td>\n",
       "      <td>0</td>\n",
       "      <td>0</td>\n",
       "      <td>1</td>\n",
       "      <td>0</td>\n",
       "      <td>0</td>\n",
       "      <td>0</td>\n",
       "      <td>0</td>\n",
       "    </tr>\n",
       "    <tr>\n",
       "      <th>1</th>\n",
       "      <td>2</td>\n",
       "      <td>3</td>\n",
       "      <td>DEU</td>\n",
       "      <td>31.0</td>\n",
       "      <td>1095</td>\n",
       "      <td>0x31C5E4B74E23231295FDB724AD578C02C4A723F4BA2B...</td>\n",
       "      <td>0xC7CF344F5B03295037595B1337AC905CA188F1B5B3A5...</td>\n",
       "      <td>0</td>\n",
       "      <td>0.0</td>\n",
       "      <td>0.0</td>\n",
       "      <td>...</td>\n",
       "      <td>0</td>\n",
       "      <td>0</td>\n",
       "      <td>1</td>\n",
       "      <td>0</td>\n",
       "      <td>0</td>\n",
       "      <td>0</td>\n",
       "      <td>0</td>\n",
       "      <td>0</td>\n",
       "      <td>0</td>\n",
       "      <td>1</td>\n",
       "    </tr>\n",
       "    <tr>\n",
       "      <th>2</th>\n",
       "      <td>3</td>\n",
       "      <td>4</td>\n",
       "      <td>FRA</td>\n",
       "      <td>60.0</td>\n",
       "      <td>1095</td>\n",
       "      <td>0xFF534C83C0EF23D1CE516BC80A65D0197003D27937D4...</td>\n",
       "      <td>0xBD3823A9B4EC35D6CAF4B27AE423A677C0200DB61E82...</td>\n",
       "      <td>93</td>\n",
       "      <td>240.0</td>\n",
       "      <td>60.0</td>\n",
       "      <td>...</td>\n",
       "      <td>0</td>\n",
       "      <td>0</td>\n",
       "      <td>1</td>\n",
       "      <td>0</td>\n",
       "      <td>0</td>\n",
       "      <td>0</td>\n",
       "      <td>0</td>\n",
       "      <td>0</td>\n",
       "      <td>0</td>\n",
       "      <td>1</td>\n",
       "    </tr>\n",
       "    <tr>\n",
       "      <th>3</th>\n",
       "      <td>4</td>\n",
       "      <td>5</td>\n",
       "      <td>FRA</td>\n",
       "      <td>51.0</td>\n",
       "      <td>1095</td>\n",
       "      <td>0x9C1DEF02C9BE242842C1C1ABF2C5AA249A1EEB4763B4...</td>\n",
       "      <td>0xE175754CF77247B202DD0820F49407C762C14A603B3A...</td>\n",
       "      <td>0</td>\n",
       "      <td>0.0</td>\n",
       "      <td>0.0</td>\n",
       "      <td>...</td>\n",
       "      <td>0</td>\n",
       "      <td>0</td>\n",
       "      <td>1</td>\n",
       "      <td>0</td>\n",
       "      <td>0</td>\n",
       "      <td>0</td>\n",
       "      <td>0</td>\n",
       "      <td>0</td>\n",
       "      <td>0</td>\n",
       "      <td>1</td>\n",
       "    </tr>\n",
       "    <tr>\n",
       "      <th>4</th>\n",
       "      <td>5</td>\n",
       "      <td>6</td>\n",
       "      <td>JPN</td>\n",
       "      <td>54.0</td>\n",
       "      <td>1095</td>\n",
       "      <td>0x6E70C1504EB27252542F58E4D3C8C83516E093334721...</td>\n",
       "      <td>0xE82EC1D6938A04CF19E1F7F55A402E7ABC686261537A...</td>\n",
       "      <td>58</td>\n",
       "      <td>230.0</td>\n",
       "      <td>24.0</td>\n",
       "      <td>...</td>\n",
       "      <td>0</td>\n",
       "      <td>0</td>\n",
       "      <td>1</td>\n",
       "      <td>0</td>\n",
       "      <td>0</td>\n",
       "      <td>0</td>\n",
       "      <td>0</td>\n",
       "      <td>0</td>\n",
       "      <td>1</td>\n",
       "      <td>0</td>\n",
       "    </tr>\n",
       "  </tbody>\n",
       "</table>\n",
       "<p>5 rows × 49 columns</p>\n",
       "</div>"
      ],
      "text/plain": [
       "   Unnamed: 0  ID Nationality   Age  DaysSinceCreation  \\\n",
       "0           0   1         PRT  51.0                150   \n",
       "1           2   3         DEU  31.0               1095   \n",
       "2           3   4         FRA  60.0               1095   \n",
       "3           4   5         FRA  51.0               1095   \n",
       "4           5   6         JPN  54.0               1095   \n",
       "\n",
       "                                            NameHash  \\\n",
       "0  0x8E0A7AF39B633D5EA25C3B7EF4DFC5464B36DB7AF375...   \n",
       "1  0x31C5E4B74E23231295FDB724AD578C02C4A723F4BA2B...   \n",
       "2  0xFF534C83C0EF23D1CE516BC80A65D0197003D27937D4...   \n",
       "3  0x9C1DEF02C9BE242842C1C1ABF2C5AA249A1EEB4763B4...   \n",
       "4  0x6E70C1504EB27252542F58E4D3C8C83516E093334721...   \n",
       "\n",
       "                                           DocIDHash  AverageLeadTime  \\\n",
       "0  0x71568459B729F7A7ABBED6C781A84CA4274D571003AC...               45   \n",
       "1  0xC7CF344F5B03295037595B1337AC905CA188F1B5B3A5...                0   \n",
       "2  0xBD3823A9B4EC35D6CAF4B27AE423A677C0200DB61E82...               93   \n",
       "3  0xE175754CF77247B202DD0820F49407C762C14A603B3A...                0   \n",
       "4  0xE82EC1D6938A04CF19E1F7F55A402E7ABC686261537A...               58   \n",
       "\n",
       "   LodgingRevenue  OtherRevenue  ...  DistributionChannel_Direct  \\\n",
       "0           371.0         105.3  ...                           0   \n",
       "1             0.0           0.0  ...                           0   \n",
       "2           240.0          60.0  ...                           0   \n",
       "3             0.0           0.0  ...                           0   \n",
       "4           230.0          24.0  ...                           0   \n",
       "\n",
       "   DistributionChannel_Electronic Distribution  \\\n",
       "0                                            0   \n",
       "1                                            0   \n",
       "2                                            0   \n",
       "3                                            0   \n",
       "4                                            0   \n",
       "\n",
       "   DistributionChannel_Travel Agent/Operator  MarketSegment_Aviation  \\\n",
       "0                                          0                       0   \n",
       "1                                          1                       0   \n",
       "2                                          1                       0   \n",
       "3                                          1                       0   \n",
       "4                                          1                       0   \n",
       "\n",
       "   MarketSegment_Complementary  MarketSegment_Corporate  MarketSegment_Direct  \\\n",
       "0                            0                        1                     0   \n",
       "1                            0                        0                     0   \n",
       "2                            0                        0                     0   \n",
       "3                            0                        0                     0   \n",
       "4                            0                        0                     0   \n",
       "\n",
       "   MarketSegment_Groups  MarketSegment_Other  \\\n",
       "0                     0                    0   \n",
       "1                     0                    0   \n",
       "2                     0                    0   \n",
       "3                     0                    0   \n",
       "4                     0                    1   \n",
       "\n",
       "   MarketSegment_Travel Agent/Operator  \n",
       "0                                    0  \n",
       "1                                    1  \n",
       "2                                    1  \n",
       "3                                    1  \n",
       "4                                    0  \n",
       "\n",
       "[5 rows x 49 columns]"
      ]
     },
     "execution_count": 2,
     "metadata": {},
     "output_type": "execute_result"
    }
   ],
   "source": [
    "df = pd.read_csv('HotelCustomersDataset_Cleaned.csv')\n",
    "df.head()"
   ]
  },
  {
   "cell_type": "code",
   "execution_count": 3,
   "metadata": {},
   "outputs": [
    {
     "data": {
      "text/plain": [
       "(75397, 49)"
      ]
     },
     "execution_count": 3,
     "metadata": {},
     "output_type": "execute_result"
    }
   ],
   "source": [
    "df.shape"
   ]
  },
  {
   "cell_type": "code",
   "execution_count": 4,
   "metadata": {},
   "outputs": [
    {
     "data": {
      "text/html": [
       "<div>\n",
       "<style scoped>\n",
       "    .dataframe tbody tr th:only-of-type {\n",
       "        vertical-align: middle;\n",
       "    }\n",
       "\n",
       "    .dataframe tbody tr th {\n",
       "        vertical-align: top;\n",
       "    }\n",
       "\n",
       "    .dataframe thead th {\n",
       "        text-align: right;\n",
       "    }\n",
       "</style>\n",
       "<table border=\"1\" class=\"dataframe\">\n",
       "  <thead>\n",
       "    <tr style=\"text-align: right;\">\n",
       "      <th></th>\n",
       "      <th>Unnamed: 0</th>\n",
       "      <th>ID</th>\n",
       "      <th>Age</th>\n",
       "      <th>DaysSinceCreation</th>\n",
       "      <th>AverageLeadTime</th>\n",
       "      <th>LodgingRevenue</th>\n",
       "      <th>OtherRevenue</th>\n",
       "      <th>BookingsCanceled</th>\n",
       "      <th>BookingsNoShowed</th>\n",
       "      <th>BookingsCheckedIn</th>\n",
       "      <th>...</th>\n",
       "      <th>DistributionChannel_Direct</th>\n",
       "      <th>DistributionChannel_Electronic Distribution</th>\n",
       "      <th>DistributionChannel_Travel Agent/Operator</th>\n",
       "      <th>MarketSegment_Aviation</th>\n",
       "      <th>MarketSegment_Complementary</th>\n",
       "      <th>MarketSegment_Corporate</th>\n",
       "      <th>MarketSegment_Direct</th>\n",
       "      <th>MarketSegment_Groups</th>\n",
       "      <th>MarketSegment_Other</th>\n",
       "      <th>MarketSegment_Travel Agent/Operator</th>\n",
       "    </tr>\n",
       "  </thead>\n",
       "  <tbody>\n",
       "    <tr>\n",
       "      <th>count</th>\n",
       "      <td>75397.000000</td>\n",
       "      <td>75397.000000</td>\n",
       "      <td>75397.00000</td>\n",
       "      <td>75397.000000</td>\n",
       "      <td>75397.000000</td>\n",
       "      <td>75397.000000</td>\n",
       "      <td>75397.000000</td>\n",
       "      <td>75397.000000</td>\n",
       "      <td>75397.000000</td>\n",
       "      <td>75397.000000</td>\n",
       "      <td>...</td>\n",
       "      <td>75397.000000</td>\n",
       "      <td>75397.000000</td>\n",
       "      <td>75397.000000</td>\n",
       "      <td>75397.000000</td>\n",
       "      <td>75397.000000</td>\n",
       "      <td>75397.000000</td>\n",
       "      <td>75397.000000</td>\n",
       "      <td>75397.000000</td>\n",
       "      <td>75397.000000</td>\n",
       "      <td>75397.000000</td>\n",
       "    </tr>\n",
       "    <tr>\n",
       "      <th>mean</th>\n",
       "      <td>41458.629853</td>\n",
       "      <td>41459.629853</td>\n",
       "      <td>47.43962</td>\n",
       "      <td>457.372482</td>\n",
       "      <td>69.406104</td>\n",
       "      <td>311.787922</td>\n",
       "      <td>70.174372</td>\n",
       "      <td>0.001950</td>\n",
       "      <td>0.000610</td>\n",
       "      <td>0.826638</td>\n",
       "      <td>...</td>\n",
       "      <td>0.136146</td>\n",
       "      <td>0.006525</td>\n",
       "      <td>0.826863</td>\n",
       "      <td>0.002958</td>\n",
       "      <td>0.005093</td>\n",
       "      <td>0.025147</td>\n",
       "      <td>0.131491</td>\n",
       "      <td>0.116583</td>\n",
       "      <td>0.573869</td>\n",
       "      <td>0.144860</td>\n",
       "    </tr>\n",
       "    <tr>\n",
       "      <th>std</th>\n",
       "      <td>23946.219003</td>\n",
       "      <td>23946.219003</td>\n",
       "      <td>14.63154</td>\n",
       "      <td>310.607758</td>\n",
       "      <td>88.717833</td>\n",
       "      <td>365.144705</td>\n",
       "      <td>112.928400</td>\n",
       "      <td>0.067813</td>\n",
       "      <td>0.029129</td>\n",
       "      <td>0.688431</td>\n",
       "      <td>...</td>\n",
       "      <td>0.342946</td>\n",
       "      <td>0.080517</td>\n",
       "      <td>0.378368</td>\n",
       "      <td>0.054304</td>\n",
       "      <td>0.071184</td>\n",
       "      <td>0.156572</td>\n",
       "      <td>0.337938</td>\n",
       "      <td>0.320925</td>\n",
       "      <td>0.494517</td>\n",
       "      <td>0.351962</td>\n",
       "    </tr>\n",
       "    <tr>\n",
       "      <th>min</th>\n",
       "      <td>0.000000</td>\n",
       "      <td>1.000000</td>\n",
       "      <td>18.00000</td>\n",
       "      <td>0.000000</td>\n",
       "      <td>-1.000000</td>\n",
       "      <td>0.000000</td>\n",
       "      <td>0.000000</td>\n",
       "      <td>0.000000</td>\n",
       "      <td>0.000000</td>\n",
       "      <td>0.000000</td>\n",
       "      <td>...</td>\n",
       "      <td>0.000000</td>\n",
       "      <td>0.000000</td>\n",
       "      <td>0.000000</td>\n",
       "      <td>0.000000</td>\n",
       "      <td>0.000000</td>\n",
       "      <td>0.000000</td>\n",
       "      <td>0.000000</td>\n",
       "      <td>0.000000</td>\n",
       "      <td>0.000000</td>\n",
       "      <td>0.000000</td>\n",
       "    </tr>\n",
       "    <tr>\n",
       "      <th>25%</th>\n",
       "      <td>20943.000000</td>\n",
       "      <td>20944.000000</td>\n",
       "      <td>36.00000</td>\n",
       "      <td>184.000000</td>\n",
       "      <td>1.000000</td>\n",
       "      <td>91.200000</td>\n",
       "      <td>7.000000</td>\n",
       "      <td>0.000000</td>\n",
       "      <td>0.000000</td>\n",
       "      <td>1.000000</td>\n",
       "      <td>...</td>\n",
       "      <td>0.000000</td>\n",
       "      <td>0.000000</td>\n",
       "      <td>1.000000</td>\n",
       "      <td>0.000000</td>\n",
       "      <td>0.000000</td>\n",
       "      <td>0.000000</td>\n",
       "      <td>0.000000</td>\n",
       "      <td>0.000000</td>\n",
       "      <td>0.000000</td>\n",
       "      <td>0.000000</td>\n",
       "    </tr>\n",
       "    <tr>\n",
       "      <th>50%</th>\n",
       "      <td>40780.000000</td>\n",
       "      <td>40781.000000</td>\n",
       "      <td>48.00000</td>\n",
       "      <td>414.000000</td>\n",
       "      <td>34.000000</td>\n",
       "      <td>246.900000</td>\n",
       "      <td>42.000000</td>\n",
       "      <td>0.000000</td>\n",
       "      <td>0.000000</td>\n",
       "      <td>1.000000</td>\n",
       "      <td>...</td>\n",
       "      <td>0.000000</td>\n",
       "      <td>0.000000</td>\n",
       "      <td>1.000000</td>\n",
       "      <td>0.000000</td>\n",
       "      <td>0.000000</td>\n",
       "      <td>0.000000</td>\n",
       "      <td>0.000000</td>\n",
       "      <td>0.000000</td>\n",
       "      <td>1.000000</td>\n",
       "      <td>0.000000</td>\n",
       "    </tr>\n",
       "    <tr>\n",
       "      <th>75%</th>\n",
       "      <td>61799.000000</td>\n",
       "      <td>61800.000000</td>\n",
       "      <td>58.00000</td>\n",
       "      <td>722.000000</td>\n",
       "      <td>108.000000</td>\n",
       "      <td>415.000000</td>\n",
       "      <td>91.000000</td>\n",
       "      <td>0.000000</td>\n",
       "      <td>0.000000</td>\n",
       "      <td>1.000000</td>\n",
       "      <td>...</td>\n",
       "      <td>0.000000</td>\n",
       "      <td>0.000000</td>\n",
       "      <td>1.000000</td>\n",
       "      <td>0.000000</td>\n",
       "      <td>0.000000</td>\n",
       "      <td>0.000000</td>\n",
       "      <td>0.000000</td>\n",
       "      <td>0.000000</td>\n",
       "      <td>1.000000</td>\n",
       "      <td>0.000000</td>\n",
       "    </tr>\n",
       "    <tr>\n",
       "      <th>max</th>\n",
       "      <td>83588.000000</td>\n",
       "      <td>83589.000000</td>\n",
       "      <td>122.00000</td>\n",
       "      <td>1095.000000</td>\n",
       "      <td>588.000000</td>\n",
       "      <td>9682.400000</td>\n",
       "      <td>7730.250000</td>\n",
       "      <td>9.000000</td>\n",
       "      <td>3.000000</td>\n",
       "      <td>66.000000</td>\n",
       "      <td>...</td>\n",
       "      <td>1.000000</td>\n",
       "      <td>1.000000</td>\n",
       "      <td>1.000000</td>\n",
       "      <td>1.000000</td>\n",
       "      <td>1.000000</td>\n",
       "      <td>1.000000</td>\n",
       "      <td>1.000000</td>\n",
       "      <td>1.000000</td>\n",
       "      <td>1.000000</td>\n",
       "      <td>1.000000</td>\n",
       "    </tr>\n",
       "  </tbody>\n",
       "</table>\n",
       "<p>8 rows × 46 columns</p>\n",
       "</div>"
      ],
      "text/plain": [
       "         Unnamed: 0            ID          Age  DaysSinceCreation  \\\n",
       "count  75397.000000  75397.000000  75397.00000       75397.000000   \n",
       "mean   41458.629853  41459.629853     47.43962         457.372482   \n",
       "std    23946.219003  23946.219003     14.63154         310.607758   \n",
       "min        0.000000      1.000000     18.00000           0.000000   \n",
       "25%    20943.000000  20944.000000     36.00000         184.000000   \n",
       "50%    40780.000000  40781.000000     48.00000         414.000000   \n",
       "75%    61799.000000  61800.000000     58.00000         722.000000   \n",
       "max    83588.000000  83589.000000    122.00000        1095.000000   \n",
       "\n",
       "       AverageLeadTime  LodgingRevenue  OtherRevenue  BookingsCanceled  \\\n",
       "count     75397.000000    75397.000000  75397.000000      75397.000000   \n",
       "mean         69.406104      311.787922     70.174372          0.001950   \n",
       "std          88.717833      365.144705    112.928400          0.067813   \n",
       "min          -1.000000        0.000000      0.000000          0.000000   \n",
       "25%           1.000000       91.200000      7.000000          0.000000   \n",
       "50%          34.000000      246.900000     42.000000          0.000000   \n",
       "75%         108.000000      415.000000     91.000000          0.000000   \n",
       "max         588.000000     9682.400000   7730.250000          9.000000   \n",
       "\n",
       "       BookingsNoShowed  BookingsCheckedIn  ...  DistributionChannel_Direct  \\\n",
       "count      75397.000000       75397.000000  ...                75397.000000   \n",
       "mean           0.000610           0.826638  ...                    0.136146   \n",
       "std            0.029129           0.688431  ...                    0.342946   \n",
       "min            0.000000           0.000000  ...                    0.000000   \n",
       "25%            0.000000           1.000000  ...                    0.000000   \n",
       "50%            0.000000           1.000000  ...                    0.000000   \n",
       "75%            0.000000           1.000000  ...                    0.000000   \n",
       "max            3.000000          66.000000  ...                    1.000000   \n",
       "\n",
       "       DistributionChannel_Electronic Distribution  \\\n",
       "count                                 75397.000000   \n",
       "mean                                      0.006525   \n",
       "std                                       0.080517   \n",
       "min                                       0.000000   \n",
       "25%                                       0.000000   \n",
       "50%                                       0.000000   \n",
       "75%                                       0.000000   \n",
       "max                                       1.000000   \n",
       "\n",
       "       DistributionChannel_Travel Agent/Operator  MarketSegment_Aviation  \\\n",
       "count                               75397.000000            75397.000000   \n",
       "mean                                    0.826863                0.002958   \n",
       "std                                     0.378368                0.054304   \n",
       "min                                     0.000000                0.000000   \n",
       "25%                                     1.000000                0.000000   \n",
       "50%                                     1.000000                0.000000   \n",
       "75%                                     1.000000                0.000000   \n",
       "max                                     1.000000                1.000000   \n",
       "\n",
       "       MarketSegment_Complementary  MarketSegment_Corporate  \\\n",
       "count                 75397.000000             75397.000000   \n",
       "mean                      0.005093                 0.025147   \n",
       "std                       0.071184                 0.156572   \n",
       "min                       0.000000                 0.000000   \n",
       "25%                       0.000000                 0.000000   \n",
       "50%                       0.000000                 0.000000   \n",
       "75%                       0.000000                 0.000000   \n",
       "max                       1.000000                 1.000000   \n",
       "\n",
       "       MarketSegment_Direct  MarketSegment_Groups  MarketSegment_Other  \\\n",
       "count          75397.000000          75397.000000         75397.000000   \n",
       "mean               0.131491              0.116583             0.573869   \n",
       "std                0.337938              0.320925             0.494517   \n",
       "min                0.000000              0.000000             0.000000   \n",
       "25%                0.000000              0.000000             0.000000   \n",
       "50%                0.000000              0.000000             1.000000   \n",
       "75%                0.000000              0.000000             1.000000   \n",
       "max                1.000000              1.000000             1.000000   \n",
       "\n",
       "       MarketSegment_Travel Agent/Operator  \n",
       "count                         75397.000000  \n",
       "mean                              0.144860  \n",
       "std                               0.351962  \n",
       "min                               0.000000  \n",
       "25%                               0.000000  \n",
       "50%                               0.000000  \n",
       "75%                               0.000000  \n",
       "max                               1.000000  \n",
       "\n",
       "[8 rows x 46 columns]"
      ]
     },
     "execution_count": 4,
     "metadata": {},
     "output_type": "execute_result"
    }
   ],
   "source": [
    "df.describe()"
   ]
  },
  {
   "cell_type": "code",
   "execution_count": 5,
   "metadata": {
    "scrolled": true
   },
   "outputs": [
    {
     "data": {
      "text/html": [
       "<div>\n",
       "<style scoped>\n",
       "    .dataframe tbody tr th:only-of-type {\n",
       "        vertical-align: middle;\n",
       "    }\n",
       "\n",
       "    .dataframe tbody tr th {\n",
       "        vertical-align: top;\n",
       "    }\n",
       "\n",
       "    .dataframe thead th {\n",
       "        text-align: right;\n",
       "    }\n",
       "</style>\n",
       "<table border=\"1\" class=\"dataframe\">\n",
       "  <thead>\n",
       "    <tr style=\"text-align: right;\">\n",
       "      <th></th>\n",
       "      <th>ID</th>\n",
       "      <th>Recency</th>\n",
       "      <th>Frequency</th>\n",
       "      <th>Monetary</th>\n",
       "    </tr>\n",
       "  </thead>\n",
       "  <tbody>\n",
       "    <tr>\n",
       "      <th>0</th>\n",
       "      <td>1</td>\n",
       "      <td>151</td>\n",
       "      <td>3</td>\n",
       "      <td>476.3</td>\n",
       "    </tr>\n",
       "    <tr>\n",
       "      <th>1</th>\n",
       "      <td>3</td>\n",
       "      <td>-1</td>\n",
       "      <td>0</td>\n",
       "      <td>0.0</td>\n",
       "    </tr>\n",
       "    <tr>\n",
       "      <th>2</th>\n",
       "      <td>4</td>\n",
       "      <td>1100</td>\n",
       "      <td>1</td>\n",
       "      <td>300.0</td>\n",
       "    </tr>\n",
       "    <tr>\n",
       "      <th>3</th>\n",
       "      <td>5</td>\n",
       "      <td>-1</td>\n",
       "      <td>0</td>\n",
       "      <td>0.0</td>\n",
       "    </tr>\n",
       "    <tr>\n",
       "      <th>4</th>\n",
       "      <td>6</td>\n",
       "      <td>1097</td>\n",
       "      <td>1</td>\n",
       "      <td>254.0</td>\n",
       "    </tr>\n",
       "  </tbody>\n",
       "</table>\n",
       "</div>"
      ],
      "text/plain": [
       "   ID  Recency  Frequency  Monetary\n",
       "0   1      151          3     476.3\n",
       "1   3       -1          0       0.0\n",
       "2   4     1100          1     300.0\n",
       "3   5       -1          0       0.0\n",
       "4   6     1097          1     254.0"
      ]
     },
     "execution_count": 5,
     "metadata": {},
     "output_type": "execute_result"
    }
   ],
   "source": [
    "# Create RFM_df\n",
    "RFM_df = df.assign(\n",
    "    Recency=df['DaysSinceLastStay'], \n",
    "    Frequency=df['BookingsCheckedIn'], \n",
    "    Monetary=df['LodgingRevenue'] + df['OtherRevenue'])\n",
    "RFM_df = RFM_df[['ID','Recency', 'Frequency', 'Monetary']]\n",
    "RFM_df.head()"
   ]
  },
  {
   "cell_type": "markdown",
   "metadata": {},
   "source": [
    "#### Investigate customers with `Monetary` = 0"
   ]
  },
  {
   "cell_type": "code",
   "execution_count": 6,
   "metadata": {},
   "outputs": [
    {
     "data": {
      "text/plain": [
       "0    15611\n",
       "1      177\n",
       "2        9\n",
       "4        2\n",
       "7        2\n",
       "3        2\n",
       "Name: Frequency, dtype: int64"
      ]
     },
     "execution_count": 6,
     "metadata": {},
     "output_type": "execute_result"
    }
   ],
   "source": [
    "# confirm whether customers with Monetary = 0 means they had never stayed at the hotel before\n",
    "RFM_df[RFM_df['Monetary']==0]['Frequency'].value_counts()"
   ]
  },
  {
   "cell_type": "code",
   "execution_count": 7,
   "metadata": {},
   "outputs": [
    {
     "data": {
      "text/plain": [
       "(15611, 4)"
      ]
     },
     "execution_count": 7,
     "metadata": {},
     "output_type": "execute_result"
    }
   ],
   "source": [
    "RFM_df[RFM_df['Recency']==-1].shape"
   ]
  },
  {
   "cell_type": "code",
   "execution_count": 8,
   "metadata": {},
   "outputs": [
    {
     "data": {
      "text/plain": [
       "MarketSegment_Complementary            166\n",
       "MarketSegment_Groups                    12\n",
       "MarketSegment_Direct                     8\n",
       "MarketSegment_Travel Agent/Operator      6\n",
       "dtype: int64"
      ]
     },
     "execution_count": 8,
     "metadata": {},
     "output_type": "execute_result"
    }
   ],
   "source": [
    "df['TotalRevenue'] = df['LodgingRevenue'] + df['OtherRevenue']\n",
    "df[(df['TotalRevenue']==0) & (df['DaysSinceFirstStay']!=-1)][['MarketSegment_Complementary','MarketSegment_Groups','MarketSegment_Direct','MarketSegment_Travel Agent/Operator']].sum()"
   ]
  },
  {
   "cell_type": "markdown",
   "metadata": {},
   "source": [
    "- Confirmed that majority, but not all customers with `Monetary` = 0 means they never stayed at the hotel before.\n",
    "- 15,611 customers were found to have `Monetary` = 0 as they never stayed at the hotel before since their `Recency` = -1 and `Frequency` = 0.\n",
    "- Remaining 192 customers with `Monetary` = 0 have stayed at the hotel at least once. \n",
    "- Majority of these 192 customers belong to the 'Complementary' MarketSegment, which probably explains why they did not pay for the hotel stay. Other segments include 'Groups', 'Direct', and 'Travel Agent/Operator'.\n",
    "- Since they are only 192 such customers (vvv small proportion), can just drop them and focus on higher valued customers."
   ]
  },
  {
   "cell_type": "code",
   "execution_count": 9,
   "metadata": {},
   "outputs": [
    {
     "name": "stdout",
     "output_type": "stream",
     "text": [
      "There were 75397 customers at first.\n",
      "\n",
      "After dropping customers who have not stayed at the hotel and/or have no monetary value, there are 59593 customers.\n",
      "\n",
      "   ID  Recency  Frequency  Monetary\n",
      "0   1      151          3     476.3\n",
      "2   4     1100          1     300.0\n",
      "4   6     1097          1     254.0\n",
      "6   8     1100          1     629.0\n",
      "8  10     1098          1     243.0\n"
     ]
    }
   ],
   "source": [
    "# Only keep clients that had make a check-in in the past and is considered a client\n",
    "print(f'There were {len(RFM_df)} customers at first.\\n')\n",
    "\n",
    "RFM_df = RFM_df[\n",
    "    (RFM_df['Recency'] > 0) & \n",
    "    (RFM_df['Frequency'] != 0)  \n",
    "   & (RFM_df['Monetary'] != 0)\n",
    "    ]\n",
    "\n",
    "print(f'After dropping customers who have not stayed at the hotel and/or have no monetary value, there are {len(RFM_df)} customers.\\n')\n",
    "\n",
    "print(RFM_df.head())"
   ]
  },
  {
   "cell_type": "code",
   "execution_count": 10,
   "metadata": {},
   "outputs": [
    {
     "data": {
      "text/html": [
       "<div>\n",
       "<style scoped>\n",
       "    .dataframe tbody tr th:only-of-type {\n",
       "        vertical-align: middle;\n",
       "    }\n",
       "\n",
       "    .dataframe tbody tr th {\n",
       "        vertical-align: top;\n",
       "    }\n",
       "\n",
       "    .dataframe thead th {\n",
       "        text-align: right;\n",
       "    }\n",
       "</style>\n",
       "<table border=\"1\" class=\"dataframe\">\n",
       "  <thead>\n",
       "    <tr style=\"text-align: right;\">\n",
       "      <th></th>\n",
       "      <th>ID</th>\n",
       "      <th>Recency</th>\n",
       "      <th>Frequency</th>\n",
       "      <th>Monetary</th>\n",
       "    </tr>\n",
       "  </thead>\n",
       "  <tbody>\n",
       "    <tr>\n",
       "      <th>count</th>\n",
       "      <td>59593.000000</td>\n",
       "      <td>59593.000000</td>\n",
       "      <td>59593.000000</td>\n",
       "      <td>59593.000000</td>\n",
       "    </tr>\n",
       "    <tr>\n",
       "      <th>mean</th>\n",
       "      <td>36561.772440</td>\n",
       "      <td>519.054939</td>\n",
       "      <td>1.042085</td>\n",
       "      <td>483.253420</td>\n",
       "    </tr>\n",
       "    <tr>\n",
       "      <th>std</th>\n",
       "      <td>22841.005167</td>\n",
       "      <td>301.082006</td>\n",
       "      <td>0.610004</td>\n",
       "      <td>436.730538</td>\n",
       "    </tr>\n",
       "    <tr>\n",
       "      <th>min</th>\n",
       "      <td>1.000000</td>\n",
       "      <td>1.000000</td>\n",
       "      <td>1.000000</td>\n",
       "      <td>1.000000</td>\n",
       "    </tr>\n",
       "    <tr>\n",
       "      <th>25%</th>\n",
       "      <td>17735.000000</td>\n",
       "      <td>248.000000</td>\n",
       "      <td>1.000000</td>\n",
       "      <td>242.000000</td>\n",
       "    </tr>\n",
       "    <tr>\n",
       "      <th>50%</th>\n",
       "      <td>33472.000000</td>\n",
       "      <td>520.000000</td>\n",
       "      <td>1.000000</td>\n",
       "      <td>381.300000</td>\n",
       "    </tr>\n",
       "    <tr>\n",
       "      <th>75%</th>\n",
       "      <td>53873.000000</td>\n",
       "      <td>788.000000</td>\n",
       "      <td>1.000000</td>\n",
       "      <td>579.500000</td>\n",
       "    </tr>\n",
       "    <tr>\n",
       "      <th>max</th>\n",
       "      <td>83589.000000</td>\n",
       "      <td>1104.000000</td>\n",
       "      <td>66.000000</td>\n",
       "      <td>11930.660000</td>\n",
       "    </tr>\n",
       "  </tbody>\n",
       "</table>\n",
       "</div>"
      ],
      "text/plain": [
       "                 ID       Recency     Frequency      Monetary\n",
       "count  59593.000000  59593.000000  59593.000000  59593.000000\n",
       "mean   36561.772440    519.054939      1.042085    483.253420\n",
       "std    22841.005167    301.082006      0.610004    436.730538\n",
       "min        1.000000      1.000000      1.000000      1.000000\n",
       "25%    17735.000000    248.000000      1.000000    242.000000\n",
       "50%    33472.000000    520.000000      1.000000    381.300000\n",
       "75%    53873.000000    788.000000      1.000000    579.500000\n",
       "max    83589.000000   1104.000000     66.000000  11930.660000"
      ]
     },
     "execution_count": 10,
     "metadata": {},
     "output_type": "execute_result"
    }
   ],
   "source": [
    "RFM_df.describe()"
   ]
  },
  {
   "cell_type": "markdown",
   "metadata": {},
   "source": [
    "### Check distribution of data"
   ]
  },
  {
   "cell_type": "code",
   "execution_count": 11,
   "metadata": {},
   "outputs": [
    {
     "data": {
      "image/png": "[encoded data removed]",
      "text/plain": [
       "<Figure size 2200x700 with 3 Axes>"
      ]
     },
     "metadata": {},
     "output_type": "display_data"
    }
   ],
   "source": [
    "columns=[\"Recency\",\"Frequency\",\"Monetary\"]\n",
    "plt.figure(figsize=(22,7))\n",
    "for i,j in enumerate(columns):\n",
    "    plt.subplot(1,3,i+1)\n",
    "    sns.distplot(RFM_df[j])\n",
    "    plt.title('{}'.format(j))"
   ]
  },
  {
   "cell_type": "markdown",
   "metadata": {},
   "source": [
    "#### Further investigate `Frequency` distribution"
   ]
  },
  {
   "cell_type": "code",
   "execution_count": 12,
   "metadata": {
    "scrolled": true
   },
   "outputs": [
    {
     "data": {
      "text/html": [
       "<div>\n",
       "<style scoped>\n",
       "    .dataframe tbody tr th:only-of-type {\n",
       "        vertical-align: middle;\n",
       "    }\n",
       "\n",
       "    .dataframe tbody tr th {\n",
       "        vertical-align: top;\n",
       "    }\n",
       "\n",
       "    .dataframe thead th {\n",
       "        text-align: right;\n",
       "    }\n",
       "</style>\n",
       "<table border=\"1\" class=\"dataframe\">\n",
       "  <thead>\n",
       "    <tr style=\"text-align: right;\">\n",
       "      <th></th>\n",
       "      <th>Percentage</th>\n",
       "    </tr>\n",
       "    <tr>\n",
       "      <th>Frequency</th>\n",
       "      <th></th>\n",
       "    </tr>\n",
       "  </thead>\n",
       "  <tbody>\n",
       "    <tr>\n",
       "      <th>1</th>\n",
       "      <td>0.938230</td>\n",
       "    </tr>\n",
       "    <tr>\n",
       "      <th>2</th>\n",
       "      <td>0.016924</td>\n",
       "    </tr>\n",
       "    <tr>\n",
       "      <th>3</th>\n",
       "      <td>0.001852</td>\n",
       "    </tr>\n",
       "    <tr>\n",
       "      <th>4</th>\n",
       "      <td>0.000870</td>\n",
       "    </tr>\n",
       "    <tr>\n",
       "      <th>5</th>\n",
       "      <td>0.000322</td>\n",
       "    </tr>\n",
       "    <tr>\n",
       "      <th>6</th>\n",
       "      <td>0.000290</td>\n",
       "    </tr>\n",
       "    <tr>\n",
       "      <th>7</th>\n",
       "      <td>0.000209</td>\n",
       "    </tr>\n",
       "    <tr>\n",
       "      <th>8</th>\n",
       "      <td>0.000161</td>\n",
       "    </tr>\n",
       "    <tr>\n",
       "      <th>9</th>\n",
       "      <td>0.000145</td>\n",
       "    </tr>\n",
       "    <tr>\n",
       "      <th>10</th>\n",
       "      <td>0.000113</td>\n",
       "    </tr>\n",
       "    <tr>\n",
       "      <th>11</th>\n",
       "      <td>0.000097</td>\n",
       "    </tr>\n",
       "    <tr>\n",
       "      <th>12</th>\n",
       "      <td>0.000048</td>\n",
       "    </tr>\n",
       "    <tr>\n",
       "      <th>13</th>\n",
       "      <td>0.000064</td>\n",
       "    </tr>\n",
       "    <tr>\n",
       "      <th>14</th>\n",
       "      <td>0.000032</td>\n",
       "    </tr>\n",
       "    <tr>\n",
       "      <th>15</th>\n",
       "      <td>0.000032</td>\n",
       "    </tr>\n",
       "    <tr>\n",
       "      <th>17</th>\n",
       "      <td>0.000016</td>\n",
       "    </tr>\n",
       "    <tr>\n",
       "      <th>18</th>\n",
       "      <td>0.000016</td>\n",
       "    </tr>\n",
       "    <tr>\n",
       "      <th>20</th>\n",
       "      <td>0.000016</td>\n",
       "    </tr>\n",
       "    <tr>\n",
       "      <th>23</th>\n",
       "      <td>0.000032</td>\n",
       "    </tr>\n",
       "    <tr>\n",
       "      <th>24</th>\n",
       "      <td>0.000016</td>\n",
       "    </tr>\n",
       "    <tr>\n",
       "      <th>25</th>\n",
       "      <td>0.000016</td>\n",
       "    </tr>\n",
       "    <tr>\n",
       "      <th>26</th>\n",
       "      <td>0.000016</td>\n",
       "    </tr>\n",
       "    <tr>\n",
       "      <th>29</th>\n",
       "      <td>0.000032</td>\n",
       "    </tr>\n",
       "    <tr>\n",
       "      <th>34</th>\n",
       "      <td>0.000016</td>\n",
       "    </tr>\n",
       "    <tr>\n",
       "      <th>40</th>\n",
       "      <td>0.000016</td>\n",
       "    </tr>\n",
       "    <tr>\n",
       "      <th>57</th>\n",
       "      <td>0.000016</td>\n",
       "    </tr>\n",
       "    <tr>\n",
       "      <th>66</th>\n",
       "      <td>0.000016</td>\n",
       "    </tr>\n",
       "  </tbody>\n",
       "</table>\n",
       "</div>"
      ],
      "text/plain": [
       "           Percentage\n",
       "Frequency            \n",
       "1            0.938230\n",
       "2            0.016924\n",
       "3            0.001852\n",
       "4            0.000870\n",
       "5            0.000322\n",
       "6            0.000290\n",
       "7            0.000209\n",
       "8            0.000161\n",
       "9            0.000145\n",
       "10           0.000113\n",
       "11           0.000097\n",
       "12           0.000048\n",
       "13           0.000064\n",
       "14           0.000032\n",
       "15           0.000032\n",
       "17           0.000016\n",
       "18           0.000016\n",
       "20           0.000016\n",
       "23           0.000032\n",
       "24           0.000016\n",
       "25           0.000016\n",
       "26           0.000016\n",
       "29           0.000032\n",
       "34           0.000016\n",
       "40           0.000016\n",
       "57           0.000016\n",
       "66           0.000016"
      ]
     },
     "execution_count": 12,
     "metadata": {},
     "output_type": "execute_result"
    }
   ],
   "source": [
    "freq_dist=RFM_df.groupby('Frequency').size().rename(\"Percentage\").transform(lambda x: x/RFM_df['Frequency'].sum())\n",
    "freq_dist.to_frame()"
   ]
  },
  {
   "attachments": {},
   "cell_type": "markdown",
   "metadata": {},
   "source": [
    "- `Frequency` value distribution is extremely skewed due to majority of customers being non-repeat customers, i.e. nearly 94% of them only stayed at the hotel once"
   ]
  },
  {
   "cell_type": "code",
   "execution_count": 13,
   "metadata": {
    "scrolled": false
   },
   "outputs": [
    {
     "data": {
      "image/png": "[encoded data removed]",
      "text/plain": [
       "<Figure size 800x600 with 1 Axes>"
      ]
     },
     "metadata": {},
     "output_type": "display_data"
    }
   ],
   "source": [
    "# Outlier Analysis\n",
    "rfm_metrics = ['Monetary','Frequency','Recency']\n",
    "plt.figure(figsize=(8,6))\n",
    "sns.boxplot(data = RFM_df[rfm_metrics], orient=\"v\")\n",
    "plt.title(\"Outliers Variable Distribution\", fontweight = 'bold')\n",
    "plt.ylabel(\"Range\", fontweight = 'bold')\n",
    "plt.xlabel(\"RFM Metrics\", fontweight = 'bold')\n",
    "plt.show()"
   ]
  },
  {
   "cell_type": "markdown",
   "metadata": {},
   "source": [
    "- `Monetary` value distribution is very skewed due to the presence of outliers with high monetary value.\n",
    "- Extreme outliers are around those over 6,000 dollars, so drop these outliers."
   ]
  },
  {
   "cell_type": "markdown",
   "metadata": {},
   "source": [
    "#### Drop `Monetary` outliers"
   ]
  },
  {
   "cell_type": "code",
   "execution_count": 14,
   "metadata": {},
   "outputs": [
    {
     "name": "stdout",
     "output_type": "stream",
     "text": [
      "After dropping 17 outliers, there are now 59576 customers.\n"
     ]
    }
   ],
   "source": [
    "# Identify and remove outliers from the Monetary column\n",
    "total_outliers = len(RFM_df[RFM_df['Monetary'] > 6000])\n",
    "RFM_df = RFM_df[RFM_df['Monetary'] <= 6000]\n",
    "print(f'After dropping {total_outliers} outliers, there are now {len(RFM_df)} customers.')"
   ]
  },
  {
   "cell_type": "markdown",
   "metadata": {},
   "source": [
    "## Customer Segmentation \n",
    "\n",
    "- As the vast majority are non-repeat customers, the dataset will be split into two subsets - one with customers having `Frequency` value of 1, while the other having `Frequency` value over 1."
   ]
  },
  {
   "cell_type": "markdown",
   "metadata": {},
   "source": [
    "### Split dataset into the 2 subsets based on `Frequency` value"
   ]
  },
  {
   "cell_type": "code",
   "execution_count": 15,
   "metadata": {},
   "outputs": [],
   "source": [
    "# create subset of customers with Frequency of 1\n",
    "RFM_non_repeat_cust_df = RFM_df[RFM_df['Frequency']==1]"
   ]
  },
  {
   "cell_type": "code",
   "execution_count": 15,
   "metadata": {
    "scrolled": true
   },
   "outputs": [
    {
     "data": {
      "text/plain": [
       "((58259, 4), (1317, 4))"
      ]
     },
     "execution_count": 15,
     "metadata": {},
     "output_type": "execute_result"
    }
   ],
   "source": [
    "RFM_non_repeat_cust_df.shape, RFM_df.shape"
   ]
  },
  {
   "cell_type": "markdown",
   "metadata": {},
   "source": [
    "### Do segmentation for customers with `Frequency` of 1 using k-means clustering"
   ]
  },
  {
   "cell_type": "code",
   "execution_count": 17,
   "metadata": {},
   "outputs": [
    {
     "data": {
      "text/plain": [
       "count    58259.000000\n",
       "mean       522.860468\n",
       "std        300.659721\n",
       "min          1.000000\n",
       "25%        254.000000\n",
       "50%        525.000000\n",
       "75%        791.000000\n",
       "max       1104.000000\n",
       "Name: Recency, dtype: float64"
      ]
     },
     "execution_count": 17,
     "metadata": {},
     "output_type": "execute_result"
    }
   ],
   "source": [
    "RFM_non_repeat_cust_df['Recency'].describe()"
   ]
  },
  {
   "cell_type": "code",
   "execution_count": 18,
   "metadata": {},
   "outputs": [
    {
     "data": {
      "image/png": "[encoded data removed]",
      "text/plain": [
       "<Figure size 640x480 with 1 Axes>"
      ]
     },
     "metadata": {},
     "output_type": "display_data"
    }
   ],
   "source": [
    "df[df['BookingsCheckedIn']==1]['Domestic_Traveller'].value_counts().plot(kind='pie',autopct='%1.1f%%')\n",
    "plt.title('Proportion of Domestic Traveller')\n",
    "plt.tight_layout()\n",
    "plt.show()"
   ]
  },
  {
   "cell_type": "markdown",
   "metadata": {},
   "source": [
    "- The `Recency` value for most of the customers who have only stayed at the hotel once is between 2-3 years, which is reasonable for a hotel business, especially when nearly 90% of customers are non-domestic travellers.\n",
    "- This implies that `Recency` value is not that important of a metric to measure the value of a customer, but rather it is the `Monetary` value that is most important as they are likely to only stay at the hotel once within the span of 2-3 years. \n",
    "- Hence, the hotel should focus on maximising the customer's spending for every hotel stay. \n",
    "- As such, the segmentation will be done purely based on the customers' `Monetary` value."
   ]
  },
  {
   "cell_type": "code",
   "execution_count": 19,
   "metadata": {},
   "outputs": [],
   "source": [
    "kmeans_df = RFM_non_repeat_cust_df['Monetary']"
   ]
  },
  {
   "cell_type": "markdown",
   "metadata": {},
   "source": [
    "### Standardise the data"
   ]
  },
  {
   "cell_type": "code",
   "execution_count": 20,
   "metadata": {
    "scrolled": true
   },
   "outputs": [
    {
     "data": {
      "text/html": [
       "<div>\n",
       "<style scoped>\n",
       "    .dataframe tbody tr th:only-of-type {\n",
       "        vertical-align: middle;\n",
       "    }\n",
       "\n",
       "    .dataframe tbody tr th {\n",
       "        vertical-align: top;\n",
       "    }\n",
       "\n",
       "    .dataframe thead th {\n",
       "        text-align: right;\n",
       "    }\n",
       "</style>\n",
       "<table border=\"1\" class=\"dataframe\">\n",
       "  <thead>\n",
       "    <tr style=\"text-align: right;\">\n",
       "      <th></th>\n",
       "      <th>scaled_monetary</th>\n",
       "    </tr>\n",
       "  </thead>\n",
       "  <tbody>\n",
       "    <tr>\n",
       "      <th>33772</th>\n",
       "      <td>-0.118675</td>\n",
       "    </tr>\n",
       "    <tr>\n",
       "      <th>55935</th>\n",
       "      <td>-0.202271</td>\n",
       "    </tr>\n",
       "    <tr>\n",
       "      <th>32186</th>\n",
       "      <td>-0.744379</td>\n",
       "    </tr>\n",
       "    <tr>\n",
       "      <th>9027</th>\n",
       "      <td>-0.307400</td>\n",
       "    </tr>\n",
       "    <tr>\n",
       "      <th>32095</th>\n",
       "      <td>0.234708</td>\n",
       "    </tr>\n",
       "  </tbody>\n",
       "</table>\n",
       "</div>"
      ],
      "text/plain": [
       "       scaled_monetary\n",
       "33772        -0.118675\n",
       "55935        -0.202271\n",
       "32186        -0.744379\n",
       "9027         -0.307400\n",
       "32095         0.234708"
      ]
     },
     "execution_count": 20,
     "metadata": {},
     "output_type": "execute_result"
    }
   ],
   "source": [
    "scaler = StandardScaler()\n",
    "scaled_kmeans_df = scaler.fit_transform(kmeans_df.values.reshape(-1,1))\n",
    "\n",
    "scaled_df=pd.DataFrame(scaled_kmeans_df,columns=['scaled_monetary'])\n",
    "scaled_df.sample(5)"
   ]
  },
  {
   "cell_type": "markdown",
   "metadata": {},
   "source": [
    "### Use Elbow Method to find the optimal number of clusters (K)"
   ]
  },
  {
   "cell_type": "code",
   "execution_count": 21,
   "metadata": {},
   "outputs": [
    {
     "data": {
      "image/png": "[encoded data removed]",
      "text/plain": [
       "<Figure size 1000x800 with 1 Axes>"
      ]
     },
     "metadata": {},
     "output_type": "display_data"
    }
   ],
   "source": [
    "wcss={} #wcss stands for within cluster sum of squares\n",
    "\n",
    "for k in range(1,15):\n",
    "    km = KMeans(n_clusters=k, init='k-means++', max_iter=1000 , random_state=20)\n",
    "    km = km.fit(scaled_df)\n",
    "    wcss[k] = km.inertia_\n",
    "    \n",
    "#Plot graph for the wcss values and the number of clusters\n",
    "plt.figure(figsize=(10,8))\n",
    "sns.pointplot(x=list(wcss.keys()), y=list(wcss.values()))\n",
    "plt.xlabel('Number of clusters K')\n",
    "plt.ylabel('Within Cluster Sum of Squares')\n",
    "plt.title('Elbow method for optimal K')\n",
    "plt.show()"
   ]
  },
  {
   "cell_type": "markdown",
   "metadata": {},
   "source": [
    "- Based on the Elbow Method, optimal K would be 3 as there is a less steep decrease in the within cluster sum of squares after 3."
   ]
  },
  {
   "cell_type": "code",
   "execution_count": 22,
   "metadata": {},
   "outputs": [
    {
     "data": {
      "text/html": [
       "<div>\n",
       "<style scoped>\n",
       "    .dataframe tbody tr th:only-of-type {\n",
       "        vertical-align: middle;\n",
       "    }\n",
       "\n",
       "    .dataframe tbody tr th {\n",
       "        vertical-align: top;\n",
       "    }\n",
       "\n",
       "    .dataframe thead th {\n",
       "        text-align: right;\n",
       "    }\n",
       "</style>\n",
       "<table border=\"1\" class=\"dataframe\">\n",
       "  <thead>\n",
       "    <tr style=\"text-align: right;\">\n",
       "      <th></th>\n",
       "      <th>ID</th>\n",
       "      <th>Recency</th>\n",
       "      <th>Frequency</th>\n",
       "      <th>Monetary</th>\n",
       "      <th>Segment</th>\n",
       "    </tr>\n",
       "  </thead>\n",
       "  <tbody>\n",
       "    <tr>\n",
       "      <th>2</th>\n",
       "      <td>4</td>\n",
       "      <td>1100</td>\n",
       "      <td>1</td>\n",
       "      <td>300.0</td>\n",
       "      <td>1</td>\n",
       "    </tr>\n",
       "    <tr>\n",
       "      <th>4</th>\n",
       "      <td>6</td>\n",
       "      <td>1097</td>\n",
       "      <td>1</td>\n",
       "      <td>254.0</td>\n",
       "      <td>1</td>\n",
       "    </tr>\n",
       "    <tr>\n",
       "      <th>6</th>\n",
       "      <td>8</td>\n",
       "      <td>1100</td>\n",
       "      <td>1</td>\n",
       "      <td>629.0</td>\n",
       "      <td>2</td>\n",
       "    </tr>\n",
       "    <tr>\n",
       "      <th>8</th>\n",
       "      <td>10</td>\n",
       "      <td>1098</td>\n",
       "      <td>1</td>\n",
       "      <td>243.0</td>\n",
       "      <td>1</td>\n",
       "    </tr>\n",
       "    <tr>\n",
       "      <th>10</th>\n",
       "      <td>12</td>\n",
       "      <td>1100</td>\n",
       "      <td>1</td>\n",
       "      <td>373.0</td>\n",
       "      <td>1</td>\n",
       "    </tr>\n",
       "  </tbody>\n",
       "</table>\n",
       "</div>"
      ],
      "text/plain": [
       "    ID  Recency  Frequency  Monetary  Segment\n",
       "2    4     1100          1     300.0        1\n",
       "4    6     1097          1     254.0        1\n",
       "6    8     1100          1     629.0        2\n",
       "8   10     1098          1     243.0        1\n",
       "10  12     1100          1     373.0        1"
      ]
     },
     "execution_count": 22,
     "metadata": {},
     "output_type": "execute_result"
    }
   ],
   "source": [
    "#Build K Means clustering model using K=3\n",
    "kmean_model = KMeans(n_clusters=3, init='k-means++', max_iter=1000, random_state=20)\n",
    "kmean_model.fit(scaled_df)\n",
    "\n",
    "#find the clusters for the customers\n",
    "RFM_non_repeat_cust_df['Segment'] = kmean_model.labels_ + 1 #start cluster naming from 1\n",
    "\n",
    "RFM_non_repeat_cust_df.head()"
   ]
  },
  {
   "cell_type": "markdown",
   "metadata": {},
   "source": [
    "### Visualise the Kmeans Segments & Define Customer Profile in each Segment"
   ]
  },
  {
   "cell_type": "code",
   "execution_count": 23,
   "metadata": {},
   "outputs": [
    {
     "data": {
      "text/plain": [
       "1    42693\n",
       "2    13975\n",
       "3     1591\n",
       "Name: Segment, dtype: int64"
      ]
     },
     "execution_count": 23,
     "metadata": {},
     "output_type": "execute_result"
    }
   ],
   "source": [
    "RFM_non_repeat_cust_df['Segment'].value_counts()"
   ]
  },
  {
   "cell_type": "code",
   "execution_count": 24,
   "metadata": {},
   "outputs": [
    {
     "data": {
      "image/png": "[encoded data removed]",
      "text/plain": [
       "<Figure size 640x480 with 1 Axes>"
      ]
     },
     "metadata": {},
     "output_type": "display_data"
    }
   ],
   "source": [
    "RFM_non_repeat_cust_df['Segment'].value_counts().sort_index(ascending=False).plot(kind='barh',color=['m','g','b','r'])\n",
    "plt.tight_layout()\n",
    "plt.show()"
   ]
  },
  {
   "cell_type": "code",
   "execution_count": 25,
   "metadata": {},
   "outputs": [
    {
     "data": {
      "image/png": "[encoded data removed]",
      "text/plain": [
       "<Figure size 640x480 with 1 Axes>"
      ]
     },
     "metadata": {},
     "output_type": "display_data"
    }
   ],
   "source": [
    "RFM_non_repeat_cust_df['Segment'].value_counts().sort_index().plot(kind='pie',colors=['crimson','royalblue','green','darkorchid'],autopct='%1.1f%%',counterclock=False,startangle=90)\n",
    "plt.tight_layout()\n",
    "plt.show()"
   ]
  },
  {
   "cell_type": "code",
   "execution_count": 26,
   "metadata": {},
   "outputs": [
    {
     "data": {
      "image/png": "[encoded data removed]",
      "text/plain": [
       "<Figure size 800x600 with 1 Axes>"
      ]
     },
     "metadata": {},
     "output_type": "display_data"
    }
   ],
   "source": [
    "# Plot the boxplot of Monetary by Segment\n",
    "RFM_non_repeat_cust_df.boxplot('Monetary', by='Segment', figsize=(8,6))\n",
    "\n",
    "# Show the figure\n",
    "plt.show()"
   ]
  },
  {
   "cell_type": "code",
   "execution_count": 27,
   "metadata": {},
   "outputs": [
    {
     "data": {
      "text/plain": [
       "count    58259.000000\n",
       "mean       471.347631\n",
       "std        394.758647\n",
       "min          1.000000\n",
       "25%        240.000000\n",
       "50%        378.000000\n",
       "75%        571.500000\n",
       "max       5947.800000\n",
       "Name: Monetary, dtype: float64"
      ]
     },
     "execution_count": 27,
     "metadata": {},
     "output_type": "execute_result"
    }
   ],
   "source": [
    "RFM_non_repeat_cust_df['Monetary'].describe()"
   ]
  },
  {
   "cell_type": "code",
   "execution_count": 28,
   "metadata": {
    "scrolled": true
   },
   "outputs": [
    {
     "data": {
      "text/html": [
       "<div>\n",
       "<style scoped>\n",
       "    .dataframe tbody tr th:only-of-type {\n",
       "        vertical-align: middle;\n",
       "    }\n",
       "\n",
       "    .dataframe tbody tr th {\n",
       "        vertical-align: top;\n",
       "    }\n",
       "\n",
       "    .dataframe thead th {\n",
       "        text-align: right;\n",
       "    }\n",
       "</style>\n",
       "<table border=\"1\" class=\"dataframe\">\n",
       "  <thead>\n",
       "    <tr style=\"text-align: right;\">\n",
       "      <th></th>\n",
       "      <th>Monetary</th>\n",
       "    </tr>\n",
       "    <tr>\n",
       "      <th>Segment</th>\n",
       "      <th></th>\n",
       "    </tr>\n",
       "  </thead>\n",
       "  <tbody>\n",
       "    <tr>\n",
       "      <th>1</th>\n",
       "      <td>303.058478</td>\n",
       "    </tr>\n",
       "    <tr>\n",
       "      <th>2</th>\n",
       "      <td>800.182537</td>\n",
       "    </tr>\n",
       "    <tr>\n",
       "      <th>3</th>\n",
       "      <td>2098.815273</td>\n",
       "    </tr>\n",
       "  </tbody>\n",
       "</table>\n",
       "</div>"
      ],
      "text/plain": [
       "            Monetary\n",
       "Segment             \n",
       "1         303.058478\n",
       "2         800.182537\n",
       "3        2098.815273"
      ]
     },
     "execution_count": 28,
     "metadata": {},
     "output_type": "execute_result"
    }
   ],
   "source": [
    "RFM_non_repeat_cust_df.groupby('Segment')['Monetary'].agg('mean').to_frame()"
   ]
  },
  {
   "attachments": {},
   "cell_type": "markdown",
   "metadata": {},
   "source": [
    "- Segment 1: Low-moderate monetary value\n",
    "- Segment 2: High monetary value\n",
    "- Segment 3: Very high monetary value"
   ]
  },
  {
   "attachments": {},
   "cell_type": "markdown",
   "metadata": {},
   "source": [
    "### Classification model for Non-Repeat Customers"
   ]
  },
  {
   "cell_type": "code",
   "execution_count": 51,
   "metadata": {},
   "outputs": [
    {
     "data": {
      "text/html": [
       "<div>\n",
       "<style scoped>\n",
       "    .dataframe tbody tr th:only-of-type {\n",
       "        vertical-align: middle;\n",
       "    }\n",
       "\n",
       "    .dataframe tbody tr th {\n",
       "        vertical-align: top;\n",
       "    }\n",
       "\n",
       "    .dataframe thead th {\n",
       "        text-align: right;\n",
       "    }\n",
       "</style>\n",
       "<table border=\"1\" class=\"dataframe\">\n",
       "  <thead>\n",
       "    <tr style=\"text-align: right;\">\n",
       "      <th></th>\n",
       "      <th>Nationality</th>\n",
       "      <th>Age</th>\n",
       "      <th>AverageLeadTime</th>\n",
       "      <th>BookingsCanceled</th>\n",
       "      <th>BookingsNoShowed</th>\n",
       "      <th>PersonsNights</th>\n",
       "      <th>RoomNights</th>\n",
       "      <th>SRHighFloor</th>\n",
       "      <th>SRLowFloor</th>\n",
       "      <th>SRAccessibleRoom</th>\n",
       "      <th>...</th>\n",
       "      <th>DistributionChannel_Electronic Distribution</th>\n",
       "      <th>DistributionChannel_Travel Agent/Operator</th>\n",
       "      <th>MarketSegment_Aviation</th>\n",
       "      <th>MarketSegment_Complementary</th>\n",
       "      <th>MarketSegment_Corporate</th>\n",
       "      <th>MarketSegment_Direct</th>\n",
       "      <th>MarketSegment_Groups</th>\n",
       "      <th>MarketSegment_Other</th>\n",
       "      <th>MarketSegment_Travel Agent/Operator</th>\n",
       "      <th>Segment</th>\n",
       "    </tr>\n",
       "  </thead>\n",
       "  <tbody>\n",
       "    <tr>\n",
       "      <th>0</th>\n",
       "      <td>FRA</td>\n",
       "      <td>60.0</td>\n",
       "      <td>93</td>\n",
       "      <td>0</td>\n",
       "      <td>0</td>\n",
       "      <td>10</td>\n",
       "      <td>5</td>\n",
       "      <td>0</td>\n",
       "      <td>0</td>\n",
       "      <td>0</td>\n",
       "      <td>...</td>\n",
       "      <td>0</td>\n",
       "      <td>1</td>\n",
       "      <td>0</td>\n",
       "      <td>0</td>\n",
       "      <td>0</td>\n",
       "      <td>0</td>\n",
       "      <td>0</td>\n",
       "      <td>0</td>\n",
       "      <td>1</td>\n",
       "      <td>1</td>\n",
       "    </tr>\n",
       "    <tr>\n",
       "      <th>1</th>\n",
       "      <td>JPN</td>\n",
       "      <td>54.0</td>\n",
       "      <td>58</td>\n",
       "      <td>0</td>\n",
       "      <td>0</td>\n",
       "      <td>4</td>\n",
       "      <td>2</td>\n",
       "      <td>0</td>\n",
       "      <td>0</td>\n",
       "      <td>0</td>\n",
       "      <td>...</td>\n",
       "      <td>0</td>\n",
       "      <td>1</td>\n",
       "      <td>0</td>\n",
       "      <td>0</td>\n",
       "      <td>0</td>\n",
       "      <td>0</td>\n",
       "      <td>0</td>\n",
       "      <td>1</td>\n",
       "      <td>0</td>\n",
       "      <td>1</td>\n",
       "    </tr>\n",
       "    <tr>\n",
       "      <th>2</th>\n",
       "      <td>FRA</td>\n",
       "      <td>32.0</td>\n",
       "      <td>38</td>\n",
       "      <td>0</td>\n",
       "      <td>0</td>\n",
       "      <td>10</td>\n",
       "      <td>5</td>\n",
       "      <td>0</td>\n",
       "      <td>0</td>\n",
       "      <td>0</td>\n",
       "      <td>...</td>\n",
       "      <td>0</td>\n",
       "      <td>1</td>\n",
       "      <td>0</td>\n",
       "      <td>0</td>\n",
       "      <td>0</td>\n",
       "      <td>0</td>\n",
       "      <td>0</td>\n",
       "      <td>1</td>\n",
       "      <td>0</td>\n",
       "      <td>2</td>\n",
       "    </tr>\n",
       "    <tr>\n",
       "      <th>3</th>\n",
       "      <td>IRL</td>\n",
       "      <td>25.0</td>\n",
       "      <td>96</td>\n",
       "      <td>0</td>\n",
       "      <td>0</td>\n",
       "      <td>6</td>\n",
       "      <td>3</td>\n",
       "      <td>0</td>\n",
       "      <td>0</td>\n",
       "      <td>0</td>\n",
       "      <td>...</td>\n",
       "      <td>0</td>\n",
       "      <td>1</td>\n",
       "      <td>0</td>\n",
       "      <td>0</td>\n",
       "      <td>0</td>\n",
       "      <td>0</td>\n",
       "      <td>0</td>\n",
       "      <td>0</td>\n",
       "      <td>1</td>\n",
       "      <td>1</td>\n",
       "    </tr>\n",
       "    <tr>\n",
       "      <th>4</th>\n",
       "      <td>FRA</td>\n",
       "      <td>58.0</td>\n",
       "      <td>60</td>\n",
       "      <td>0</td>\n",
       "      <td>0</td>\n",
       "      <td>10</td>\n",
       "      <td>5</td>\n",
       "      <td>0</td>\n",
       "      <td>0</td>\n",
       "      <td>0</td>\n",
       "      <td>...</td>\n",
       "      <td>0</td>\n",
       "      <td>1</td>\n",
       "      <td>0</td>\n",
       "      <td>0</td>\n",
       "      <td>0</td>\n",
       "      <td>0</td>\n",
       "      <td>0</td>\n",
       "      <td>0</td>\n",
       "      <td>1</td>\n",
       "      <td>1</td>\n",
       "    </tr>\n",
       "  </tbody>\n",
       "</table>\n",
       "<p>5 rows × 40 columns</p>\n",
       "</div>"
      ],
      "text/plain": [
       "  Nationality   Age  AverageLeadTime  BookingsCanceled  BookingsNoShowed  \\\n",
       "0         FRA  60.0               93                 0                 0   \n",
       "1         JPN  54.0               58                 0                 0   \n",
       "2         FRA  32.0               38                 0                 0   \n",
       "3         IRL  25.0               96                 0                 0   \n",
       "4         FRA  58.0               60                 0                 0   \n",
       "\n",
       "   PersonsNights  RoomNights  SRHighFloor  SRLowFloor  SRAccessibleRoom  ...  \\\n",
       "0             10           5            0           0                 0  ...   \n",
       "1              4           2            0           0                 0  ...   \n",
       "2             10           5            0           0                 0  ...   \n",
       "3              6           3            0           0                 0  ...   \n",
       "4             10           5            0           0                 0  ...   \n",
       "\n",
       "   DistributionChannel_Electronic Distribution  \\\n",
       "0                                            0   \n",
       "1                                            0   \n",
       "2                                            0   \n",
       "3                                            0   \n",
       "4                                            0   \n",
       "\n",
       "   DistributionChannel_Travel Agent/Operator  MarketSegment_Aviation  \\\n",
       "0                                          1                       0   \n",
       "1                                          1                       0   \n",
       "2                                          1                       0   \n",
       "3                                          1                       0   \n",
       "4                                          1                       0   \n",
       "\n",
       "   MarketSegment_Complementary  MarketSegment_Corporate  MarketSegment_Direct  \\\n",
       "0                            0                        0                     0   \n",
       "1                            0                        0                     0   \n",
       "2                            0                        0                     0   \n",
       "3                            0                        0                     0   \n",
       "4                            0                        0                     0   \n",
       "\n",
       "   MarketSegment_Groups  MarketSegment_Other  \\\n",
       "0                     0                    0   \n",
       "1                     0                    1   \n",
       "2                     0                    1   \n",
       "3                     0                    0   \n",
       "4                     0                    0   \n",
       "\n",
       "   MarketSegment_Travel Agent/Operator  Segment  \n",
       "0                                    1        1  \n",
       "1                                    0        1  \n",
       "2                                    0        2  \n",
       "3                                    1        1  \n",
       "4                                    1        1  \n",
       "\n",
       "[5 rows x 40 columns]"
      ]
     },
     "execution_count": 51,
     "metadata": {},
     "output_type": "execute_result"
    }
   ],
   "source": [
    "# Merge segmented df with the original dataframe\n",
    "non_repeat_cust_df = df.merge(RFM_non_repeat_cust_df[['ID', 'Segment']], on='ID', how='inner')\n",
    "non_repeat_cust_df = non_repeat_cust_df.loc[:, ~non_repeat_cust_df.columns.str.contains('^Unnamed')]\n",
    "\n",
    "# Drop features already accounted for in RFM and unrelated features\n",
    "non_repeat_cust_df = non_repeat_cust_df.drop(['NameHash', 'DocIDHash', 'TotalRevenue', 'LodgingRevenue', 'OtherRevenue',\n",
    "                                              'ID', 'BookingsCheckedIn', 'DaysSinceLastStay', 'DaysSinceFirstStay', 'DaysSinceCreation'], axis=1)\n",
    "non_repeat_cust_df.head()\n"
   ]
  },
  {
   "cell_type": "code",
   "execution_count": 52,
   "metadata": {},
   "outputs": [
    {
     "name": "stdout",
     "output_type": "stream",
     "text": [
      "[[7910  593   13]\n",
      " [1134 1669   46]\n",
      " [  87  156   44]]\n"
     ]
    }
   ],
   "source": [
    "# Use one-hot encoding to encode 'Nationality'\n",
    "X = non_repeat_cust_df.drop('Segment', axis=1)\n",
    "X_encoded = pd.get_dummies(X)\n",
    "y = non_repeat_cust_df['Segment']\n",
    "X_train, X_test, y_train, y_test = train_test_split(X_encoded, y, test_size=0.2)\n",
    "\n",
    "# Use base RandomForest Classifier model\n",
    "clf = RandomForestClassifier()\n",
    "clf.fit(X_train, y_train)\n",
    "y_pred = clf.predict(X_test)\n",
    "\n",
    "# Confusion Matrix\n",
    "cm = confusion_matrix(y_test, y_pred)\n",
    "print(cm)"
   ]
  },
  {
   "cell_type": "code",
   "execution_count": 58,
   "metadata": {},
   "outputs": [
    {
     "name": "stdout",
     "output_type": "stream",
     "text": [
      "Best hyperparameters: {'max_depth': 30, 'min_samples_split': 5, 'n_estimators': 89}\n",
      "[[8110  404    2]\n",
      " [1256 1583   10]\n",
      " [  94  161   32]]\n"
     ]
    }
   ],
   "source": [
    "from sklearn.model_selection import RandomizedSearchCV\n",
    "from scipy.stats import randint\n",
    "\n",
    "# Use Random Search to improve the model performance\n",
    "# Define the hyperparameter distribution\n",
    "param_dist = {\n",
    "    'n_estimators': randint(10, 200),\n",
    "    'max_depth': [None, 10, 20, 30],\n",
    "    'min_samples_split': randint(2, 10)\n",
    "}\n",
    "\n",
    "clf = RandomForestClassifier()\n",
    "random_search = RandomizedSearchCV(clf, param_dist, n_iter=10, cv=5)\n",
    "random_search.fit(X_train, y_train)\n",
    "\n",
    "# Get the best hyperparameters\n",
    "best_params = random_search.best_params_\n",
    "print(f'Best hyperparameters: {best_params}')\n",
    "\n",
    "# Create and fit a new random forest classifier using the best hyperparameters\n",
    "clf = RandomForestClassifier(**best_params)\n",
    "clf.fit(X_train, y_train)\n",
    "y_pred = clf.predict(X_test)\n",
    "\n",
    "# Confusion Matrix\n",
    "cm = confusion_matrix(y_test, y_pred)\n",
    "print(cm)"
   ]
  },
  {
   "cell_type": "code",
   "execution_count": 78,
   "metadata": {},
   "outputs": [
    {
     "data": {
      "text/plain": [
       "<Axes: >"
      ]
     },
     "execution_count": 78,
     "metadata": {},
     "output_type": "execute_result"
    },
    {
     "data": {
      "image/png": "[encoded data removed]",
      "text/plain": [
       "<Figure size 640x480 with 2 Axes>"
      ]
     },
     "metadata": {},
     "output_type": "display_data"
    }
   ],
   "source": [
    "from sklearn.metrics import confusion_matrix\n",
    "import seaborn as sns\n",
    "\n",
    "# Create a confusion matrix\n",
    "cm = confusion_matrix(y_test, y_pred)\n",
    "\n",
    "# Plot the confusion matrix as a heatmap\n",
    "sns.heatmap(cm, annot=True, fmt='d')"
   ]
  },
  {
   "cell_type": "code",
   "execution_count": 81,
   "metadata": {},
   "outputs": [
    {
     "data": {
      "text/plain": [
       "<matplotlib.legend.Legend at 0x14e0a3a7c40>"
      ]
     },
     "execution_count": 81,
     "metadata": {},
     "output_type": "execute_result"
    },
    {
     "data": {
      "image/png": "[encoded data removed]",
      "text/plain": [
       "<Figure size 640x480 with 1 Axes>"
      ]
     },
     "metadata": {},
     "output_type": "display_data"
    }
   ],
   "source": [
    "from sklearn.multiclass import OneVsRestClassifier\n",
    "from sklearn.preprocessing import label_binarize\n",
    "from sklearn.metrics import roc_curve, auc\n",
    "\n",
    "# Binarize the target variable\n",
    "y_test_binarized = label_binarize(y_test, classes=[1, 2, 3])\n",
    "\n",
    "# Create a OneVsRestClassifier\n",
    "clf = OneVsRestClassifier(RandomForestClassifier(**best_params))\n",
    "clf.fit(X_train, y_train)\n",
    "\n",
    "# Calculate the false positive rate and true positive rate at different thresholds for each class\n",
    "fpr = dict()\n",
    "tpr = dict()\n",
    "roc_auc = dict()\n",
    "for i in range(3):\n",
    "    fpr[i], tpr[i], _ = roc_curve(y_test_binarized[:, i], clf.predict_proba(X_test)[:, i])\n",
    "    roc_auc[i] = auc(fpr[i], tpr[i])\n",
    "\n",
    "# Plot the ROC curve for each class\n",
    "for i in range(3):\n",
    "    plt.plot(fpr[i], tpr[i], label=f'Class {i} (area = {roc_auc[i]:.2f})')\n",
    "plt.xlabel('False Positive Rate')\n",
    "plt.ylabel('True Positive Rate')\n",
    "plt.legend()"
   ]
  },
  {
   "cell_type": "code",
   "execution_count": 84,
   "metadata": {},
   "outputs": [
    {
     "name": "stdout",
     "output_type": "stream",
     "text": [
      "Accuracy score: 0.83\n",
      "Precision: 0.77\n",
      "Recall: 0.54\n",
      "F1 score: 0.58\n"
     ]
    }
   ],
   "source": [
    "# Since this is a multiclass model, we calculate the performace for each class then averaged them using 'macro' settings\n",
    "# Compute the Performance Metric\n",
    "\n",
    "accuracy = accuracy_score(y_test, y_pred)\n",
    "print(f'Accuracy score: {accuracy:.2f}')\n",
    "\n",
    "precision = precision_score(y_test, y_pred, average='macro')\n",
    "print(f'Precision: {precision:.2f}')\n",
    "\n",
    "recall = recall_score(y_test, y_pred, average='macro')\n",
    "print(f'Recall: {recall:.2f}')\n",
    "\n",
    "f1 = f1_score(y_test, y_pred, average='macro')\n",
    "print(f'F1 score: {f1:.2f}')"
   ]
  },
  {
   "cell_type": "code",
   "execution_count": 60,
   "metadata": {},
   "outputs": [
    {
     "name": "stdout",
     "output_type": "stream",
     "text": [
      "                                feature  importance\n",
      "4                         PersonsNights    0.304487\n",
      "5                            RoomNights    0.248349\n",
      "1                       AverageLeadTime    0.137689\n",
      "0                                   Age    0.104638\n",
      "37  MarketSegment_Travel Agent/Operator    0.015835\n",
      "36                  MarketSegment_Other    0.013096\n",
      "13                        SRKingSizeBed    0.011464\n",
      "14                            SRTwinBed    0.009544\n",
      "18                          SRQuietRoom    0.009130\n",
      "35                 MarketSegment_Groups    0.007287\n"
     ]
    }
   ],
   "source": [
    "# Get the feature importances\n",
    "importances = clf.feature_importances_\n",
    "\n",
    "# Get the feature names\n",
    "feature_names = X_encoded.columns\n",
    "\n",
    "# Create a dataframe of feature importances and names\n",
    "importance_df = pd.DataFrame({'feature': feature_names, 'importance': importances})\n",
    "\n",
    "# Sort the dataframe by importance in descending order\n",
    "importance_df = importance_df.sort_values(by='importance', ascending=False)\n",
    "\n",
    "# Display the top 10 most important features\n",
    "print(importance_df.head(10))"
   ]
  },
  {
   "cell_type": "code",
   "execution_count": 77,
   "metadata": {},
   "outputs": [
    {
     "data": {
      "image/png": "[encoded data removed]",
      "text/plain": [
       "<Figure size 640x480 with 1 Axes>"
      ]
     },
     "metadata": {},
     "output_type": "display_data"
    }
   ],
   "source": [
    "# Create a horizontal bar plot\n",
    "importance_df[:6].sort_values(by='importance', ascending=True).plot.barh(x='feature', y='importance')\n",
    "\n",
    "# Show the plot\n",
    "plt.show()"
   ]
  },
  {
   "cell_type": "code",
   "execution_count": 87,
   "metadata": {},
   "outputs": [
    {
     "data": {
      "image/png": "[encoded data removed]",
      "text/plain": [
       "<Figure size 640x480 with 1 Axes>"
      ]
     },
     "metadata": {},
     "output_type": "display_data"
    }
   ],
   "source": [
    "# Assuming your DataFrame is called 'df'\n",
    "non_repeat_cust_df.boxplot(column='PersonsNights', by='Segment')\n",
    "plt.title('Person/Nights by Segment')\n",
    "plt.suptitle('')\n",
    "plt.show()"
   ]
  },
  {
   "cell_type": "code",
   "execution_count": 91,
   "metadata": {},
   "outputs": [
    {
     "data": {
      "image/png": "[encoded data removed]",
      "text/plain": [
       "<Figure size 640x480 with 1 Axes>"
      ]
     },
     "metadata": {},
     "output_type": "display_data"
    }
   ],
   "source": [
    "# Assuming your DataFrame is called 'df'\n",
    "non_repeat_cust_df.boxplot(column='RoomNights', by='Segment')\n",
    "plt.title('Room/Nights by Segment')\n",
    "plt.suptitle('')\n",
    "plt.show()"
   ]
  },
  {
   "cell_type": "code",
   "execution_count": 92,
   "metadata": {},
   "outputs": [
    {
     "data": {
      "image/png": "[encoded data removed]",
      "text/plain": [
       "<Figure size 640x480 with 1 Axes>"
      ]
     },
     "metadata": {},
     "output_type": "display_data"
    }
   ],
   "source": [
    "# Assuming your DataFrame is called 'df'\n",
    "non_repeat_cust_df.boxplot(column='AverageLeadTime', by='Segment')\n",
    "plt.title('Average LeadT ime by Segment')\n",
    "plt.suptitle('')\n",
    "plt.show()"
   ]
  },
  {
   "cell_type": "code",
   "execution_count": 93,
   "metadata": {},
   "outputs": [
    {
     "data": {
      "image/png": "[encoded data removed]",
      "text/plain": [
       "<Figure size 640x480 with 1 Axes>"
      ]
     },
     "metadata": {},
     "output_type": "display_data"
    }
   ],
   "source": [
    "# Assuming your DataFrame is called 'df'\n",
    "non_repeat_cust_df.boxplot(column='Age', by='Segment')\n",
    "plt.title('Age by Segment')\n",
    "plt.suptitle('')\n",
    "plt.show()"
   ]
  },
  {
   "attachments": {},
   "cell_type": "markdown",
   "metadata": {},
   "source": [
    "4 most important factors in determining the customers' spending amount, accounts for :\n",
    "- Average Lead Time: The average booking windows\n",
    "- Persons/Nights: Number of person\n",
    "- Age: Customer Age\n",
    "- Room/Nights: Room occupancy\n"
   ]
  },
  {
   "attachments": {},
   "cell_type": "markdown",
   "metadata": {},
   "source": [
    "### Calculate CLV, Yearly Revenue and Database worth"
   ]
  },
  {
   "cell_type": "code",
   "execution_count": 133,
   "metadata": {},
   "outputs": [],
   "source": [
    "# Add DaySinceFirstStay to see if it's a new customer\n",
    "RFM_df = pd.merge(RFM_df, df[['ID', 'DaysSinceFirstStay']], on='ID', how='left')\n",
    "RFM_df['Date since purchase'] = None"
   ]
  },
  {
   "cell_type": "code",
   "execution_count": 134,
   "metadata": {},
   "outputs": [
    {
     "name": "stdout",
     "output_type": "stream",
     "text": [
      "Index(['ID', 'Recency', 'Frequency', 'Monetary', 'DaysSinceFirstStay',\n",
      "       'Date since purchase'],\n",
      "      dtype='object')\n"
     ]
    }
   ],
   "source": [
    "print(RFM_df.columns)"
   ]
  },
  {
   "attachments": {},
   "cell_type": "markdown",
   "metadata": {},
   "source": [
    "Assumptions:\n",
    "- Customers are tourists comming in regularly during holiday\n",
    "- Everytime they comes to the hotel, they spend the same amount of money on average\n",
    "\n",
    "--> We can split the customer info into multiple purchases they have take over the year\n"
   ]
  },
  {
   "cell_type": "code",
   "execution_count": 135,
   "metadata": {},
   "outputs": [],
   "source": [
    "def expand_row(row):\n",
    "    if pd.isnull(row['Frequency']):\n",
    "        return pd.DataFrame()\n",
    "    new_rows = []\n",
    "    for i in range(int(row['Frequency'])):\n",
    "        new_row = row.copy()\n",
    "        new_row['Monetary'] = row['Monetary'] / row['Frequency']\n",
    "        new_row['Date since purchase'] = int(np.linspace(row['DaysSinceFirstStay'], row['Recency'], int(row['Frequency']))[i])\n",
    "        new_rows.append(new_row)\n",
    "    return pd.DataFrame(new_rows)\n",
    "\n",
    "# Apply the expand_row function to each row of the original data frame\n",
    "result = RFM_df.apply(expand_row, axis=1)\n",
    "\n",
    "# Concatenate the resulting data frames into a single data frame\n",
    "purchase_df = pd.concat(result.tolist()).reset_index(drop=True)"
   ]
  },
  {
   "cell_type": "code",
   "execution_count": 136,
   "metadata": {},
   "outputs": [
    {
     "data": {
      "text/html": [
       "<div>\n",
       "<style scoped>\n",
       "    .dataframe tbody tr th:only-of-type {\n",
       "        vertical-align: middle;\n",
       "    }\n",
       "\n",
       "    .dataframe tbody tr th {\n",
       "        vertical-align: top;\n",
       "    }\n",
       "\n",
       "    .dataframe thead th {\n",
       "        text-align: right;\n",
       "    }\n",
       "</style>\n",
       "<table border=\"1\" class=\"dataframe\">\n",
       "  <thead>\n",
       "    <tr style=\"text-align: right;\">\n",
       "      <th></th>\n",
       "      <th>ID</th>\n",
       "      <th>Monetary</th>\n",
       "      <th>Date since purchase</th>\n",
       "    </tr>\n",
       "  </thead>\n",
       "  <tbody>\n",
       "    <tr>\n",
       "      <th>0</th>\n",
       "      <td>1</td>\n",
       "      <td>158.766667</td>\n",
       "      <td>1074</td>\n",
       "    </tr>\n",
       "    <tr>\n",
       "      <th>1</th>\n",
       "      <td>1</td>\n",
       "      <td>158.766667</td>\n",
       "      <td>612</td>\n",
       "    </tr>\n",
       "    <tr>\n",
       "      <th>2</th>\n",
       "      <td>1</td>\n",
       "      <td>158.766667</td>\n",
       "      <td>151</td>\n",
       "    </tr>\n",
       "    <tr>\n",
       "      <th>3</th>\n",
       "      <td>4</td>\n",
       "      <td>300.000000</td>\n",
       "      <td>1100</td>\n",
       "    </tr>\n",
       "    <tr>\n",
       "      <th>4</th>\n",
       "      <td>6</td>\n",
       "      <td>254.000000</td>\n",
       "      <td>1097</td>\n",
       "    </tr>\n",
       "  </tbody>\n",
       "</table>\n",
       "</div>"
      ],
      "text/plain": [
       "   ID    Monetary  Date since purchase\n",
       "0   1  158.766667                 1074\n",
       "1   1  158.766667                  612\n",
       "2   1  158.766667                  151\n",
       "3   4  300.000000                 1100\n",
       "4   6  254.000000                 1097"
      ]
     },
     "execution_count": 136,
     "metadata": {},
     "output_type": "execute_result"
    }
   ],
   "source": [
    "# Drop unecessary rows, for transaction details, you only need the date and monetary value\n",
    "purchase_df = purchase_df.drop(['Recency', 'Frequency', 'DaysSinceFirstStay'], axis=1)\n",
    "purchase_df.head()"
   ]
  },
  {
   "attachments": {},
   "cell_type": "markdown",
   "metadata": {},
   "source": [
    "The data is from 2015 to 2018, we will use the 2018 and 2017 customers toget the transition matrix"
   ]
  },
  {
   "cell_type": "code",
   "execution_count": 137,
   "metadata": {},
   "outputs": [
    {
     "data": {
      "text/html": [
       "<div>\n",
       "<style scoped>\n",
       "    .dataframe tbody tr th:only-of-type {\n",
       "        vertical-align: middle;\n",
       "    }\n",
       "\n",
       "    .dataframe tbody tr th {\n",
       "        vertical-align: top;\n",
       "    }\n",
       "\n",
       "    .dataframe thead th {\n",
       "        text-align: right;\n",
       "    }\n",
       "</style>\n",
       "<table border=\"1\" class=\"dataframe\">\n",
       "  <thead>\n",
       "    <tr style=\"text-align: right;\">\n",
       "      <th></th>\n",
       "      <th>ID</th>\n",
       "      <th>recency</th>\n",
       "      <th>first_purchase</th>\n",
       "      <th>frequency</th>\n",
       "      <th>amount</th>\n",
       "    </tr>\n",
       "  </thead>\n",
       "  <tbody>\n",
       "    <tr>\n",
       "      <th>0</th>\n",
       "      <td>1</td>\n",
       "      <td>151</td>\n",
       "      <td>1074</td>\n",
       "      <td>3</td>\n",
       "      <td>158.766667</td>\n",
       "    </tr>\n",
       "    <tr>\n",
       "      <th>1</th>\n",
       "      <td>4</td>\n",
       "      <td>1100</td>\n",
       "      <td>1100</td>\n",
       "      <td>1</td>\n",
       "      <td>300.000000</td>\n",
       "    </tr>\n",
       "    <tr>\n",
       "      <th>2</th>\n",
       "      <td>6</td>\n",
       "      <td>1097</td>\n",
       "      <td>1097</td>\n",
       "      <td>1</td>\n",
       "      <td>254.000000</td>\n",
       "    </tr>\n",
       "    <tr>\n",
       "      <th>3</th>\n",
       "      <td>8</td>\n",
       "      <td>1100</td>\n",
       "      <td>1100</td>\n",
       "      <td>1</td>\n",
       "      <td>629.000000</td>\n",
       "    </tr>\n",
       "    <tr>\n",
       "      <th>4</th>\n",
       "      <td>10</td>\n",
       "      <td>1098</td>\n",
       "      <td>1098</td>\n",
       "      <td>1</td>\n",
       "      <td>243.000000</td>\n",
       "    </tr>\n",
       "  </tbody>\n",
       "</table>\n",
       "</div>"
      ],
      "text/plain": [
       "   ID  recency  first_purchase  frequency      amount\n",
       "0   1      151            1074          3  158.766667\n",
       "1   4     1100            1100          1  300.000000\n",
       "2   6     1097            1097          1  254.000000\n",
       "3   8     1100            1100          1  629.000000\n",
       "4  10     1098            1098          1  243.000000"
      ]
     },
     "execution_count": 137,
     "metadata": {},
     "output_type": "execute_result"
    }
   ],
   "source": [
    "# Get 2018 customers\n",
    "grouped = purchase_df.groupby('ID')\n",
    "\n",
    "# Calculate the desired statistics for each group\n",
    "customers_2018 = grouped.agg(\n",
    "    recency=pd.NamedAgg(column='Date since purchase', aggfunc='min'),\n",
    "    first_purchase=pd.NamedAgg(column='Date since purchase', aggfunc='max'),\n",
    "    frequency=pd.NamedAgg(column='Date since purchase', aggfunc='count'),\n",
    "    amount=pd.NamedAgg(column='Monetary', aggfunc='mean')\n",
    ").reset_index()\n",
    "\n",
    "customers_2018.head()"
   ]
  },
  {
   "attachments": {},
   "cell_type": "markdown",
   "metadata": {},
   "source": [
    "Segment the customers into 8 groups \n",
    "- inactive\n",
    "- warm high value\n",
    "- warm low value\n",
    "- active high value\n",
    "- active low value\n",
    "- new active"
   ]
  },
  {
   "cell_type": "code",
   "execution_count": 138,
   "metadata": {},
   "outputs": [
    {
     "data": {
      "text/plain": [
       "633.7"
      ]
     },
     "execution_count": 138,
     "metadata": {},
     "output_type": "execute_result"
    }
   ],
   "source": [
    "# Top 20% of monetary value in 2018\n",
    "threshold_2018 = customers_2018['amount'].quantile(0.8)\n",
    "threshold_2018"
   ]
  },
  {
   "cell_type": "code",
   "execution_count": 139,
   "metadata": {},
   "outputs": [
    {
     "data": {
      "text/html": [
       "<div>\n",
       "<style scoped>\n",
       "    .dataframe tbody tr th:only-of-type {\n",
       "        vertical-align: middle;\n",
       "    }\n",
       "\n",
       "    .dataframe tbody tr th {\n",
       "        vertical-align: top;\n",
       "    }\n",
       "\n",
       "    .dataframe thead th {\n",
       "        text-align: right;\n",
       "    }\n",
       "</style>\n",
       "<table border=\"1\" class=\"dataframe\">\n",
       "  <thead>\n",
       "    <tr style=\"text-align: right;\">\n",
       "      <th></th>\n",
       "      <th>ID</th>\n",
       "      <th>recency</th>\n",
       "      <th>first_purchase</th>\n",
       "      <th>frequency</th>\n",
       "      <th>amount</th>\n",
       "      <th>segment</th>\n",
       "    </tr>\n",
       "  </thead>\n",
       "  <tbody>\n",
       "    <tr>\n",
       "      <th>0</th>\n",
       "      <td>1</td>\n",
       "      <td>151</td>\n",
       "      <td>1074</td>\n",
       "      <td>3</td>\n",
       "      <td>158.766667</td>\n",
       "      <td>active low value</td>\n",
       "    </tr>\n",
       "    <tr>\n",
       "      <th>1</th>\n",
       "      <td>4</td>\n",
       "      <td>1100</td>\n",
       "      <td>1100</td>\n",
       "      <td>1</td>\n",
       "      <td>300.000000</td>\n",
       "      <td>inactive</td>\n",
       "    </tr>\n",
       "    <tr>\n",
       "      <th>2</th>\n",
       "      <td>6</td>\n",
       "      <td>1097</td>\n",
       "      <td>1097</td>\n",
       "      <td>1</td>\n",
       "      <td>254.000000</td>\n",
       "      <td>inactive</td>\n",
       "    </tr>\n",
       "    <tr>\n",
       "      <th>3</th>\n",
       "      <td>8</td>\n",
       "      <td>1100</td>\n",
       "      <td>1100</td>\n",
       "      <td>1</td>\n",
       "      <td>629.000000</td>\n",
       "      <td>inactive</td>\n",
       "    </tr>\n",
       "    <tr>\n",
       "      <th>4</th>\n",
       "      <td>10</td>\n",
       "      <td>1098</td>\n",
       "      <td>1098</td>\n",
       "      <td>1</td>\n",
       "      <td>243.000000</td>\n",
       "      <td>inactive</td>\n",
       "    </tr>\n",
       "  </tbody>\n",
       "</table>\n",
       "</div>"
      ],
      "text/plain": [
       "   ID  recency  first_purchase  frequency      amount           segment\n",
       "0   1      151            1074          3  158.766667  active low value\n",
       "1   4     1100            1100          1  300.000000          inactive\n",
       "2   6     1097            1097          1  254.000000          inactive\n",
       "3   8     1100            1100          1  629.000000          inactive\n",
       "4  10     1098            1098          1  243.000000          inactive"
      ]
     },
     "execution_count": 139,
     "metadata": {},
     "output_type": "execute_result"
    }
   ],
   "source": [
    "# 2018 Customer Segmentation\n",
    "customers_2018['segment'] = 'na'\n",
    "customers_2018.loc[customers_2018['recency'] > 365*2, 'segment'] = 'inactive'\n",
    "\n",
    "customers_2018.loc[(customers_2018['recency'] <= 365*2) & (customers_2018['recency'] > 365), 'segment'] = 'warm'\n",
    "customers_2018.loc[(customers_2018['segment'] == 'warm') & (customers_2018['amount'] < threshold_2018), 'segment'] = 'warm low value'\n",
    "customers_2018.loc[(customers_2018['segment'] == 'warm') & (customers_2018['amount'] >= threshold_2018), 'segment'] = 'warm high value'\n",
    "\n",
    "customers_2018.loc[customers_2018['recency'] <= 365, 'segment'] = 'active'\n",
    "customers_2018.loc[(customers_2018['segment'] == 'active') & (customers_2018['first_purchase'] <= 365), 'segment'] = 'new active'\n",
    "customers_2018.loc[(customers_2018['segment'] == 'active') & (customers_2018['amount'] < threshold_2018), 'segment'] = 'active low value'\n",
    "customers_2018.loc[(customers_2018['segment'] == 'active') & (customers_2018['amount'] >= threshold_2018), 'segment'] = 'active high value'\n",
    "\n",
    "segment_levels = [\"inactive\", \"warm high value\", \"warm low value\", \n",
    "                  \"active high value\", \"active low value\", \"new active\"]\n",
    "customers_2018['segment'] = pd.Categorical(customers_2018['segment'], categories=segment_levels)\n",
    "\n",
    "customers_2018.head()"
   ]
  },
  {
   "cell_type": "code",
   "execution_count": 140,
   "metadata": {},
   "outputs": [
    {
     "data": {
      "text/plain": [
       "segment\n",
       "inactive             17509\n",
       "warm high value       4389\n",
       "warm low value       16783\n",
       "active high value       26\n",
       "active low value       186\n",
       "new active           20683\n",
       "dtype: int64"
      ]
     },
     "execution_count": 140,
     "metadata": {},
     "output_type": "execute_result"
    }
   ],
   "source": [
    "grouped = customers_2018.groupby('segment')\n",
    "\n",
    "# Count the number of rows in each group\n",
    "counts = grouped.size()\n",
    "counts"
   ]
  },
  {
   "cell_type": "code",
   "execution_count": 141,
   "metadata": {},
   "outputs": [
    {
     "data": {
      "text/html": [
       "<div>\n",
       "<style scoped>\n",
       "    .dataframe tbody tr th:only-of-type {\n",
       "        vertical-align: middle;\n",
       "    }\n",
       "\n",
       "    .dataframe tbody tr th {\n",
       "        vertical-align: top;\n",
       "    }\n",
       "\n",
       "    .dataframe thead th {\n",
       "        text-align: right;\n",
       "    }\n",
       "</style>\n",
       "<table border=\"1\" class=\"dataframe\">\n",
       "  <thead>\n",
       "    <tr style=\"text-align: right;\">\n",
       "      <th></th>\n",
       "      <th>ID</th>\n",
       "      <th>recency</th>\n",
       "      <th>first_purchase</th>\n",
       "      <th>frequency</th>\n",
       "      <th>amount</th>\n",
       "    </tr>\n",
       "  </thead>\n",
       "  <tbody>\n",
       "    <tr>\n",
       "      <th>0</th>\n",
       "      <td>1</td>\n",
       "      <td>247</td>\n",
       "      <td>709</td>\n",
       "      <td>2</td>\n",
       "      <td>158.766667</td>\n",
       "    </tr>\n",
       "    <tr>\n",
       "      <th>1</th>\n",
       "      <td>4</td>\n",
       "      <td>735</td>\n",
       "      <td>735</td>\n",
       "      <td>1</td>\n",
       "      <td>300.000000</td>\n",
       "    </tr>\n",
       "    <tr>\n",
       "      <th>2</th>\n",
       "      <td>6</td>\n",
       "      <td>732</td>\n",
       "      <td>732</td>\n",
       "      <td>1</td>\n",
       "      <td>254.000000</td>\n",
       "    </tr>\n",
       "    <tr>\n",
       "      <th>3</th>\n",
       "      <td>8</td>\n",
       "      <td>735</td>\n",
       "      <td>735</td>\n",
       "      <td>1</td>\n",
       "      <td>629.000000</td>\n",
       "    </tr>\n",
       "    <tr>\n",
       "      <th>4</th>\n",
       "      <td>10</td>\n",
       "      <td>733</td>\n",
       "      <td>733</td>\n",
       "      <td>1</td>\n",
       "      <td>243.000000</td>\n",
       "    </tr>\n",
       "  </tbody>\n",
       "</table>\n",
       "</div>"
      ],
      "text/plain": [
       "   ID  recency  first_purchase  frequency      amount\n",
       "0   1      247             709          2  158.766667\n",
       "1   4      735             735          1  300.000000\n",
       "2   6      732             732          1  254.000000\n",
       "3   8      735             735          1  629.000000\n",
       "4  10      733             733          1  243.000000"
      ]
     },
     "execution_count": 141,
     "metadata": {},
     "output_type": "execute_result"
    }
   ],
   "source": [
    "# 2017 customers\n",
    "# Filter purchases with 'Date since purchase' greater than 365\n",
    "filtered_data = purchase_df[purchase_df['Date since purchase'] > 365]\n",
    "\n",
    "# Group the filtered purchases by customer_id\n",
    "grouped = filtered_data.groupby('ID')\n",
    "\n",
    "# Calculate the desired statistics for each group\n",
    "customers_2017 = grouped.agg(\n",
    "    recency=pd.NamedAgg(column='Date since purchase', aggfunc=lambda x: x.min() - 365),\n",
    "    first_purchase=pd.NamedAgg(column='Date since purchase', aggfunc=lambda x: x.max() - 365),\n",
    "    frequency=pd.NamedAgg(column='Date since purchase', aggfunc='count'),\n",
    "    amount=pd.NamedAgg(column='Monetary', aggfunc='mean')\n",
    ").reset_index()\n",
    "\n",
    "customers_2017.head()"
   ]
  },
  {
   "cell_type": "code",
   "execution_count": 142,
   "metadata": {},
   "outputs": [
    {
     "data": {
      "text/plain": [
       "611.0"
      ]
     },
     "execution_count": 142,
     "metadata": {},
     "output_type": "execute_result"
    }
   ],
   "source": [
    "# Top 20% of monetary value in 2017\n",
    "threshold_2017 = customers_2017['amount'].quantile(0.8)\n",
    "threshold_2017"
   ]
  },
  {
   "cell_type": "code",
   "execution_count": 143,
   "metadata": {},
   "outputs": [
    {
     "data": {
      "text/html": [
       "<div>\n",
       "<style scoped>\n",
       "    .dataframe tbody tr th:only-of-type {\n",
       "        vertical-align: middle;\n",
       "    }\n",
       "\n",
       "    .dataframe tbody tr th {\n",
       "        vertical-align: top;\n",
       "    }\n",
       "\n",
       "    .dataframe thead th {\n",
       "        text-align: right;\n",
       "    }\n",
       "</style>\n",
       "<table border=\"1\" class=\"dataframe\">\n",
       "  <thead>\n",
       "    <tr style=\"text-align: right;\">\n",
       "      <th></th>\n",
       "      <th>ID</th>\n",
       "      <th>recency</th>\n",
       "      <th>first_purchase</th>\n",
       "      <th>frequency</th>\n",
       "      <th>amount</th>\n",
       "      <th>segment</th>\n",
       "    </tr>\n",
       "  </thead>\n",
       "  <tbody>\n",
       "    <tr>\n",
       "      <th>0</th>\n",
       "      <td>1</td>\n",
       "      <td>247</td>\n",
       "      <td>709</td>\n",
       "      <td>2</td>\n",
       "      <td>158.766667</td>\n",
       "      <td>active low value</td>\n",
       "    </tr>\n",
       "    <tr>\n",
       "      <th>1</th>\n",
       "      <td>4</td>\n",
       "      <td>735</td>\n",
       "      <td>735</td>\n",
       "      <td>1</td>\n",
       "      <td>300.000000</td>\n",
       "      <td>inactive</td>\n",
       "    </tr>\n",
       "    <tr>\n",
       "      <th>2</th>\n",
       "      <td>6</td>\n",
       "      <td>732</td>\n",
       "      <td>732</td>\n",
       "      <td>1</td>\n",
       "      <td>254.000000</td>\n",
       "      <td>inactive</td>\n",
       "    </tr>\n",
       "    <tr>\n",
       "      <th>3</th>\n",
       "      <td>8</td>\n",
       "      <td>735</td>\n",
       "      <td>735</td>\n",
       "      <td>1</td>\n",
       "      <td>629.000000</td>\n",
       "      <td>inactive</td>\n",
       "    </tr>\n",
       "    <tr>\n",
       "      <th>4</th>\n",
       "      <td>10</td>\n",
       "      <td>733</td>\n",
       "      <td>733</td>\n",
       "      <td>1</td>\n",
       "      <td>243.000000</td>\n",
       "      <td>inactive</td>\n",
       "    </tr>\n",
       "  </tbody>\n",
       "</table>\n",
       "</div>"
      ],
      "text/plain": [
       "   ID  recency  first_purchase  frequency      amount           segment\n",
       "0   1      247             709          2  158.766667  active low value\n",
       "1   4      735             735          1  300.000000          inactive\n",
       "2   6      732             732          1  254.000000          inactive\n",
       "3   8      735             735          1  629.000000          inactive\n",
       "4  10      733             733          1  243.000000          inactive"
      ]
     },
     "execution_count": 143,
     "metadata": {},
     "output_type": "execute_result"
    }
   ],
   "source": [
    "#2017 customer segmentation\n",
    "# Create a new segment column with default value \"NA\"\n",
    "customers_2017['segment'] = \"NA\"\n",
    "\n",
    "# Update the segment column based on conditions\n",
    "customers_2017.loc[customers_2017['recency'] > 365*2, 'segment'] = \"inactive\"\n",
    "\n",
    "customers_2017.loc[(customers_2017['recency'] <= 365*2) & (customers_2017['recency'] > 365), 'segment'] = \"warm\"\n",
    "customers_2017.loc[(customers_2017['segment'] == \"warm\") & (customers_2017['amount'] < threshold_2017), 'segment'] = \"warm low value\"\n",
    "customers_2017.loc[(customers_2017['segment'] == \"warm\") & (customers_2017['amount'] >= threshold_2017), 'segment'] = \"warm high value\"\n",
    "\n",
    "customers_2017.loc[customers_2017['recency'] <= 365, 'segment'] = \"active\"\n",
    "customers_2017.loc[(customers_2017['segment'] == \"active\") & (customers_2017['first_purchase'] <= 365), 'segment'] = \"new active\"\n",
    "customers_2017.loc[(customers_2017['segment'] == \"active\") & (customers_2017['amount'] < threshold_2017), 'segment'] = \"active low value\"\n",
    "customers_2017.loc[(customers_2017['segment'] == \"active\") & (customers_2017['amount'] >= threshold_2017), 'segment'] = \"active high value\"\n",
    "\n",
    "# Convert the segment column to a categorical variable with specified levels\n",
    "segment_levels = [\"inactive\", \"warm high value\", \"warm low value\", \n",
    "                  \"active high value\", \"active low value\", \"new active\"]\n",
    "customers_2017['segment'] = pd.Categorical(customers_2017['segment'], categories=segment_levels, ordered=True)\n",
    "customers_2017.head()"
   ]
  },
  {
   "cell_type": "code",
   "execution_count": 144,
   "metadata": {},
   "outputs": [
    {
     "data": {
      "text/plain": [
       "segment\n",
       "inactive               124\n",
       "warm high value       3043\n",
       "warm low value       14362\n",
       "active high value        8\n",
       "active low value       159\n",
       "new active           21197\n",
       "dtype: int64"
      ]
     },
     "execution_count": 144,
     "metadata": {},
     "output_type": "execute_result"
    }
   ],
   "source": [
    "grouped = customers_2017.groupby('segment')\n",
    "\n",
    "# Count the number of rows in each group\n",
    "counts = grouped.size()\n",
    "counts"
   ]
  },
  {
   "cell_type": "code",
   "execution_count": 145,
   "metadata": {},
   "outputs": [
    {
     "data": {
      "text/plain": [
       "20940.0"
      ]
     },
     "execution_count": 145,
     "metadata": {},
     "output_type": "execute_result"
    }
   ],
   "source": [
    "# Average new customr per year\n",
    "num_new_active = (customers_2017['segment'].value_counts().get('new active', 0) + customers_2018['segment'].value_counts().get('new active', 0))/ 2\n",
    "num_new_active"
   ]
  },
  {
   "cell_type": "code",
   "execution_count": 146,
   "metadata": {},
   "outputs": [
    {
     "data": {
      "text/html": [
       "<div>\n",
       "<style scoped>\n",
       "    .dataframe tbody tr th:only-of-type {\n",
       "        vertical-align: middle;\n",
       "    }\n",
       "\n",
       "    .dataframe tbody tr th {\n",
       "        vertical-align: top;\n",
       "    }\n",
       "\n",
       "    .dataframe thead th {\n",
       "        text-align: right;\n",
       "    }\n",
       "</style>\n",
       "<table border=\"1\" class=\"dataframe\">\n",
       "  <thead>\n",
       "    <tr style=\"text-align: right;\">\n",
       "      <th>segment.y</th>\n",
       "      <th>inactive</th>\n",
       "      <th>warm high value</th>\n",
       "      <th>warm low value</th>\n",
       "      <th>active high value</th>\n",
       "      <th>active low value</th>\n",
       "      <th>new active</th>\n",
       "    </tr>\n",
       "    <tr>\n",
       "      <th>segment.x</th>\n",
       "      <th></th>\n",
       "      <th></th>\n",
       "      <th></th>\n",
       "      <th></th>\n",
       "      <th></th>\n",
       "      <th></th>\n",
       "    </tr>\n",
       "  </thead>\n",
       "  <tbody>\n",
       "    <tr>\n",
       "      <th>inactive</th>\n",
       "      <td>1.000000</td>\n",
       "      <td>0.000000</td>\n",
       "      <td>0.000000</td>\n",
       "      <td>0.000000</td>\n",
       "      <td>0.000000</td>\n",
       "      <td>0.0</td>\n",
       "    </tr>\n",
       "    <tr>\n",
       "      <th>warm high value</th>\n",
       "      <td>0.998686</td>\n",
       "      <td>0.000000</td>\n",
       "      <td>0.000000</td>\n",
       "      <td>0.001314</td>\n",
       "      <td>0.000000</td>\n",
       "      <td>0.0</td>\n",
       "    </tr>\n",
       "    <tr>\n",
       "      <th>warm low value</th>\n",
       "      <td>0.998886</td>\n",
       "      <td>0.000000</td>\n",
       "      <td>0.000000</td>\n",
       "      <td>0.000000</td>\n",
       "      <td>0.001114</td>\n",
       "      <td>0.0</td>\n",
       "    </tr>\n",
       "    <tr>\n",
       "      <th>active high value</th>\n",
       "      <td>0.000000</td>\n",
       "      <td>0.750000</td>\n",
       "      <td>0.000000</td>\n",
       "      <td>0.250000</td>\n",
       "      <td>0.000000</td>\n",
       "      <td>0.0</td>\n",
       "    </tr>\n",
       "    <tr>\n",
       "      <th>active low value</th>\n",
       "      <td>0.000000</td>\n",
       "      <td>0.000000</td>\n",
       "      <td>0.578616</td>\n",
       "      <td>0.000000</td>\n",
       "      <td>0.421384</td>\n",
       "      <td>0.0</td>\n",
       "    </tr>\n",
       "    <tr>\n",
       "      <th>new active</th>\n",
       "      <td>0.000000</td>\n",
       "      <td>0.206775</td>\n",
       "      <td>0.787423</td>\n",
       "      <td>0.000944</td>\n",
       "      <td>0.004859</td>\n",
       "      <td>0.0</td>\n",
       "    </tr>\n",
       "  </tbody>\n",
       "</table>\n",
       "</div>"
      ],
      "text/plain": [
       "segment.y          inactive  warm high value  warm low value  \\\n",
       "segment.x                                                      \n",
       "inactive           1.000000         0.000000        0.000000   \n",
       "warm high value    0.998686         0.000000        0.000000   \n",
       "warm low value     0.998886         0.000000        0.000000   \n",
       "active high value  0.000000         0.750000        0.000000   \n",
       "active low value   0.000000         0.000000        0.578616   \n",
       "new active         0.000000         0.206775        0.787423   \n",
       "\n",
       "segment.y          active high value  active low value  new active  \n",
       "segment.x                                                           \n",
       "inactive                    0.000000          0.000000         0.0  \n",
       "warm high value             0.001314          0.000000         0.0  \n",
       "warm low value              0.000000          0.001114         0.0  \n",
       "active high value           0.250000          0.000000         0.0  \n",
       "active low value            0.000000          0.421384         0.0  \n",
       "new active                  0.000944          0.004859         0.0  "
      ]
     },
     "execution_count": 146,
     "metadata": {},
     "output_type": "execute_result"
    }
   ],
   "source": [
    "# Create Transition Matrix\n",
    "# Merge the customers_2017 and customers_2018 data frames by their customer_id column\n",
    "new_data = pd.merge(customers_2017, customers_2018, on='ID', how='left', suffixes=('.x', '.y'))\n",
    "\n",
    "# Calculate a contingency table of the segment.x and segment.y columns\n",
    "transition = pd.crosstab(new_data['segment.x'], new_data['segment.y'], dropna=False)\n",
    "\n",
    "# Normalize each row of the transition table by its sum\n",
    "transition = transition.div(transition.sum(axis=1), axis=0)\n",
    "transition"
   ]
  },
  {
   "cell_type": "code",
   "execution_count": 147,
   "metadata": {},
   "outputs": [
    {
     "name": "stdout",
     "output_type": "stream",
     "text": [
      "                    2018  2019  2020  2021  2022  2023  2024  2025  2026  \\\n",
      "inactive           17509   0.0   0.0   0.0   0.0   0.0   0.0   0.0   0.0   \n",
      "warm high value     4389   0.0   0.0   0.0   0.0   0.0   0.0   0.0   0.0   \n",
      "warm low value     16783   0.0   0.0   0.0   0.0   0.0   0.0   0.0   0.0   \n",
      "active high value     26   0.0   0.0   0.0   0.0   0.0   0.0   0.0   0.0   \n",
      "active low value     186   0.0   0.0   0.0   0.0   0.0   0.0   0.0   0.0   \n",
      "new active         20683   0.0   0.0   0.0   0.0   0.0   0.0   0.0   0.0   \n",
      "\n",
      "                   2027  2028  \n",
      "inactive            0.0   0.0  \n",
      "warm high value     0.0   0.0  \n",
      "warm low value      0.0   0.0  \n",
      "active high value   0.0   0.0  \n",
      "active low value    0.0   0.0  \n",
      "new active          0.0   0.0  \n"
     ]
    }
   ],
   "source": [
    "# Get the number of customers in each segments over 10 years\n",
    "segments = pd.DataFrame(np.zeros((6, 11)))\n",
    "segments.iloc[:, 0] = customers_2018['segment'].value_counts().sort_index().values\n",
    "segments.columns = range(2018, 2029)\n",
    "segments.index = customers_2018['segment'].cat.categories\n",
    "print(segments)"
   ]
  },
  {
   "cell_type": "code",
   "execution_count": 148,
   "metadata": {},
   "outputs": [
    {
     "data": {
      "image/png": "[encoded data removed]",
      "text/plain": [
       "<Figure size 640x480 with 1 Axes>"
      ]
     },
     "metadata": {},
     "output_type": "display_data"
    },
    {
     "data": {
      "image/png": "[encoded data removed]",
      "text/plain": [
       "<Figure size 640x480 with 1 Axes>"
      ]
     },
     "metadata": {},
     "output_type": "display_data"
    }
   ],
   "source": [
    "for i in range(1, 11):\n",
    "    segments.iloc[:, i] = segments.iloc[:, i-1] @ transition\n",
    "    segments.iloc[5, :] = num_new_active\n",
    "\n",
    "plt.bar(segments.columns, segments.iloc[0, :])\n",
    "plt.title('Inactive over year')\n",
    "plt.show()\n",
    "plt.bar(segments.columns, segments.iloc[1, :])\n",
    "plt.title('Warm high value over year')\n",
    "plt.show()"
   ]
  },
  {
   "cell_type": "code",
   "execution_count": 149,
   "metadata": {},
   "outputs": [
    {
     "name": "stdout",
     "output_type": "stream",
     "text": [
      "                    2018     2019     2020     2021      2022      2023  \\\n",
      "inactive           17509  38657.0  59323.0  80255.0  101192.0  122131.0   \n",
      "warm high value     4389   4296.0   4354.0   4355.0    4355.0    4355.0   \n",
      "warm low value     16783  16394.0  16603.0  16606.0   16608.0   16608.0   \n",
      "active high value     26     32.0     33.0     34.0      34.0      34.0   \n",
      "active low value     186    198.0    203.0    206.0     207.0     207.0   \n",
      "new active         20940  20940.0  20940.0  20940.0   20940.0   20940.0   \n",
      "\n",
      "                       2024      2025      2026      2027      2028  \n",
      "inactive           143070.0  164010.0  184950.0  205890.0  226830.0  \n",
      "warm high value      4355.0    4355.0    4355.0    4355.0    4355.0  \n",
      "warm low value      16609.0   16609.0   16609.0   16609.0   16609.0  \n",
      "active high value      34.0      34.0      34.0      34.0      34.0  \n",
      "active low value      208.0     208.0     208.0     208.0     208.0  \n",
      "new active          20940.0   20940.0   20940.0   20940.0   20940.0  \n"
     ]
    }
   ],
   "source": [
    "print(np.round(segments))"
   ]
  },
  {
   "cell_type": "code",
   "execution_count": 150,
   "metadata": {},
   "outputs": [
    {
     "data": {
      "text/plain": [
       "array([   0.        ,    0.        ,    0.        , 1111.8850641 ,\n",
       "        382.4179376 ,  520.34033457])"
      ]
     },
     "execution_count": 150,
     "metadata": {},
     "output_type": "execute_result"
    }
   ],
   "source": [
    "# Get the mean revenue of each customer purchase in 2018 based on segment\n",
    "revenue_2018 = purchase_df[purchase_df['Date since purchase'] <= 365].groupby('ID').agg({'Monetary': 'sum'}).reset_index().rename(columns={'Monetary': 'revenue_2018'})\n",
    "\n",
    "actual = pd.merge(customers_2018, revenue_2018, on='ID', how='left')\n",
    "actual['revenue_2018'].fillna(0, inplace=True)\n",
    "mean_revenue = actual.groupby(customers_2018['segment'])['revenue_2018'].mean().values\n",
    "mean_revenue\n"
   ]
  },
  {
   "cell_type": "code",
   "execution_count": 151,
   "metadata": {},
   "outputs": [
    {
     "data": {
      "text/html": [
       "<div>\n",
       "<style scoped>\n",
       "    .dataframe tbody tr th:only-of-type {\n",
       "        vertical-align: middle;\n",
       "    }\n",
       "\n",
       "    .dataframe tbody tr th {\n",
       "        vertical-align: top;\n",
       "    }\n",
       "\n",
       "    .dataframe thead th {\n",
       "        text-align: right;\n",
       "    }\n",
       "</style>\n",
       "<table border=\"1\" class=\"dataframe\">\n",
       "  <thead>\n",
       "    <tr style=\"text-align: right;\">\n",
       "      <th></th>\n",
       "      <th>2018</th>\n",
       "      <th>2019</th>\n",
       "      <th>2020</th>\n",
       "      <th>2021</th>\n",
       "      <th>2022</th>\n",
       "      <th>2023</th>\n",
       "      <th>2024</th>\n",
       "      <th>2025</th>\n",
       "      <th>2026</th>\n",
       "      <th>2027</th>\n",
       "      <th>2028</th>\n",
       "    </tr>\n",
       "  </thead>\n",
       "  <tbody>\n",
       "    <tr>\n",
       "      <th>inactive</th>\n",
       "      <td>0.0</td>\n",
       "      <td>0.0</td>\n",
       "      <td>0.0</td>\n",
       "      <td>0.0</td>\n",
       "      <td>0.0</td>\n",
       "      <td>0.0</td>\n",
       "      <td>0.0</td>\n",
       "      <td>0.0</td>\n",
       "      <td>0.0</td>\n",
       "      <td>0.0</td>\n",
       "      <td>0.0</td>\n",
       "    </tr>\n",
       "    <tr>\n",
       "      <th>warm high value</th>\n",
       "      <td>0.0</td>\n",
       "      <td>0.0</td>\n",
       "      <td>0.0</td>\n",
       "      <td>0.0</td>\n",
       "      <td>0.0</td>\n",
       "      <td>0.0</td>\n",
       "      <td>0.0</td>\n",
       "      <td>0.0</td>\n",
       "      <td>0.0</td>\n",
       "      <td>0.0</td>\n",
       "      <td>0.0</td>\n",
       "    </tr>\n",
       "    <tr>\n",
       "      <th>warm low value</th>\n",
       "      <td>0.0</td>\n",
       "      <td>0.0</td>\n",
       "      <td>0.0</td>\n",
       "      <td>0.0</td>\n",
       "      <td>0.0</td>\n",
       "      <td>0.0</td>\n",
       "      <td>0.0</td>\n",
       "      <td>0.0</td>\n",
       "      <td>0.0</td>\n",
       "      <td>0.0</td>\n",
       "      <td>0.0</td>\n",
       "    </tr>\n",
       "    <tr>\n",
       "      <th>active high value</th>\n",
       "      <td>28909.0</td>\n",
       "      <td>35341.0</td>\n",
       "      <td>37082.0</td>\n",
       "      <td>37602.0</td>\n",
       "      <td>37733.0</td>\n",
       "      <td>37767.0</td>\n",
       "      <td>37775.0</td>\n",
       "      <td>37778.0</td>\n",
       "      <td>37778.0</td>\n",
       "      <td>37778.0</td>\n",
       "      <td>37778.0</td>\n",
       "    </tr>\n",
       "    <tr>\n",
       "      <th>active low value</th>\n",
       "      <td>71130.0</td>\n",
       "      <td>75557.0</td>\n",
       "      <td>77734.0</td>\n",
       "      <td>78741.0</td>\n",
       "      <td>79166.0</td>\n",
       "      <td>79346.0</td>\n",
       "      <td>79422.0</td>\n",
       "      <td>79455.0</td>\n",
       "      <td>79468.0</td>\n",
       "      <td>79474.0</td>\n",
       "      <td>79476.0</td>\n",
       "    </tr>\n",
       "    <tr>\n",
       "      <th>new active</th>\n",
       "      <td>10895927.0</td>\n",
       "      <td>10895927.0</td>\n",
       "      <td>10895927.0</td>\n",
       "      <td>10895927.0</td>\n",
       "      <td>10895927.0</td>\n",
       "      <td>10895927.0</td>\n",
       "      <td>10895927.0</td>\n",
       "      <td>10895927.0</td>\n",
       "      <td>10895927.0</td>\n",
       "      <td>10895927.0</td>\n",
       "      <td>10895927.0</td>\n",
       "    </tr>\n",
       "  </tbody>\n",
       "</table>\n",
       "</div>"
      ],
      "text/plain": [
       "                         2018        2019        2020        2021        2022  \\\n",
       "inactive                  0.0         0.0         0.0         0.0         0.0   \n",
       "warm high value           0.0         0.0         0.0         0.0         0.0   \n",
       "warm low value            0.0         0.0         0.0         0.0         0.0   \n",
       "active high value     28909.0     35341.0     37082.0     37602.0     37733.0   \n",
       "active low value      71130.0     75557.0     77734.0     78741.0     79166.0   \n",
       "new active         10895927.0  10895927.0  10895927.0  10895927.0  10895927.0   \n",
       "\n",
       "                         2023        2024        2025        2026        2027  \\\n",
       "inactive                  0.0         0.0         0.0         0.0         0.0   \n",
       "warm high value           0.0         0.0         0.0         0.0         0.0   \n",
       "warm low value            0.0         0.0         0.0         0.0         0.0   \n",
       "active high value     37767.0     37775.0     37778.0     37778.0     37778.0   \n",
       "active low value      79346.0     79422.0     79455.0     79468.0     79474.0   \n",
       "new active         10895927.0  10895927.0  10895927.0  10895927.0  10895927.0   \n",
       "\n",
       "                         2028  \n",
       "inactive                  0.0  \n",
       "warm high value           0.0  \n",
       "warm low value            0.0  \n",
       "active high value     37778.0  \n",
       "active low value      79476.0  \n",
       "new active         10895927.0  "
      ]
     },
     "execution_count": 151,
     "metadata": {},
     "output_type": "execute_result"
    }
   ],
   "source": [
    "# Revenue per segments per year\n",
    "revenue_per_segment = segments.mul(mean_revenue, axis=0).round()\n",
    "revenue_per_segment\n"
   ]
  },
  {
   "cell_type": "code",
   "execution_count": 152,
   "metadata": {},
   "outputs": [
    {
     "data": {
      "text/plain": [
       "2018    10995966.0\n",
       "2019    11006825.0\n",
       "2020    11010743.0\n",
       "2021    11012270.0\n",
       "2022    11012826.0\n",
       "2023    11013040.0\n",
       "2024    11013124.0\n",
       "2025    11013160.0\n",
       "2026    11013173.0\n",
       "2027    11013179.0\n",
       "2028    11013181.0\n",
       "dtype: float64"
      ]
     },
     "execution_count": 152,
     "metadata": {},
     "output_type": "execute_result"
    }
   ],
   "source": [
    "# Compute yearly revenue\n",
    "yearly_revenue = revenue_per_segment.sum().round()\n",
    "yearly_revenue"
   ]
  },
  {
   "cell_type": "code",
   "execution_count": 153,
   "metadata": {},
   "outputs": [
    {
     "name": "stdout",
     "output_type": "stream",
     "text": [
      "2018     10995966.0\n",
      "2019     22002791.0\n",
      "2020     33013534.0\n",
      "2021     44025804.0\n",
      "2022     55038630.0\n",
      "2023     66051670.0\n",
      "2024     77064794.0\n",
      "2025     88077954.0\n",
      "2026     99091127.0\n",
      "2027    110104306.0\n",
      "2028    121117487.0\n",
      "dtype: float64\n"
     ]
    },
    {
     "data": {
      "image/png": "[encoded data removed]",
      "text/plain": [
       "<Figure size 640x480 with 1 Axes>"
      ]
     },
     "metadata": {},
     "output_type": "display_data"
    }
   ],
   "source": [
    "# Compute cumulated revenue\n",
    "cumulated_revenue = yearly_revenue.cumsum()\n",
    "print(cumulated_revenue.round())\n",
    "\n",
    "plt.bar(cumulated_revenue.index, cumulated_revenue)\n",
    "plt.show()"
   ]
  },
  {
   "cell_type": "code",
   "execution_count": 154,
   "metadata": {},
   "outputs": [
    {
     "data": {
      "text/plain": [
       "array([1.        , 0.90909091, 0.82644628, 0.7513148 , 0.68301346,\n",
       "       0.62092132, 0.56447393, 0.51315812, 0.46650738, 0.42409762,\n",
       "       0.38554329])"
      ]
     },
     "execution_count": 154,
     "metadata": {},
     "output_type": "execute_result"
    }
   ],
   "source": [
    "# Add 10% yearly discount factor\n",
    "discount_rate = 0.10\n",
    "discount = 1 / ((1 + discount_rate) ** (np.arange(1, 12) - 1))\n",
    "discount"
   ]
  },
  {
   "cell_type": "code",
   "execution_count": 155,
   "metadata": {},
   "outputs": [
    {
     "data": {
      "text/plain": [
       "2018    10995966.0\n",
       "2019    10006205.0\n",
       "2020     9099788.0\n",
       "2021     8273681.0\n",
       "2022     7521908.0\n",
       "2023     6838231.0\n",
       "2024     6216621.0\n",
       "2025     5651492.0\n",
       "2026     5137726.0\n",
       "2027     4670663.0\n",
       "2028     4246058.0\n",
       "dtype: float64"
      ]
     },
     "execution_count": 155,
     "metadata": {},
     "output_type": "execute_result"
    }
   ],
   "source": [
    "# Discounted yearly revenue\n",
    "disc_yearly_revenue = (yearly_revenue * discount).round()\n",
    "disc_yearly_revenue"
   ]
  },
  {
   "cell_type": "code",
   "execution_count": 164,
   "metadata": {},
   "outputs": [
    {
     "data": {
      "image/png": "[encoded data removed]",
      "text/plain": [
       "<Figure size 640x480 with 1 Axes>"
      ]
     },
     "metadata": {},
     "output_type": "display_data"
    }
   ],
   "source": [
    "# Discounted Yearly Revenue vs Yearly Revenue\n",
    "plt.bar(disc_yearly_revenue.index, disc_yearly_revenue)\n",
    "plt.plot(yearly_revenue)\n",
    "plt.show()"
   ]
  },
  {
   "cell_type": "code",
   "execution_count": 156,
   "metadata": {},
   "outputs": [
    {
     "data": {
      "text/plain": [
       "2018    10995966.0\n",
       "2019    21002171.0\n",
       "2020    30101959.0\n",
       "2021    38375640.0\n",
       "2022    45897548.0\n",
       "2023    52735779.0\n",
       "2024    58952400.0\n",
       "2025    64603892.0\n",
       "2026    69741618.0\n",
       "2027    74412281.0\n",
       "2028    78658339.0\n",
       "dtype: float64"
      ]
     },
     "execution_count": 156,
     "metadata": {},
     "output_type": "execute_result"
    }
   ],
   "source": [
    "# Discounted cumulative revenue\n",
    "disc_cumulated_revenue = disc_yearly_revenue.cumsum().round()\n",
    "disc_cumulated_revenue"
   ]
  },
  {
   "cell_type": "code",
   "execution_count": 165,
   "metadata": {},
   "outputs": [
    {
     "data": {
      "image/png": "[encoded data removed]",
      "text/plain": [
       "<Figure size 640x480 with 1 Axes>"
      ]
     },
     "metadata": {},
     "output_type": "display_data"
    }
   ],
   "source": [
    "plt.bar(disc_cumulated_revenue.index, disc_cumulated_revenue)\n",
    "plt.show()"
   ]
  },
  {
   "cell_type": "code",
   "execution_count": 157,
   "metadata": {},
   "outputs": [
    {
     "data": {
      "text/plain": [
       "67662373.0"
      ]
     },
     "execution_count": 157,
     "metadata": {},
     "output_type": "execute_result"
    }
   ],
   "source": [
    "# database worth = Discounted cumulative revenue after 10 years -2018 revenue\n",
    "disc_cumulated_revenue.iloc[10] - yearly_revenue.iloc[0]"
   ]
  }
 ],
 "metadata": {
  "kernelspec": {
   "display_name": "Python 3 (ipykernel)",
   "language": "python",
   "name": "python3"
  },
  "language_info": {
   "codemirror_mode": {
    "name": "ipython",
    "version": 3
   },
   "file_extension": ".py",
   "mimetype": "text/x-python",
   "name": "python",
   "nbconvert_exporter": "python",
   "pygments_lexer": "ipython3",
   "version": "3.9.6"
  },
  "vscode": {
   "interpreter": {
    "hash": "c14970e027e926099a91893dfa0f11960d9c3c913196c58a4bc643a5b8ad87cb"
   }
  }
 },
 "nbformat": 4,
 "nbformat_minor": 2
}
